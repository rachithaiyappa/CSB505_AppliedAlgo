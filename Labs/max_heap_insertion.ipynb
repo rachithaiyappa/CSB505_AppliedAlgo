{
 "cells": [
  {
   "cell_type": "code",
   "execution_count": 4,
   "source": [
    "def insertion(S,e):\n",
    "    S.append(e)\n",
    "    i = len(S) - 1\n",
    "    swift_up(S,i)\n"
   ],
   "outputs": [],
   "metadata": {}
  },
  {
   "cell_type": "code",
   "execution_count": 5,
   "source": [
    "def swift_up(S,i):\n",
    "    print(i)\n",
    "    parent = S[i//2]\n",
    "    element = S[i]\n",
    "    if i == 0:\n",
    "        S[i//2],S[i] = S[i],S[i//2] \n",
    "        return\n",
    "    if parent < element:\n",
    "        S[i//2],S[i] = S[i],S[i//2]\n",
    "        swift_up(S,i//2)\n",
    "    else:\n",
    "        return"
   ],
   "outputs": [],
   "metadata": {}
  },
  {
   "cell_type": "code",
   "execution_count": 6,
   "source": [
    "S = []\n",
    "Input = [10,16,5,8,14,9,0,1,18]\n",
    "# Input = [10,16,5]\n",
    "\n",
    "for i in Input:\n",
    "    insertion(S,i)\n",
    "    print(S)"
   ],
   "outputs": [
    {
     "output_type": "stream",
     "name": "stdout",
     "text": [
      "0\n",
      "[10]\n",
      "1\n",
      "0\n",
      "[16, 10]\n",
      "2\n",
      "[16, 10, 5]\n",
      "3\n",
      "[16, 10, 5, 8]\n",
      "4\n",
      "2\n",
      "1\n",
      "[16, 14, 10, 8, 5]\n",
      "5\n",
      "[16, 14, 10, 8, 5, 9]\n",
      "6\n",
      "[16, 14, 10, 8, 5, 9, 0]\n",
      "7\n",
      "[16, 14, 10, 8, 5, 9, 0, 1]\n",
      "8\n",
      "4\n",
      "2\n",
      "1\n",
      "0\n",
      "[18, 16, 14, 8, 10, 9, 0, 1, 5]\n"
     ]
    }
   ],
   "metadata": {}
  },
  {
   "cell_type": "code",
   "execution_count": 86,
   "source": [
    "def swift_up(S,i):\n",
    "    print(i)\n",
    "    parent = S[i//2]\n",
    "    element = S[i]\n",
    "    # if (i//2) == 0:\n",
    "    #     S[i//2],S[i] = S[i],S[i//2] \n",
    "    #     return\n",
    "    if parent < element:\n",
    "        S[i//2],S[i] = S[i],S[i//2]\n",
    "        swift_up(S,i//2)\n",
    "    else:\n",
    "        return"
   ],
   "outputs": [],
   "metadata": {}
  },
  {
   "cell_type": "code",
   "execution_count": 87,
   "source": [
    "S = []\n",
    "Input = [10,16,5,8,14,9,0,1,18]\n",
    "# Input = [10,16,5]\n",
    "\n",
    "for i in Input:\n",
    "    insertion(S,i)\n",
    "    print(S)"
   ],
   "outputs": [
    {
     "output_type": "stream",
     "name": "stdout",
     "text": [
      "0\n",
      "[10]\n",
      "1\n",
      "0\n",
      "[16, 10]\n",
      "2\n",
      "[16, 10, 5]\n",
      "3\n",
      "[16, 10, 5, 8]\n",
      "4\n",
      "2\n",
      "1\n",
      "[16, 14, 10, 8, 5]\n",
      "5\n",
      "[16, 14, 10, 8, 5, 9]\n",
      "6\n",
      "[16, 14, 10, 8, 5, 9, 0]\n",
      "7\n",
      "[16, 14, 10, 8, 5, 9, 0, 1]\n",
      "8\n",
      "4\n",
      "2\n",
      "1\n",
      "0\n",
      "[18, 16, 14, 8, 10, 9, 0, 1, 5]\n"
     ]
    }
   ],
   "metadata": {}
  }
 ],
 "metadata": {
  "orig_nbformat": 4,
  "language_info": {
   "name": "python",
   "version": "3.7.4",
   "mimetype": "text/x-python",
   "codemirror_mode": {
    "name": "ipython",
    "version": 3
   },
   "pygments_lexer": "ipython3",
   "nbconvert_exporter": "python",
   "file_extension": ".py"
  },
  "kernelspec": {
   "name": "python3",
   "display_name": "Python 3.7.4 64-bit ('base': conda)"
  },
  "interpreter": {
   "hash": "5e32c17b15a225dea6058845226a4c80c1a365e65777d5c14d0fccc08bcf000f"
  }
 },
 "nbformat": 4,
 "nbformat_minor": 2
}