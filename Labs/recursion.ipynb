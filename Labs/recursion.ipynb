{
 "cells": [
  {
   "cell_type": "code",
   "execution_count": 177,
   "source": [
    "def f(x,n):\n",
    "    i = 0\n",
    "    def f_inner(x,n,i):\n",
    "        if n%2==0:\n",
    "            if i == n/2:\n",
    "                return 1\n",
    "            else:\n",
    "                return x*f_inner(x,n,i+1)\n",
    "        if ((n-1)/2)%2==0:\n",
    "            if i == (n-1)/2:\n",
    "                return 1\n",
    "            else:\n",
    "                return x*f_inner(x,n,i+1)\n",
    "        \n",
    "    if n == 0:\n",
    "        return 1\n",
    "    if (n>0) and (n%2==0):\n",
    "        return f_inner(x,n,i)**2\n",
    "    if (n>0) and ((n-1)%2==0):\n",
    "        return x*(f_inner(x,n,i)**2)\n",
    "\n",
    "\n",
    "        \n",
    "\n",
    "print(f(2,10))"
   ],
   "outputs": [
    {
     "output_type": "stream",
     "name": "stdout",
     "text": [
      "1024\n"
     ]
    }
   ],
   "metadata": {}
  },
  {
   "cell_type": "code",
   "execution_count": 150,
   "source": [
    "def g(x,n):\n",
    "    if n==0:\n",
    "        return 1\n",
    "    elif (n>0) and (n%2==0):\n",
    "        return g(x,n/2)**2\n",
    "    elif (n>0) and ((n-1)%2==0):\n",
    "        return x*(g(x,(n-1)/2)**2)\n",
    "    \n",
    "print(g(2,9))"
   ],
   "outputs": [
    {
     "output_type": "stream",
     "name": "stdout",
     "text": [
      "512\n"
     ]
    }
   ],
   "metadata": {}
  },
  {
   "cell_type": "code",
   "execution_count": 40,
   "source": [
    "from timeit import default_timer\n",
    "\n",
    "n = [0,1,10,100,1000,10000,100000,1000000]\n",
    "x = 2\n",
    "\n"
   ],
   "outputs": [
    {
     "output_type": "execute_result",
     "data": {
      "text/plain": [
       "64"
      ]
     },
     "metadata": {},
     "execution_count": 40
    }
   ],
   "metadata": {}
  }
 ],
 "metadata": {
  "orig_nbformat": 4,
  "language_info": {
   "name": "python",
   "version": "3.7.4",
   "mimetype": "text/x-python",
   "codemirror_mode": {
    "name": "ipython",
    "version": 3
   },
   "pygments_lexer": "ipython3",
   "nbconvert_exporter": "python",
   "file_extension": ".py"
  },
  "kernelspec": {
   "name": "python3",
   "display_name": "Python 3.7.4 64-bit ('base': conda)"
  },
  "interpreter": {
   "hash": "5e32c17b15a225dea6058845226a4c80c1a365e65777d5c14d0fccc08bcf000f"
  }
 },
 "nbformat": 4,
 "nbformat_minor": 2
}