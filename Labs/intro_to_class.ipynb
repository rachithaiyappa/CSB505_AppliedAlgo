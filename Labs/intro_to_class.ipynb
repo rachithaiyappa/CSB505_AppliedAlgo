{
 "cells": [
  {
   "cell_type": "markdown",
   "metadata": {},
   "source": [
    "# Introduction to Classes\n",
    "\n",
    "In this notebook, we will work on the following:\n",
    "\n",
    "- Classes and instances\n",
    "- Data and methods\n",
    "- Encapsulation\n",
    "- Inheritance\n",
    "- Polymorphism\n",
    "- Abstract class"
   ]
  },
  {
   "cell_type": "markdown",
   "metadata": {},
   "source": [
    "## Why we need object-oriented programming\n",
    "\n",
    "- An object can be viewed as a collection of stuff that has same properties and functions\n",
    "- An object can interacte with other objects thus simulating the real world sceneria\n",
    "\n",
    "### Example in Geometry\n",
    "A point in a plan can be represented by its x-axis and y-axis.\n",
    "\n",
    "A line in a plance can be represented by (1) two points; (2) one point and one angle\n",
    "\n",
    "A circle in a plane can be represented by (1) one point and its radius; (2) thress points not in the same line\n",
    "\n"
   ]
  },
  {
   "cell_type": "markdown",
   "metadata": {},
   "source": [
    "## Classes and instances\n",
    "\n",
    "Class is a user-defined prototype for an object. \n"
   ]
  },
  {
   "cell_type": "code",
   "execution_count": null,
   "metadata": {},
   "outputs": [],
   "source": [
    "# If we want to track students in our university\n",
    "# We could represent a student in a list\n",
    "\n",
    "# name, age, degree, GPA\n",
    "s1 = [\"Micheal\", 23, \"Master\", 3.5]\n",
    "s2 = [\"Michelle\", 20, \"Bachelor\", 3.8]\n",
    "\n",
    "# But there are many issues with such representation, for example the following is allowed\n",
    "s3 = [20, \"Msssster\", 23]"
   ]
  },
  {
   "cell_type": "code",
   "execution_count": null,
   "metadata": {},
   "outputs": [],
   "source": [
    "# Define a class: (1) class keyword, (2) name of the class and (3) a colon\n",
    "\n",
    "class Dog:\n",
    "    pass\n"
   ]
  },
  {
   "cell_type": "markdown",
   "metadata": {},
   "source": [
    "### Class can be viewed as two parts: data and methods\n",
    "\n",
    "Data in a class is often called attributes.\n",
    "\n",
    "Methods in a class are often called member methods."
   ]
  },
  {
   "cell_type": "code",
   "execution_count": null,
   "metadata": {},
   "outputs": [],
   "source": [
    "# Initialize the class\n",
    "# __init__() sets the initial state of the object\n",
    "\n",
    "class Dog:\n",
    "    # The first parameter will always be: self\n",
    "    def __init__(self, name, age):\n",
    "        self.name = name\n",
    "        self.age = age\n",
    "        \n",
    "  \n",
    "# This creates two new Dog instances\n",
    "a = Dog(\"Ale\", 8)\n",
    "b = Dog(\"Bale\", 9)"
   ]
  },
  {
   "cell_type": "code",
   "execution_count": null,
   "metadata": {},
   "outputs": [],
   "source": [
    "# Access the data by name\n",
    "print(\"My name is {} and I am {} years old\".format(a.name, a.age))\n",
    "print(\"My name is {} and I am {} years old\".format(b.name, b.age))"
   ]
  },
  {
   "cell_type": "code",
   "execution_count": null,
   "metadata": {},
   "outputs": [],
   "source": [
    "# Change the data\n",
    "a.name = \"Alice\"\n",
    "print(\"My name is {} and I am {} years old\".format(a.name, a.age))\n",
    "\n",
    "b.age = 10\n",
    "print(\"My name is {} and I am {} years old\".format(b.name, b.age))"
   ]
  },
  {
   "cell_type": "markdown",
   "metadata": {},
   "source": [
    "#### Class vs instance\n",
    "- Dog class has property name and age, but it does not contain real data\n",
    "- Dog instances (a and b) are built from a class and contain real data"
   ]
  },
  {
   "cell_type": "markdown",
   "metadata": {},
   "source": [
    "#### Instance methods \n",
    "\n",
    "are functions that are defined inside a class and can only be called from an instance of that class"
   ]
  },
  {
   "cell_type": "code",
   "execution_count": null,
   "metadata": {},
   "outputs": [],
   "source": [
    "class Dog:\n",
    "    def __init__(self, name, age):\n",
    "        self.name = name\n",
    "        self.age = age\n",
    "\n",
    "    # Instance methods\n",
    "    def introduce(self):\n",
    "        print(\"My name is {} and I am {} years old\".format(self.name, self.age))\n",
    "\n",
    "    # Another instance method\n",
    "    def speak(self):\n",
    "        print(\"{} says Bark\".format(self.name))\n",
    "        \n",
    "\n",
    "c = Dog(\"Ale\", 8)\n",
    "d = Dog(\"Bale\", 9)\n",
    "\n",
    "# Call instance methods\n",
    "c.introduce()\n",
    "d.speak()"
   ]
  },
  {
   "cell_type": "markdown",
   "metadata": {},
   "source": [
    "#### Dunder methods \n",
    "\n",
    "are methods that begin and end with double underscores"
   ]
  },
  {
   "cell_type": "code",
   "execution_count": null,
   "metadata": {},
   "outputs": [],
   "source": [
    "# __str__() defines how you print the instance\n",
    "\n",
    "class Dog:\n",
    "    def __init__(self, name, age):\n",
    "        self.name = name\n",
    "        self.age = age\n",
    "    \n",
    "    def __str__(self):\n",
    "        return \"My name is {} and I am {} years old\".format(self.name, self.age)\n",
    "  \n",
    "e = Dog(\"Ale\", 8)\n",
    "print(e)"
   ]
  },
  {
   "cell_type": "markdown",
   "metadata": {},
   "source": [
    "### Encapsulation\n",
    "\n",
    "An OOP concept that bundles the data with the methods that operate on that data.\n"
   ]
  },
  {
   "cell_type": "code",
   "execution_count": null,
   "metadata": {},
   "outputs": [],
   "source": [
    "# You want to control how people can change the \"age\" attribute\n",
    "\n",
    "class Dog:\n",
    "    def __init__(self, name, age):\n",
    "        self.name = name\n",
    "        self.age = age\n",
    "        \n",
    "    def set_age(self, age):\n",
    "        if age > 50:\n",
    "            raise ValueError(\"Sorry the input age cannot be true\")\n",
    "        elif age < 0:\n",
    "            raise ValueError(\"Sorry the input age cannot be negative\")\n",
    "        else:\n",
    "            self.age = age\n",
    "\n",
    "# This will stop you when you call set_age()\n",
    "f = Dog(\"Ale\", 8)\n",
    "try:\n",
    "    f.set_age(100)\n",
    "except ValueError:\n",
    "    print(\"ValueError encounter\")"
   ]
  },
  {
   "cell_type": "code",
   "execution_count": null,
   "metadata": {},
   "outputs": [],
   "source": [
    "# But this is still allowed\n",
    "f.age = 100\n",
    "print(f.age)"
   ]
  },
  {
   "cell_type": "markdown",
   "metadata": {},
   "source": [
    "#### Getter and Setter\n",
    "\n",
    "To ensure encapsulation by\n",
    "\n",
    "- avoid direct access of a class data\n",
    "- add validation logic around getting and setting a value\n"
   ]
  },
  {
   "cell_type": "code",
   "execution_count": null,
   "metadata": {},
   "outputs": [],
   "source": [
    "class Dog:\n",
    "    def __init__(self, name, age):\n",
    "        self.name = name\n",
    "        self.__age = age\n",
    "        \n",
    "    @property\n",
    "    def age(self):\n",
    "        return self.__age\n",
    "    \n",
    "    @age.setter\n",
    "    def age(self, age):\n",
    "        if age > 50:\n",
    "            raise ValueError(\"Sorry the input age cannot be true\")\n",
    "        elif age < 0:\n",
    "            raise ValueError(\"Sorry the input age cannot be negative\")\n",
    "        else:\n",
    "            self.__age = age\n",
    "            \n",
    "g = Dog(\"Ale\", 8)\n",
    "# You could still use the access and change in a normal way\n",
    "g.age = 10\n",
    "print(g.age)"
   ]
  },
  {
   "cell_type": "code",
   "execution_count": null,
   "metadata": {},
   "outputs": [],
   "source": [
    "# But this will behave as we wanted\n",
    "try:\n",
    "    g.age = 100\n",
    "except ValueError:\n",
    "    print(\"ValueError encounter\")\n",
    "    \n",
    "# Before getter and setter, g.age = 100 will change the age to 100\n",
    "# After property, g.age = 100 will be prohibited"
   ]
  },
  {
   "cell_type": "markdown",
   "metadata": {},
   "source": [
    "## Inheritance and Polymorphism\n",
    "\n",
    "Inheritance is the process by which one class takes on the attributes and methods of another. \n",
    "\n",
    "The newly formed classes are child classes, and the classes that child classes are derived from are called parent classes.\n",
    "\n",
    "Child classes can override or extend the attributes and methods of parent classes\n"
   ]
  },
  {
   "cell_type": "markdown",
   "metadata": {},
   "source": [
    "#### Our mission\n",
    "\n",
    "For example, there are many breeds of dogs then we could use child class to represent a specific kind.\n",
    "\n",
    "Our mission: define some dog classes that can behave different based on their breeds."
   ]
  },
  {
   "cell_type": "code",
   "execution_count": null,
   "metadata": {},
   "outputs": [],
   "source": [
    "# One way is to (1) define a new member breed and (2) change speak() method\n",
    "class Dog:\n",
    "    def __init__(self, name, age, breed):\n",
    "        self.name = name\n",
    "        self.age = age\n",
    "        # new member\n",
    "        self.breed = breed \n",
    "\n",
    "    # Instance methods\n",
    "    def introduce(self):\n",
    "        print(\"My name is {} and I am {} years old\".format(self.name, self.age))\n",
    "\n",
    "    # Another instance method\n",
    "    def speak(self):\n",
    "        if self.breed == \"Bulldog\":\n",
    "            print(\"{} says Yap\".format(self.name))\n",
    "        elif self.breed == \"Border Collie\":\n",
    "            print(\"{} says Woof\".format(self.name))\n",
    "        else:\n",
    "            print(\"{} says Bark\".format(self.name))  "
   ]
  },
  {
   "cell_type": "code",
   "execution_count": null,
   "metadata": {},
   "outputs": [],
   "source": [
    "# One more elegant way is to use inheritance and polymorphism\n",
    "\n",
    "# parent class difinition\n",
    "class Dog:\n",
    "    def __init__(self, name, age):\n",
    "        self.name = name\n",
    "        self.age = age\n",
    "\n",
    "    # Instance methods\n",
    "    def introduce(self):\n",
    "        print(\"My name is {} and I am {} years old\".format(self.name, self.age))\n",
    "\n",
    "    # Another instance method\n",
    "    def speak(self):\n",
    "        print(\"{} says Bark\".format(self.name))  "
   ]
  },
  {
   "cell_type": "code",
   "execution_count": null,
   "metadata": {},
   "outputs": [],
   "source": [
    "# Define a child class derived from Dog class\n",
    "\n",
    "class BorderCollie(Dog):\n",
    "    pass\n",
    "\n",
    "class Bulldog(Dog):\n",
    "    pass\n",
    "\n",
    "collie = BorderCollie(\"Audrey\", 5)\n",
    "bull = Bulldog(\"Ruco\", 4)"
   ]
  },
  {
   "cell_type": "code",
   "execution_count": null,
   "metadata": {},
   "outputs": [],
   "source": [
    "# child class already has the data and methods of the parent class\n",
    "collie.introduce()\n",
    "collie.speak()\n",
    "bull.speak()\n",
    "print(collie.age)"
   ]
  },
  {
   "cell_type": "code",
   "execution_count": null,
   "metadata": {},
   "outputs": [],
   "source": [
    "# child class overide the parent class method\n",
    "class BorderCollie(Dog):\n",
    "    def speak(self):\n",
    "        print(\"{} says Woof\".format(self.name))\n",
    "\n",
    "class Bulldog(Dog):\n",
    "    def speak(self):\n",
    "        print(\"{} says Yap\".format(self.name))\n",
    "\n",
    "collie = BorderCollie(\"Audrey\", 5)\n",
    "bull = Bulldog(\"Ruko\", 6)\n",
    "\n",
    "collie.speak()\n",
    "bull.speak()"
   ]
  },
  {
   "cell_type": "code",
   "execution_count": null,
   "metadata": {},
   "outputs": [],
   "source": [
    "# child class can also extend the parent class\n",
    "# border collie is a kind of shepherd dog\n",
    "class Sheep:\n",
    "    pass\n",
    "\n",
    "class BorderCollie(Dog):\n",
    "    def speak(self):\n",
    "        print(\"{} says Woof\".format(self.name))\n",
    "    def shepherd(self, sheep):\n",
    "        print(\"I am having fun with sheep\")"
   ]
  },
  {
   "cell_type": "markdown",
   "metadata": {},
   "source": [
    "## Abstract Class\n",
    "\n",
    "An abstract class can be considered as a blueprint for other classes.\n",
    "\n",
    "A common usage of abstract class is to define Application Program Interface(API)"
   ]
  },
  {
   "cell_type": "code",
   "execution_count": null,
   "metadata": {},
   "outputs": [],
   "source": [
    "from abc import ABC, abstractmethod\n",
    "# key word @abstractmethod\n",
    "class Animal(ABC):\n",
    "    @abstractmethod\n",
    "    def speak(self):\n",
    "        pass\n",
    "\n",
    "class Dog(Animal):\n",
    "    pass\n"
   ]
  },
  {
   "cell_type": "code",
   "execution_count": null,
   "metadata": {},
   "outputs": [],
   "source": [
    "# The following line will give error\n",
    "#Animal()\n",
    "\n",
    "# The reason is that we cannot instantiate abstract class Animal with abstract methods speak()"
   ]
  },
  {
   "cell_type": "code",
   "execution_count": null,
   "metadata": {},
   "outputs": [],
   "source": [
    "# The following line will give error\n",
    "#Dog()\n",
    "\n",
    "# The reason is that Dog class is required to implement the speak() method like the following\n",
    "class Dog(Animal):\n",
    "    def speak(self):\n",
    "        print(\"Bark\")\n",
    "        \n",
    "dog = Dog()\n",
    "dog.speak()\n",
    "a = Animal()"
   ]
  },
  {
   "cell_type": "markdown",
   "metadata": {},
   "source": [
    "#### Define data structure by abstract class\n",
    "\n",
    "We can design a data structure that can add data, find data and delete data."
   ]
  },
  {
   "cell_type": "code",
   "execution_count": null,
   "metadata": {},
   "outputs": [],
   "source": [
    "from abc import ABC\n",
    "class OurDataStructure(ABC):\n",
    "    @abstractmethod\n",
    "    def add(self, data):\n",
    "        pass\n",
    "    @abstractmethod\n",
    "    def find(self, data):\n",
    "        pass\n",
    "    @abstractmethod\n",
    "    def delete(self, data):\n",
    "        pass\n",
    "\n",
    "# Then we can define OurList, OurVector and OurBinaryTree derived from OurDataStr"
   ]
  },
  {
   "cell_type": "code",
   "execution_count": null,
   "metadata": {},
   "outputs": [],
   "source": []
  }
 ],
 "metadata": {
  "kernelspec": {
   "display_name": "Python 3",
   "language": "python",
   "name": "python3"
  },
  "language_info": {
   "codemirror_mode": {
    "name": "ipython",
    "version": 3
   },
   "file_extension": ".py",
   "mimetype": "text/x-python",
   "name": "python",
   "nbconvert_exporter": "python",
   "pygments_lexer": "ipython3",
   "version": "3.7.2"
  }
 },
 "nbformat": 4,
 "nbformat_minor": 2
}
