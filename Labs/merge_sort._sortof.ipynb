{
 "cells": [
  {
   "cell_type": "code",
   "execution_count": 32,
   "source": [
    "l1 = [2,8,7,4]\n",
    "l2 = [11,3,1]\n",
    "\n",
    "l1.sort()\n",
    "l2.sort()"
   ],
   "outputs": [],
   "metadata": {}
  },
  {
   "cell_type": "code",
   "execution_count": 60,
   "source": [
    "def m_sort(l1,l2):\n",
    "\n",
    "    l1.sort()\n",
    "    l2.sort()\n",
    "\n",
    "    output = []\n",
    "    i = 0\n",
    "    j = 0\n",
    "\n",
    "    while len(output) < (len(l1)+len(l2)):\n",
    "        if l1[i] < l2[j]:\n",
    "            output.append(l1[i])\n",
    "            i += 1\n",
    "            if i>=len(l1):\n",
    "                output.extend(l2[j:])\n",
    "        else:\n",
    "            output.append(l2[j])\n",
    "            j += 1\n",
    "            if j>=len(l2):\n",
    "                output.extend(l2[i:])\n",
    "    return output\n",
    "            "
   ],
   "outputs": [],
   "metadata": {}
  },
  {
   "cell_type": "code",
   "execution_count": 97,
   "source": [
    "l1 = [2,9,7,4]\n",
    "l2 = [11,9,1,1]\n",
    "\n",
    "m_sort(l1,l2)"
   ],
   "outputs": [
    {
     "output_type": "execute_result",
     "data": {
      "text/plain": [
       "[1, 1, 2, 4, 7, 9, 9, 11]"
      ]
     },
     "metadata": {},
     "execution_count": 97
    }
   ],
   "metadata": {}
  },
  {
   "cell_type": "code",
   "execution_count": 155,
   "source": [
    "output =[]\n",
    "def split_into_singles(S,output):\n",
    "    n = len(S)\n",
    "    if n==1:\n",
    "        return output.append(S)\n",
    "    else:\n",
    "        split_into_singles(S[:int(n/2)],output)\n",
    "        split_into_singles(S[int(n/2):],output)\n",
    "            "
   ],
   "outputs": [],
   "metadata": {}
  },
  {
   "cell_type": "code",
   "execution_count": 156,
   "source": [
    "split_into_singles([1,2,3,4,5,6,7,8],output)"
   ],
   "outputs": [],
   "metadata": {}
  },
  {
   "cell_type": "code",
   "execution_count": 157,
   "source": [
    "output"
   ],
   "outputs": [
    {
     "output_type": "execute_result",
     "data": {
      "text/plain": [
       "[[1], [2], [3], [4], [5], [6], [7], [8]]"
      ]
     },
     "metadata": {},
     "execution_count": 157
    }
   ],
   "metadata": {}
  }
 ],
 "metadata": {
  "orig_nbformat": 4,
  "language_info": {
   "name": "python",
   "version": "3.7.4",
   "mimetype": "text/x-python",
   "codemirror_mode": {
    "name": "ipython",
    "version": 3
   },
   "pygments_lexer": "ipython3",
   "nbconvert_exporter": "python",
   "file_extension": ".py"
  },
  "kernelspec": {
   "name": "python3",
   "display_name": "Python 3.7.4 64-bit ('base': conda)"
  },
  "interpreter": {
   "hash": "5e32c17b15a225dea6058845226a4c80c1a365e65777d5c14d0fccc08bcf000f"
  }
 },
 "nbformat": 4,
 "nbformat_minor": 2
}