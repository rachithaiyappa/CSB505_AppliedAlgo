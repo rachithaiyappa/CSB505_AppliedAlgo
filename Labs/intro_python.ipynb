{
 "cells": [
  {
   "cell_type": "markdown",
   "metadata": {},
   "source": [
    "# Introduction to Python\n",
    "\n",
    "In this notebook, we will work on the following:\n",
    "\n",
    "- Basic data types\n",
    "- Control flow\n",
    "- Functions and methods\n",
    "- Built-in data structures"
   ]
  },
  {
   "cell_type": "markdown",
   "metadata": {},
   "source": [
    "## Basic data types\n",
    "\n",
    "### Integers"
   ]
  },
  {
   "cell_type": "code",
   "execution_count": null,
   "metadata": {},
   "outputs": [],
   "source": [
    "# To create an int, we can just assign a number without a decimal to a variable\n",
    "a = 3\n",
    "b = 2\n",
    "print(a)\n",
    "print(b)"
   ]
  },
  {
   "cell_type": "code",
   "execution_count": null,
   "metadata": {},
   "outputs": [],
   "source": [
    "# Basic arithmetic. The results are also integers\n",
    "print('Addition:        {}'.format(a+b))\n",
    "print('Subtraction:     {}'.format(a-b))\n",
    "print('Multiplication:  {}'.format(a*b))\n",
    "print('Exponentiation:  {}'.format(a**b))"
   ]
  },
  {
   "cell_type": "code",
   "execution_count": null,
   "metadata": {},
   "outputs": [],
   "source": [
    "# Division does not work this way, but we can use floor division\n",
    "print('Division:        {}'.format(b/a))\n",
    "print('Floor Division:  {}'.format(b//a))"
   ]
  },
  {
   "cell_type": "markdown",
   "metadata": {},
   "source": [
    "### Floats\n",
    "\n",
    "Anything with a float returns a float."
   ]
  },
  {
   "cell_type": "code",
   "execution_count": null,
   "metadata": {},
   "outputs": [],
   "source": [
    "c = 4\n",
    "d = 1.1\n",
    "e = 3.0\n",
    "\n",
    "print('Addition:        {}'.format(c+d))\n",
    "print('Subtraction:     {}'.format(c-d))\n",
    "print('Multiplication:  {}'.format(c*e))"
   ]
  },
  {
   "cell_type": "code",
   "execution_count": null,
   "metadata": {},
   "outputs": [],
   "source": [
    "# Convert to int may loose something\n",
    "int(c - d)"
   ]
  },
  {
   "cell_type": "code",
   "execution_count": null,
   "metadata": {},
   "outputs": [],
   "source": [
    "# Conver to int through module 'math'\n",
    "import math\n",
    "print('Round up:    {}'.format(math.ceil(d)))\n",
    "print('Round down:  {}'.format(math.floor(d)))"
   ]
  },
  {
   "cell_type": "markdown",
   "metadata": {},
   "source": [
    "### Strings\n",
    "\n",
    "We denote a string with single `'` or double `\"` quote characters."
   ]
  },
  {
   "cell_type": "code",
   "execution_count": null,
   "metadata": {},
   "outputs": [],
   "source": [
    "# We could use to output formated text\n",
    "course_name = \"B505\"\n",
    "num_students = 300\n",
    "print(\"Course {} has more than {} students\".format(course_name, num_students))"
   ]
  },
  {
   "cell_type": "code",
   "execution_count": null,
   "metadata": {},
   "outputs": [],
   "source": [
    "# Do not get confused by string and number. Numbers with quote are acturally strings.\n",
    "s = '6'\n",
    "i = 6\n",
    "print(type(s))\n",
    "print(type(i))\n",
    "\n",
    "print(s*6)\n",
    "print(i*6)"
   ]
  },
  {
   "cell_type": "code",
   "execution_count": null,
   "metadata": {},
   "outputs": [],
   "source": [
    "# Will get error!\n",
    "try:\n",
    "    s+i\n",
    "except TypeError:\n",
    "    print(\"s is of type {} but i is of type {}.\".format(type(s), type(i)))"
   ]
  },
  {
   "cell_type": "markdown",
   "metadata": {},
   "source": [
    "### Booleans"
   ]
  },
  {
   "cell_type": "code",
   "execution_count": null,
   "metadata": {},
   "outputs": [],
   "source": [
    "# Only two values: True, False\n",
    "t = True\n",
    "f = False\n",
    "print(t)\n",
    "print(f)\n",
    "print('\\n')\n",
    "\n",
    "t = (3>2)\n",
    "f = (2>3)\n",
    "print(t)\n",
    "print(f)"
   ]
  },
  {
   "cell_type": "code",
   "execution_count": null,
   "metadata": {},
   "outputs": [],
   "source": [
    "# We could use logical operators on booleans: not, and, or\n",
    "t and f"
   ]
  },
  {
   "cell_type": "code",
   "execution_count": null,
   "metadata": {},
   "outputs": [],
   "source": [
    "t or f"
   ]
  },
  {
   "cell_type": "code",
   "execution_count": null,
   "metadata": {},
   "outputs": [],
   "source": [
    "not t"
   ]
  },
  {
   "cell_type": "code",
   "execution_count": null,
   "metadata": {},
   "outputs": [],
   "source": [
    "# We often use it in control flow \n",
    "print( ((3>5) or ('s'!='t')) )"
   ]
  },
  {
   "cell_type": "markdown",
   "metadata": {},
   "source": [
    "## Control flow"
   ]
  },
  {
   "cell_type": "markdown",
   "metadata": {},
   "source": [
    "## if-elif-else\n",
    "\n",
    "The `if` statement allows us to test some condition and then do something if it is true."
   ]
  },
  {
   "cell_type": "code",
   "execution_count": null,
   "metadata": {},
   "outputs": [],
   "source": [
    "n = 8"
   ]
  },
  {
   "cell_type": "code",
   "execution_count": null,
   "metadata": {},
   "outputs": [],
   "source": [
    "# Note that this does not print anything.\n",
    "if n < 0:\n",
    "    print('n is a negative number.')"
   ]
  },
  {
   "cell_type": "code",
   "execution_count": null,
   "metadata": {},
   "outputs": [],
   "source": [
    "# The command will only be executed when the statement after 'if' is ture\n",
    "if n > 0:\n",
    "    print('n is a positive number.')"
   ]
  },
  {
   "cell_type": "code",
   "execution_count": null,
   "metadata": {},
   "outputs": [],
   "source": [
    "# We can also specify alternative tests using 'elif'\n",
    "# Then 'else' executed if all previous tests are False\n",
    "n = 0\n",
    "if n < 0:\n",
    "    print('n is a negative number.')    \n",
    "elif n > 0:\n",
    "    print('n is a positive number.')\n",
    "else:\n",
    "    print('n is zero.')"
   ]
  },
  {
   "cell_type": "markdown",
   "metadata": {},
   "source": [
    "## While loops\n",
    "\n",
    "While loops continue to do something while a condition is true.\n",
    "We need to provide a condition to make it stop at some point.\n",
    "We typically use one of two methods: some kind of counter or a `break` statement."
   ]
  },
  {
   "cell_type": "code",
   "execution_count": null,
   "metadata": {},
   "outputs": [],
   "source": [
    "n = 0\n",
    "while n < 5:\n",
    "    print('n is {}'.format(n))\n",
    "    n += 1"
   ]
  },
  {
   "cell_type": "code",
   "execution_count": null,
   "metadata": {},
   "outputs": [],
   "source": [
    "n = 0\n",
    "while True:\n",
    "    print('n is {}'.format(n))\n",
    "    n += 1\n",
    "    if n > 5:\n",
    "        break"
   ]
  },
  {
   "cell_type": "markdown",
   "metadata": {},
   "source": [
    "## For loops\n",
    "\n",
    "A `for` loop lets us do something for every item in a sequence.\n",
    "Aanything you can do with a `for` loop can be done with a `while` loop, but the `for` syntax is more convenient.\n",
    "\n",
    "`for` loop combined with lists will be very powerful."
   ]
  },
  {
   "cell_type": "code",
   "execution_count": null,
   "metadata": {},
   "outputs": [],
   "source": [
    "# The following is a list of numbers.\n",
    "l = [3, 5, 10, 7]\n",
    "print(l)\n",
    "\n",
    "# We compute the sum of the elements in the list.\n",
    "sum = 0\n",
    "for e in l:\n",
    "    sum += e\n",
    "print(sum)"
   ]
  },
  {
   "cell_type": "code",
   "execution_count": null,
   "metadata": {},
   "outputs": [],
   "source": [
    "# range() is acturally a sequence generator. Using 'list' function can also convert it to a list.\n",
    "print(list(range(5)))\n",
    "print(list(range(1, 5)))"
   ]
  },
  {
   "cell_type": "code",
   "execution_count": null,
   "metadata": {},
   "outputs": [],
   "source": [
    "# To compute a sun from 1 to 100\n",
    "sum = 0\n",
    "for e in range(1, 101):\n",
    "    sum += e\n",
    "print(sum)"
   ]
  },
  {
   "cell_type": "markdown",
   "metadata": {},
   "source": [
    "## Functions and methods\n",
    "\n",
    "Functions take input, do the computation and output the results.\n",
    "Methods are also functions but they are bound to particular classes."
   ]
  },
  {
   "cell_type": "code",
   "execution_count": null,
   "metadata": {},
   "outputs": [],
   "source": [
    "# Define a function by key word \"def\"\n",
    "def f_to_c(temp_f):\n",
    "    temp_c = (temp_f - 32) *5/9\n",
    "    return temp_c\n",
    "\n",
    "# input: tempature by Fahrenheit\n",
    "# computation: conver to tempature in Celsius\n",
    "# output: tempature by Celsius"
   ]
  },
  {
   "cell_type": "code",
   "execution_count": null,
   "metadata": {},
   "outputs": [],
   "source": [
    "# Call a function by its name\n",
    "f_to_c(32)"
   ]
  },
  {
   "cell_type": "code",
   "execution_count": null,
   "metadata": {},
   "outputs": [],
   "source": [
    "# stirng is a class. So it has methods.\n",
    "s = \"mY KEYboARd is NoT WORKinG weLl\"\n",
    "print(s)"
   ]
  },
  {
   "cell_type": "code",
   "execution_count": null,
   "metadata": {},
   "outputs": [],
   "source": [
    "# Try these three methods\n",
    "print(s.swapcase())\n",
    "print(s.lower())\n",
    "print(s.capitalize())"
   ]
  },
  {
   "cell_type": "code",
   "execution_count": null,
   "metadata": {},
   "outputs": [],
   "source": [
    "# By the way, strings are immutable.\n",
    "# After all the methods above, s is not changed\n",
    "print(s)"
   ]
  },
  {
   "cell_type": "markdown",
   "metadata": {},
   "source": [
    "## Built-in data structure\n",
    "\n",
    "We will just show how these data structures are created and changed, and how to access the data in the structures.\n",
    "\n",
    "### Lists"
   ]
  },
  {
   "cell_type": "code",
   "execution_count": null,
   "metadata": {},
   "outputs": [],
   "source": [
    "# Lists are used to store a sequence of data\n",
    "mixed_list = ['a', 2, False]\n",
    "print(mixed_list)"
   ]
  },
  {
   "cell_type": "code",
   "execution_count": null,
   "metadata": {},
   "outputs": [],
   "source": [
    "# Most of the time we store one type of data in lists\n",
    "a_list = ['Lists', 'are', 'our', 'friends']\n",
    "print(a_list)\n",
    "\n",
    "# Another way to generate a list\n",
    "n_list = [x for x in range(5)]\n",
    "print(n_list)"
   ]
  },
  {
   "cell_type": "code",
   "execution_count": null,
   "metadata": {},
   "outputs": [],
   "source": [
    "# Access with indices and slicing\n",
    "print(a_list[0])\n",
    "print(a_list[2])\n",
    "print(a_list[0:2])"
   ]
  },
  {
   "cell_type": "code",
   "execution_count": null,
   "metadata": {},
   "outputs": [],
   "source": [
    "# Access each element by for loop\n",
    "for e in a_list:\n",
    "    print(e)"
   ]
  },
  {
   "cell_type": "code",
   "execution_count": null,
   "metadata": {},
   "outputs": [],
   "source": [
    "# Index begin from 0\n",
    "print(a_list[1])\n",
    "\n",
    "# In slicing, first index is inclusive but the second index is exclusive \n",
    "print(a_list[1:4])"
   ]
  },
  {
   "cell_type": "code",
   "execution_count": null,
   "metadata": {},
   "outputs": [],
   "source": [
    "# Add to end by 'append' and remove the end by 'pop'. These are the methods of list class.\n",
    "a_list.append('?')\n",
    "print(a_list)\n",
    "\n",
    "a_list.pop()\n",
    "a_list.append('!')\n",
    "print(a_list)"
   ]
  },
  {
   "cell_type": "markdown",
   "metadata": {},
   "source": [
    "### Dictionaries"
   ]
  },
  {
   "cell_type": "code",
   "execution_count": null,
   "metadata": {},
   "outputs": [],
   "source": [
    "# Dictionaries are used to store key value pairs. 'A' is the key and '1' is the value.\n",
    "a_dict = {'A': 1, 'B': 2, 'C': 3}\n",
    "print(a_dict)"
   ]
  },
  {
   "cell_type": "code",
   "execution_count": null,
   "metadata": {},
   "outputs": [],
   "source": [
    "# Access by key to get value\n",
    "a_dict['B']"
   ]
  },
  {
   "cell_type": "code",
   "execution_count": null,
   "metadata": {},
   "outputs": [],
   "source": [
    "# We can add new keys (or update existing ones) after creating the dictionary\n",
    "empty_dict = {}\n",
    "empty_dict['D'] = 4\n",
    "print(empty_dict)\n",
    "a_dict['A'] = 0\n",
    "a_dict['D'] = 4\n",
    "print(a_dict)"
   ]
  },
  {
   "cell_type": "code",
   "execution_count": null,
   "metadata": {},
   "outputs": [],
   "source": [
    "# We can also combine dictionaries using the update method.\n",
    "b_dict = {'E': 5, 'F': 6}\n",
    "print(b_dict)\n",
    "a_dict.update(b_dict)\n",
    "print(a_dict)"
   ]
  }
 ],
 "metadata": {
  "kernelspec": {
   "display_name": "Python 3",
   "language": "python",
   "name": "python3"
  },
  "language_info": {
   "codemirror_mode": {
    "name": "ipython",
    "version": 3
   },
   "file_extension": ".py",
   "mimetype": "text/x-python",
   "name": "python",
   "nbconvert_exporter": "python",
   "pygments_lexer": "ipython3",
   "version": "3.7.2"
  }
 },
 "nbformat": 4,
 "nbformat_minor": 2
}
