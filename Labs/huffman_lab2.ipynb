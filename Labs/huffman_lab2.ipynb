{
 "cells": [
  {
   "cell_type": "code",
   "execution_count": 1,
   "metadata": {},
   "outputs": [],
   "source": [
    "from collections import Counter"
   ]
  },
  {
   "cell_type": "code",
   "execution_count": 2,
   "metadata": {},
   "outputs": [],
   "source": [
    "class Node:\n",
    "    def __init__(self, char, frequency, left=None, right=None):\n",
    "        self.char = char\n",
    "        self.frequency = frequency\n",
    "        self.left = left\n",
    "        self.right = right"
   ]
  },
  {
   "cell_type": "code",
   "execution_count": 3,
   "metadata": {},
   "outputs": [],
   "source": [
    "# define class binary tree\n",
    "class BinaryTree:\n",
    "    def __init__(self, root):\n",
    "        self.root = root   # class Node\n",
    "        self.frequency = root.frequency  # to simplify heap implementation"
   ]
  },
  {
   "cell_type": "code",
   "execution_count": 4,
   "metadata": {},
   "outputs": [],
   "source": [
    "# Combine two binary trees into one\n",
    "def new_binary_tree(T1, T2):\n",
    "    root_T1 = T1.root\n",
    "    root_T2 = T2.root\n",
    "    freq_T1 = T1.root.frequency\n",
    "    freq_T2 = T2.root.frequency\n",
    "    root = Node(None, freq_T1+freq_T2, root_T1, root_T2)\n",
    "    return BinaryTree(root)"
   ]
  },
  {
   "cell_type": "code",
   "execution_count": 5,
   "metadata": {},
   "outputs": [],
   "source": [
    "# Tree traverasal algorithm to present final results\n",
    "def in_order(node, code):\n",
    "    # reach leaf\n",
    "    if (not node.left) and (not node.right):\n",
    "        print(\"Char {} with code {} and frequency {}\".format(node.char, code, node.frequency))\n",
    "    if node.left:\n",
    "        new_code = code + \"0\"\n",
    "        in_order(node.left, new_code)\n",
    "    if node.right:\n",
    "        new_code = code + \"1\"\n",
    "        in_order(node.right, new_code)\n",
    "        \n",
    "def in_order_traversal(T):\n",
    "    in_order(T.root, \"\")\n",
    "    "
   ]
  },
  {
   "cell_type": "code",
   "execution_count": 12,
   "metadata": {},
   "outputs": [],
   "source": [
    "class PriorityQueue:\n",
    "    def __init__(self):\n",
    "        # put index 0 to empty, use index 1 as start\n",
    "        self.queue = [None]\n",
    "        self.size = 0\n",
    "    \n",
    "    def insert(self, tree):\n",
    "        self.queue.append(tree)\n",
    "        self.size += 1\n",
    "        self.swift_up(self.size)\n",
    "        \n",
    "    def remove_min(self):\n",
    "        # check for boundary condition\n",
    "        if self.size == 0:\n",
    "            print(\"The queue is already empty\")\n",
    "            return\n",
    "        if self.size == 1:\n",
    "            self.size = 0\n",
    "            return self.queue.pop()\n",
    "        # remove the last element\n",
    "        tmp = self.queue.pop()\n",
    "        # store the first element to return\n",
    "        res = self.queue[1]\n",
    "        # move last element to first\n",
    "        self.queue[1] = tmp\n",
    "        # call swift_down\n",
    "        self.size -= 1\n",
    "        self.swift_down(1)\n",
    "        return res\n",
    "        \n",
    "    def swift_up(self, index):\n",
    "        if index == 1:\n",
    "            return\n",
    "        node = self.queue[index]\n",
    "        parent = self.queue[index // 2]\n",
    "        if node.frequency < parent.frequency:\n",
    "            self.queue[index // 2], self.queue[index] = self.queue[index], self.queue[index//2]\n",
    "            self.swift_up(index//2)\n",
    "        else:\n",
    "            return\n",
    "\n",
    "    \n",
    "    def swift_down(self, index):\n",
    "        node = self.queue[index]\n",
    "        left_index = 2*index\n",
    "        right_index = 2*index+1\n",
    "        min_frequency = -1\n",
    "        # both index out of range\n",
    "        if left_index > self.size:\n",
    "            return\n",
    "        # left index in range but right index out of range\n",
    "        if right_index > self.size:\n",
    "            left = self.queue[left_index]\n",
    "            min_frequency = min(node.frequency, left.frequency)\n",
    "        # all indices in range\n",
    "        else:\n",
    "            right = self.queue[right_index]\n",
    "            left = self.queue[left_index]\n",
    "            min_frequency = min(node.frequency, right.frequency)\n",
    "            min_frequency = min(min_frequency, left.frequency)\n",
    "        \n",
    "        # check which is minimum\n",
    "        if min_frequency == node.frequency:\n",
    "            '''\n",
    "            fill in the code\n",
    "            '''\n",
    "            return \n",
    "\n",
    "        elif min_frequency == left.frequency:\n",
    "            '''\n",
    "            fill in the code\n",
    "            '''\n",
    "            # node = self.queue[left_index]\n",
    "            self.queue[index], self.queue[left_index] = self.queue[left_index], self.queue[index]\n",
    "            self.swift_down(left_index)             \n",
    "        else:\n",
    "            '''\n",
    "            fill in the code\n",
    "            ''' \n",
    "            # node = self.queue[right_index]\n",
    "            self.queue[index], self.queue[right_index] = self.queue[right_index], self.queue[index]\n",
    "            self.swift_down(right_index)       "
   ]
  },
  {
   "cell_type": "code",
   "execution_count": 13,
   "metadata": {},
   "outputs": [],
   "source": [
    "def huffman(S):\n",
    "    # count char frequency in string S\n",
    "    '''\n",
    "    for string \"AABCCA\", we will get\n",
    "        \"A\" -> 3\n",
    "        \"B\" -> 1\n",
    "        \"C\" -> 2\n",
    "    use python dictionary to count\n",
    "    '''\n",
    "    stats_list = {} # char is key, count is value\n",
    "    stats_list = dict(Counter(S))\n",
    "    \n",
    "    # insert into Q\n",
    "    Q = PriorityQueue()\n",
    "    for k,v in stats_list.items():\n",
    "        leaf = Node(k, v)\n",
    "        Q.insert(BinaryTree(leaf))\n",
    "    \n",
    "    # Construct huffman tree             \n",
    "    while Q.size > 1:\n",
    "        '''\n",
    "        fill in the code\n",
    "        '''\n",
    "        T1 = Q.remove_min()\n",
    "        T2 = Q.remove_min()\n",
    "        T = new_binary_tree(T1,T2)\n",
    "        Q.insert(T)\n",
    "    \n",
    "    res = Q.remove_min()\n",
    "    return res"
   ]
  },
  {
   "cell_type": "code",
   "execution_count": 14,
   "metadata": {},
   "outputs": [
    {
     "name": "stdout",
     "output_type": "stream",
     "text": [
      "Char L with code 000 and frequency 8\n",
      "Char E with code 00100 and frequency 2\n",
      "Char K with code 00101 and frequency 2\n",
      "Char H with code 0011 and frequency 5\n",
      "Char J with code 010 and frequency 11\n",
      "Char D with code 0110 and frequency 6\n",
      "Char N with code 0111 and frequency 6\n",
      "Char S with code 100 and frequency 12\n",
      "Char I with code 10100 and frequency 2\n",
      "Char W with code 101010 and frequency 2\n",
      "Char R with code 1010110 and frequency 1\n",
      "Char U with code 1010111 and frequency 1\n",
      "Char P with code 1011 and frequency 7\n",
      "Char O with code 110 and frequency 13\n",
      "Char F with code 111 and frequency 15\n"
     ]
    }
   ],
   "source": [
    "S = \"LJFSOPDJFLSDFOPOJFODFJSOPJWOENROPFSHJNFWOIPEHNFOPNSFOJKSNDPOFIHSLHNLHFDOSUJLKSFJSLFJFSDOLFJLS\"\n",
    "T = huffman(S)\n",
    "in_order_traversal(T)"
   ]
  },
  {
   "cell_type": "code",
   "execution_count": null,
   "metadata": {},
   "outputs": [],
   "source": []
  },
  {
   "cell_type": "code",
   "execution_count": null,
   "metadata": {},
   "outputs": [],
   "source": []
  }
 ],
 "metadata": {
  "interpreter": {
   "hash": "f95d9307f45ddfb406dd09f6e4b2fa70e170c66451c4561bc8b2afdb5e53bc6a"
  },
  "kernelspec": {
   "display_name": "Python 3.7.4 64-bit ('base': conda)",
   "name": "python3"
  },
  "language_info": {
   "codemirror_mode": {
    "name": "ipython",
    "version": 3
   },
   "file_extension": ".py",
   "mimetype": "text/x-python",
   "name": "python",
   "nbconvert_exporter": "python",
   "pygments_lexer": "ipython3",
   "version": "3.7.4"
  }
 },
 "nbformat": 4,
 "nbformat_minor": 2
}
