{
 "cells": [
  {
   "cell_type": "code",
   "execution_count": 1,
   "metadata": {},
   "outputs": [],
   "source": [
    "import random"
   ]
  },
  {
   "cell_type": "code",
   "execution_count": 2,
   "metadata": {},
   "outputs": [],
   "source": [
    "class DirectedGraph:\n",
    "    def __init__(self, n):\n",
    "        self.num_nodes = n\n",
    "        self.nodes = [[] for i in range(n)]\n",
    "    \n",
    "    # edge node1 -> node2 (directed)\n",
    "    def insert(self, node1, node2):\n",
    "        self.nodes[node1].append(node2)\n",
    "    \n",
    "    def deleteConnection(self, node):\n",
    "        self.nodes[node].clear()"
   ]
  },
  {
   "cell_type": "code",
   "execution_count": 78,
   "metadata": {},
   "outputs": [],
   "source": [
    "def dfs(graph, starting_node):\n",
    "    visited = [False for i in range(graph.num_nodes)]\n",
    "    \n",
    "    # Key function call\n",
    "    dfs_recursive(graph, starting_node, visited)\n",
    "    \n",
    "    # The following lines are for demonstrating results\n",
    "    print(\"Starting from node {:d}, we visited {:d} nodes\".format(starting_node, sum(visited)))\n",
    "    visited_nodes = []\n",
    "    for i in range(len(visited)):\n",
    "        if visited[i]:\n",
    "            visited_nodes.append(i)\n",
    "    print(\"The following nodes were visited: \")\n",
    "    print(visited_nodes)\n",
    "\n",
    "def dfs_recursive(graph, starting_node, visited):\n",
    "\n",
    "    # if len(graph.nodes[starting_node]) == 0:\n",
    "    #     return\n",
    "    print(\"visited\",starting_node)\n",
    "    visited[starting_node] = True\n",
    "    neighs = graph.nodes[starting_node]\n",
    "    if all([visited[neig] for neig in neighs]):\n",
    "        return\n",
    "\n",
    "    for neig in neighs:    \n",
    "        if visited[neig]:\n",
    "            continue\n",
    "        visited[starting_node] = True\n",
    "        dfs_recursive(graph, neig, visited)\n",
    "\n",
    "    return"
   ]
  },
  {
   "cell_type": "markdown",
   "metadata": {},
   "source": [
    "## Graph construction\n",
    "\n",
    "- 20 nodes\n",
    "- at leaset two connected componenets"
   ]
  },
  {
   "cell_type": "code",
   "execution_count": 79,
   "metadata": {},
   "outputs": [
    {
     "name": "stdout",
     "output_type": "stream",
     "text": [
      "[[4, 14, 12], [11, 13, 16], [3, 17, 14], [8, 1, 6], [7, 9, 6], [10, 15], [11, 13, 12], [14, 17, 8], [12, 3, 0], [19, 12, 4], [], [7, 14, 12], [4, 19, 17], [1, 19, 7], [19, 16, 9], [10], [11, 12, 1], [3, 9, 13], [8, 7, 13], [16, 18, 8]]\n"
     ]
    }
   ],
   "source": [
    "random.seed(100)\n",
    "\n",
    "num_nodes = 20\n",
    "graph = DirectedGraph(num_nodes)\n",
    "\n",
    "ignore_list = [5, 10, 15]\n",
    "# For each node, add three random outgoing edges\n",
    "# make sure no edge directed to node 5, 10 and 15\n",
    "for i in range(num_nodes):\n",
    "    while len(graph.nodes[i]) < 3:\n",
    "        node = random.randint(0, num_nodes-1)\n",
    "        if node != i and (node not in graph.nodes[i]) and (node not in ignore_list):\n",
    "            graph.insert(i, node)\n",
    "\n",
    "# pick node 5, 10, 15 and remove their connection\n",
    "graph.deleteConnection(5)\n",
    "graph.deleteConnection(10)\n",
    "graph.deleteConnection(15)\n",
    "\n",
    "# add edges among the three nodes so we have at least two connected components\n",
    "graph.insert(5, 10)\n",
    "graph.insert(5, 15)\n",
    "graph.insert(15, 10)\n",
    "\n",
    "print(graph.nodes)"
   ]
  },
  {
   "cell_type": "markdown",
   "metadata": {},
   "source": [
    "## Test code"
   ]
  },
  {
   "cell_type": "code",
   "execution_count": 80,
   "metadata": {},
   "outputs": [
    {
     "data": {
      "text/plain": [
       "[11, 12, 1]"
      ]
     },
     "execution_count": 80,
     "metadata": {},
     "output_type": "execute_result"
    }
   ],
   "source": [
    "graph.nodes[16]"
   ]
  },
  {
   "cell_type": "code",
   "execution_count": 81,
   "metadata": {},
   "outputs": [
    {
     "name": "stdout",
     "output_type": "stream",
     "text": [
      "visited 0\n",
      "visited 4\n",
      "visited 7\n",
      "visited 14\n",
      "visited 19\n",
      "visited 16\n",
      "visited 11\n",
      "visited 12\n",
      "visited 17\n",
      "visited 3\n",
      "visited 8\n",
      "visited 1\n",
      "visited 13\n",
      "visited 6\n",
      "visited 9\n",
      "visited 18\n",
      "Starting from node 0, we visited 16 nodes\n",
      "The following nodes were visited: \n",
      "[0, 1, 3, 4, 6, 7, 8, 9, 11, 12, 13, 14, 16, 17, 18, 19]\n",
      "visited 5\n",
      "visited 10\n",
      "visited 15\n",
      "Starting from node 5, we visited 3 nodes\n",
      "The following nodes were visited: \n",
      "[5, 10, 15]\n"
     ]
    }
   ],
   "source": [
    "dfs(graph, 0)\n",
    "dfs(graph, 5)"
   ]
  },
  {
   "cell_type": "code",
   "execution_count": 8,
   "metadata": {},
   "outputs": [
    {
     "data": {
      "text/plain": [
       "[8, 1, 6]"
      ]
     },
     "execution_count": 8,
     "metadata": {},
     "output_type": "execute_result"
    }
   ],
   "source": [
    "graph.nodes[3]"
   ]
  }
 ],
 "metadata": {
  "kernelspec": {
   "display_name": "Python 3",
   "language": "python",
   "name": "python3"
  },
  "language_info": {
   "codemirror_mode": {
    "name": "ipython",
    "version": 3
   },
   "file_extension": ".py",
   "mimetype": "text/x-python",
   "name": "python",
   "nbconvert_exporter": "python",
   "pygments_lexer": "ipython3",
   "version": "3.7.11"
  }
 },
 "nbformat": 4,
 "nbformat_minor": 2
}
