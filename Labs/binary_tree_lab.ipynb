{
 "cells": [
  {
   "cell_type": "code",
   "execution_count": 7,
   "metadata": {},
   "outputs": [],
   "source": [
    "class Node:\n",
    "    def __init__(self, data, left=None, right=None):\n",
    "        self.data = data\n",
    "        self.left = left\n",
    "        self.right = right"
   ]
  },
  {
   "cell_type": "code",
   "execution_count": 52,
   "metadata": {},
   "outputs": [],
   "source": [
    "# define class binary tree\n",
    "class BinaryTree:\n",
    "    def __init__(self, data):\n",
    "        self.root = Node(data)\n",
    "    \n",
    "    def insert(self, data):\n",
    "        self.insert_by_node(self.root, data)\n",
    "        return\n",
    "    \n",
    "    def insert_by_node(self, node, data):\n",
    "        if data <= node.data:\n",
    "            if node.left != None:\n",
    "                self.insert_by_node(node.left, data)\n",
    "            else:\n",
    "                node.left = Node(data)\n",
    "        if data > node.data:\n",
    "            if node.right != None:\n",
    "                self.insert_by_node(node.right, data)\n",
    "            else:\n",
    "                node.right = Node(data)\n",
    "                \n",
    "    def contains(self, data):\n",
    "        return self.contains_by_node(self.root, data)\n",
    "    \n",
    "    def contains_by_node(self, node, data):\n",
    "        if data == node.data:\n",
    "            return True\n",
    "        elif data <= node.data:\n",
    "            if node.left == None:\n",
    "                return False\n",
    "            else:\n",
    "                return self.contains_by_node(node.left, data)\n",
    "        elif  data > node.data:\n",
    "            if node.right == None:\n",
    "                return False\n",
    "            else:\n",
    "                return self.contains_by_node(node.right, data)\n",
    "        else:\n",
    "            return False"
   ]
  },
  {
   "cell_type": "code",
   "execution_count": 53,
   "metadata": {},
   "outputs": [],
   "source": [
    "def pre_order(node):\n",
    "    # reach leaf\n",
    "    if node == None:\n",
    "        return\n",
    "\n",
    "    pre_order(node.left)\n",
    "    print(\"{}, \".format(node.data))\n",
    "    pre_order(node.right)\n",
    "        \n",
    "def pre_order_traversal(T):\n",
    "    pre_order(T.root)"
   ]
  },
  {
   "cell_type": "markdown",
   "metadata": {},
   "source": [
    "## Binary Tree\n",
    "\n",
    "- Insert data into the tree\n",
    "- Query if the certain data is inserted"
   ]
  },
  {
   "cell_type": "code",
   "execution_count": 54,
   "metadata": {},
   "outputs": [],
   "source": [
    "import random\n",
    "random.seed(10)\n",
    "dataset = [random.randint(0, 100)for x in range(15)]\n",
    "queryset = [0, 20, 13, 62, 15]"
   ]
  },
  {
   "cell_type": "code",
   "execution_count": 55,
   "metadata": {},
   "outputs": [
    {
     "name": "stdout",
     "output_type": "stream",
     "text": [
      "1, \n",
      "4, \n",
      "4, \n",
      "20, \n",
      "26, \n",
      "35, \n",
      "54, \n",
      "59, \n",
      "61, \n",
      "62, \n",
      "62, \n",
      "66, \n",
      "73, \n",
      "73, \n",
      "83, \n"
     ]
    }
   ],
   "source": [
    "bt = BinaryTree(dataset[0])\n",
    "'''\n",
    "fill in the code\n",
    "insert dataset[1:]\n",
    "'''\n",
    "[bt.insert(i) for i in dataset[1:]]\n",
    "\n",
    "pre_order_traversal(bt)"
   ]
  },
  {
   "cell_type": "code",
   "execution_count": 56,
   "metadata": {},
   "outputs": [
    {
     "name": "stdout",
     "output_type": "stream",
     "text": [
      "False\n",
      "True\n",
      "False\n",
      "True\n",
      "False\n"
     ]
    }
   ],
   "source": [
    "for elem in queryset:\n",
    "    print(bt.contains(elem))"
   ]
  },
  {
   "cell_type": "code",
   "execution_count": 58,
   "metadata": {},
   "outputs": [
    {
     "data": {
      "text/plain": [
       "[0, 20, 13, 62, 15]"
      ]
     },
     "execution_count": 58,
     "metadata": {},
     "output_type": "execute_result"
    }
   ],
   "source": [
    "queryset"
   ]
  },
  {
   "cell_type": "code",
   "execution_count": 57,
   "metadata": {},
   "outputs": [
    {
     "data": {
      "text/plain": [
       "[73, 4, 54, 61, 73, 1, 26, 59, 62, 35, 83, 20, 4, 66, 62]"
      ]
     },
     "execution_count": 57,
     "metadata": {},
     "output_type": "execute_result"
    }
   ],
   "source": [
    "dataset"
   ]
  }
 ],
 "metadata": {
  "interpreter": {
   "hash": "f95d9307f45ddfb406dd09f6e4b2fa70e170c66451c4561bc8b2afdb5e53bc6a"
  },
  "kernelspec": {
   "display_name": "Python 3.7.4 64-bit ('base': conda)",
   "name": "python3"
  },
  "language_info": {
   "codemirror_mode": {
    "name": "ipython",
    "version": 3
   },
   "file_extension": ".py",
   "mimetype": "text/x-python",
   "name": "python",
   "nbconvert_exporter": "python",
   "pygments_lexer": "ipython3",
   "version": "3.7.4"
  }
 },
 "nbformat": 4,
 "nbformat_minor": 2
}
