{
 "cells": [
  {
   "cell_type": "code",
   "execution_count": 45,
   "source": [
    "def f(*x,**y):\n",
    "    def s1(x):\n",
    "        s = 0\n",
    "        for i in x:\n",
    "            s += i\n",
    "        return s\n",
    "\n",
    "    def p1(x):\n",
    "        s = 1\n",
    "        if x:\n",
    "            for i in x:\n",
    "                s*= i\n",
    "                return s\n",
    "\n",
    "    def reciprocal(x):\n",
    "        return s1(list(map(lambda v: 1/v, x)))\n",
    "\n",
    "    if y[\"action\"] == \"sum\":\n",
    "        return s1(*x)\n",
    "    if y[\"action\"] == \"prod\":\n",
    "        return p1(*x)\n",
    "    if y[\"action\"] == \"reciprocal\":\n",
    "        return reciprocal(*x)\n",
    "    else:\n",
    "        return f\"bad argument: {y}\"\n",
    "                \n",
    "xlst = [1,2,3,4,5]\n",
    "print(f(xlst, action = \"reciprocal\"))"
   ],
   "outputs": [
    {
     "output_type": "stream",
     "name": "stdout",
     "text": [
      "2.283333333333333\n"
     ]
    }
   ],
   "metadata": {}
  }
 ],
 "metadata": {
  "orig_nbformat": 4,
  "language_info": {
   "name": "python",
   "version": "3.7.4",
   "mimetype": "text/x-python",
   "codemirror_mode": {
    "name": "ipython",
    "version": 3
   },
   "pygments_lexer": "ipython3",
   "nbconvert_exporter": "python",
   "file_extension": ".py"
  },
  "kernelspec": {
   "name": "python3",
   "display_name": "Python 3.7.4 64-bit ('base': conda)"
  },
  "interpreter": {
   "hash": "5e32c17b15a225dea6058845226a4c80c1a365e65777d5c14d0fccc08bcf000f"
  }
 },
 "nbformat": 4,
 "nbformat_minor": 2
}