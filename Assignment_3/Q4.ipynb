{
 "cells": [
  {
   "cell_type": "code",
   "execution_count": 44,
   "source": [
    "import timeit\n",
    "import matplotlib.pyplot as plt\n",
    "import numpy as np\n",
    "from statistics import mean,stdev\n",
    "import pickle as pkl"
   ],
   "outputs": [],
   "metadata": {}
  },
  {
   "cell_type": "code",
   "execution_count": 6,
   "source": [
    "def average1(S):\n",
    "    #S:sequence\n",
    "    n = len(S)\n",
    "    my_average = [0]*n\n",
    "    for j in range(n):\n",
    "        total = 0\n",
    "        for i in range(j + 1):\n",
    "            total += S[i]\n",
    "            my_average[j] = total / (j+1)\n",
    "            return my_average\n",
    "\n",
    "def average2(S):\n",
    "    #S:sequence\n",
    "    n = len(S)\n",
    "    my_average= [0]*n\n",
    "    for j in range(n):\n",
    "        my_average[j] = sum(S[0:j+1]) / (j+1)\n",
    "        return my_average\n",
    "\n",
    "def average3(S):\n",
    "    #S:sequence\n",
    "    n = len(S)\n",
    "    my_average = [0]*n\n",
    "    total = 0\n",
    "    for j in range(n):\n",
    "        total += S[j]\n",
    "        my_average[j] = total / (j+1)\n",
    "        return my_average"
   ],
   "outputs": [],
   "metadata": {}
  },
  {
   "cell_type": "code",
   "execution_count": 23,
   "source": [
    "S1, S2, S3 = {},{},{}\n",
    "sizes = [10**i for i in range(1,10)]\n",
    "for input_size in sizes:\n",
    "    print(input_size)\n",
    "    S1[input_size], S2[input_size], S3[input_size] = [], [], []\n",
    "\n",
    "    S = np.random.uniform(size=input_size)\n",
    "    \n",
    "    for e in range(10):\n",
    "        starttime = timeit.default_timer()\n",
    "        average1(S)\n",
    "        S1[input_size].append(timeit.default_timer() - starttime)\n",
    "\n",
    "        starttime = timeit.default_timer()\n",
    "        average2(S)\n",
    "        S2[input_size].append(timeit.default_timer() - starttime)\n",
    "\n",
    "        starttime = timeit.default_timer()\n",
    "        average2(S)\n",
    "        S3[input_size].append(timeit.default_timer() - starttime)"
   ],
   "outputs": [
    {
     "output_type": "stream",
     "name": "stdout",
     "text": [
      "10\n",
      "100\n",
      "1000\n",
      "10000\n",
      "100000\n",
      "1000000\n",
      "10000000\n",
      "100000000\n",
      "1000000000\n"
     ]
    }
   ],
   "metadata": {}
  },
  {
   "cell_type": "code",
   "execution_count": 46,
   "source": [
    "with open('runtime.pkl','wb') as f:\n",
    "    pkl.dump([S1,S2,S3],f)"
   ],
   "outputs": [],
   "metadata": {}
  },
  {
   "cell_type": "code",
   "execution_count": 56,
   "source": [
    "plt.figure(figsize=(15, 10))\n",
    "plt.plot(list(S1.keys()),[mean(S1[n]) for n in S1],'o',label='average1')\n",
    "plt.plot(list(S2.keys()),[mean(S2[n]) for n in S2],'o',label='average2')\n",
    "plt.plot(list(S3.keys()),[mean(S3[n]) for n in S3],'o',label='average3')\n",
    "plt.legend()\n",
    "\n",
    "plt.xscale('log')\n",
    "plt.yscale('log')\n"
   ],
   "outputs": [
    {
     "output_type": "display_data",
     "data": {
      "image/png": "[encoded data removed]",
      "text/plain": [
       "<Figure size 1080x720 with 1 Axes>"
      ]
     },
     "metadata": {
      "needs_background": "light"
     }
    }
   ],
   "metadata": {}
  }
 ],
 "metadata": {
  "orig_nbformat": 4,
  "language_info": {
   "name": "python",
   "version": "3.7.4",
   "mimetype": "text/x-python",
   "codemirror_mode": {
    "name": "ipython",
    "version": 3
   },
   "pygments_lexer": "ipython3",
   "nbconvert_exporter": "python",
   "file_extension": ".py"
  },
  "kernelspec": {
   "name": "python3",
   "display_name": "Python 3.7.4 64-bit ('base': conda)"
  },
  "interpreter": {
   "hash": "5e32c17b15a225dea6058845226a4c80c1a365e65777d5c14d0fccc08bcf000f"
  }
 },
 "nbformat": 4,
 "nbformat_minor": 2
}