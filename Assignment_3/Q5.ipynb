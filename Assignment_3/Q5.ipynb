{
 "cells": [
  {
   "cell_type": "code",
   "execution_count": 1,
   "source": [
    "import timeit\n",
    "import numpy as np"
   ],
   "outputs": [],
   "metadata": {}
  },
  {
   "cell_type": "code",
   "execution_count": 2,
   "source": [
    "def algorithm1(S):\n",
    "    #S:sequence\n",
    "    for j in range(len(S)):\n",
    "        for k in range(j+1, len(S)):\n",
    "            if S[j] == S[k]:\n",
    "                return False\n",
    "    return True\n",
    "\n",
    "def algorithm2(S):\n",
    "    #S:sequence\n",
    "    S = sorted(S)\n",
    "    for j in range(1, len(S)):\n",
    "        if S[j-1] == S[j]:\n",
    "            return False\n",
    "    return True\n",
    "\n",
    "def algorithm3(S, start, stop):\n",
    "    #slice S[start:stop], S:sequence\n",
    "    if stop - start <= 1: return True\n",
    "    elif not algorithm3(S, start, stop-1): return False\n",
    "    elif not algorithm3(S, start+1, stop): return False\n",
    "    else: return S[start] != S[stop-1]"
   ],
   "outputs": [],
   "metadata": {}
  },
  {
   "cell_type": "code",
   "execution_count": 9,
   "source": [
    "S = np.random.uniform(size=15000)\n",
    "\n",
    "starttime = timeit.default_timer()\n",
    "algorithm1(S)\n",
    "print(timeit.default_timer() - starttime)\n"
   ],
   "outputs": [
    {
     "output_type": "stream",
     "name": "stdout",
     "text": [
      "44.62202553399999\n"
     ]
    }
   ],
   "metadata": {}
  },
  {
   "cell_type": "code",
   "execution_count": 12,
   "source": [
    "S = np.random.uniform(size=15000000)\n",
    "\n",
    "starttime = timeit.default_timer()\n",
    "algorithm2(S)\n",
    "print(timeit.default_timer() - starttime)"
   ],
   "outputs": [
    {
     "output_type": "stream",
     "name": "stdout",
     "text": [
      "29.076560341999993\n"
     ]
    }
   ],
   "metadata": {}
  },
  {
   "cell_type": "code",
   "execution_count": null,
   "source": [
    "S = np.random.uniform(size=1000)\n",
    "\n",
    "starttime = timeit.default_timer()\n",
    "algorithm3(S)\n",
    "print(timeit.default_timer() - starttime)"
   ],
   "outputs": [],
   "metadata": {}
  }
 ],
 "metadata": {
  "orig_nbformat": 4,
  "language_info": {
   "name": "python",
   "version": "3.7.4",
   "mimetype": "text/x-python",
   "codemirror_mode": {
    "name": "ipython",
    "version": 3
   },
   "pygments_lexer": "ipython3",
   "nbconvert_exporter": "python",
   "file_extension": ".py"
  },
  "kernelspec": {
   "name": "python3",
   "display_name": "Python 3.7.4 64-bit ('base': conda)"
  },
  "interpreter": {
   "hash": "5e32c17b15a225dea6058845226a4c80c1a365e65777d5c14d0fccc08bcf000f"
  }
 },
 "nbformat": 4,
 "nbformat_minor": 2
}