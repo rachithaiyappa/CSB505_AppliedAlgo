{
 "cells": [
  {
   "cell_type": "code",
   "execution_count": 2,
   "source": [
    "import timeit\n",
    "import numpy as np"
   ],
   "outputs": [],
   "metadata": {}
  },
  {
   "cell_type": "code",
   "execution_count": 3,
   "source": [
    "def algorithm1(S):\n",
    "    #S:sequence\n",
    "    for j in range(len(S)):\n",
    "        for k in range(j+1, len(S)):\n",
    "            if S[j] == S[k]:\n",
    "                return False\n",
    "    return True\n",
    "\n",
    "def algorithm2(S):\n",
    "    #S:sequence\n",
    "    S = sorted(S)\n",
    "    for j in range(1, len(S)):\n",
    "        if S[j-1] == S[j]:\n",
    "            return False\n",
    "    return True\n",
    "\n",
    "def algorithm3(S, start, stop):\n",
    "    #slice S[start:stop], S:sequence\n",
    "    if stop - start <= 1: return True\n",
    "    elif not algorithm3(S, start, stop-1): return False\n",
    "    elif not algorithm3(S, start+1, stop): return False\n",
    "    else: return S[start] != S[stop-1]"
   ],
   "outputs": [],
   "metadata": {}
  },
  {
   "cell_type": "code",
   "execution_count": 9,
   "source": [
    "S = np.random.uniform(size=15000)\n",
    "\n",
    "starttime = timeit.default_timer()\n",
    "algorithm1(S)\n",
    "print(timeit.default_timer() - starttime)\n"
   ],
   "outputs": [
    {
     "output_type": "stream",
     "name": "stdout",
     "text": [
      "44.62202553399999\n"
     ]
    }
   ],
   "metadata": {}
  },
  {
   "cell_type": "code",
   "execution_count": 6,
   "source": [
    "S = np.random.uniform(size=20000000)\n",
    "\n",
    "starttime = timeit.default_timer()\n",
    "algorithm2(S)\n",
    "print(timeit.default_timer() - starttime)"
   ],
   "outputs": [
    {
     "output_type": "stream",
     "name": "stdout",
     "text": [
      "41.08930036699999\n"
     ]
    }
   ],
   "metadata": {}
  },
  {
   "cell_type": "code",
   "execution_count": 13,
   "source": [
    "S = np.linspace(1,10000000,int(100000000))\n",
    "\n",
    "starttime = timeit.default_timer()\n",
    "algorithm2(S)\n",
    "print(timeit.default_timer() - starttime)"
   ],
   "outputs": [
    {
     "output_type": "stream",
     "name": "stdout",
     "text": [
      "55.187878341999976\n"
     ]
    }
   ],
   "metadata": {}
  },
  {
   "cell_type": "code",
   "execution_count": 24,
   "source": [
    "s = 25\n",
    "S = np.random.uniform(size=s)\n",
    "\n",
    "starttime = timeit.default_timer()\n",
    "algorithm3(S,0,s)\n",
    "print(timeit.default_timer() - starttime)"
   ],
   "outputs": [
    {
     "output_type": "stream",
     "name": "stdout",
     "text": [
      "12.005151221999995\n"
     ]
    }
   ],
   "metadata": {}
  },
  {
   "cell_type": "code",
   "execution_count": 20,
   "source": [
    "s = 27\n",
    "S = np.linspace(1,10000000,int(s))\n",
    "\n",
    "starttime = timeit.default_timer()\n",
    "algorithm3(S,0,s)\n",
    "print(timeit.default_timer() - starttime)"
   ],
   "outputs": [
    {
     "output_type": "stream",
     "name": "stdout",
     "text": [
      "39.78974814800017\n"
     ]
    }
   ],
   "metadata": {}
  },
  {
   "cell_type": "code",
   "execution_count": 21,
   "source": [
    "s = 28\n",
    "S = np.linspace(1,10000000,int(s))\n",
    "\n",
    "starttime = timeit.default_timer()\n",
    "algorithm3(S,0,s)\n",
    "print(timeit.default_timer() - starttime)"
   ],
   "outputs": [
    {
     "output_type": "stream",
     "name": "stdout",
     "text": [
      "79.8977332290001\n"
     ]
    }
   ],
   "metadata": {}
  }
 ],
 "metadata": {
  "orig_nbformat": 4,
  "language_info": {
   "name": "python",
   "version": "3.7.4",
   "mimetype": "text/x-python",
   "codemirror_mode": {
    "name": "ipython",
    "version": 3
   },
   "pygments_lexer": "ipython3",
   "nbconvert_exporter": "python",
   "file_extension": ".py"
  },
  "kernelspec": {
   "name": "python3",
   "display_name": "Python 3.8.10 64-bit"
  },
  "interpreter": {
   "hash": "31f2aee4e71d21fbe5cf8b01ff0e069b9275f58929596ceb00d14d90e3e16cd6"
  }
 },
 "nbformat": 4,
 "nbformat_minor": 2
}