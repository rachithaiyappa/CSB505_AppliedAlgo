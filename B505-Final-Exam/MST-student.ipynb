{
 "cells": [
  {
   "cell_type": "markdown",
   "metadata": {},
   "source": [
    "# Final exam programming problem\n",
    "\n",
    "In this problem, you will work on the following:\n",
    "\n",
    "- For a graph G, you will compute its MST\n",
    "- We will add an edge into the MST and you should be able to quickly update the MST\n",
    "\n",
    "To solve this problem, you may consult three lab sessions:\n",
    "\n",
    "- Merge sort (We will sort the edges using merge sort)\n",
    "- MST (Kruskal's algorithm)\n",
    "- DFS (To find a cycle on a graph)"
   ]
  },
  {
   "cell_type": "code",
   "execution_count": 1,
   "metadata": {},
   "outputs": [],
   "source": [
    "import random"
   ]
  },
  {
   "cell_type": "markdown",
   "metadata": {},
   "source": [
    "# Programming Problem 1"
   ]
  },
  {
   "cell_type": "markdown",
   "metadata": {},
   "source": [
    "## Part 1\n",
    "\n",
    "You must work with the provided data structures.\n",
    "You may use your own data structures if they are not defined here."
   ]
  },
  {
   "cell_type": "code",
   "execution_count": 2,
   "metadata": {},
   "outputs": [],
   "source": [
    "# Define graph edge\n",
    "class Edge:\n",
    "    def __init__(self, node1, node2, weight=1.0):\n",
    "        self.node1 = node1\n",
    "        self.node2 = node2\n",
    "        self.weight = weight\n",
    "        \n",
    "    def __lt__(self, other):\n",
    "        selfPriority = self.weight\n",
    "        otherPriority = other.weight\n",
    "        return selfPriority < otherPriority"
   ]
  },
  {
   "cell_type": "code",
   "execution_count": 3,
   "metadata": {},
   "outputs": [],
   "source": [
    "# Define an undirected graph\n",
    "class UndirectedGraph:\n",
    "    def __init__(self, n):\n",
    "        self.num_nodes = n\n",
    "        self.nodes = [set() for i in range(n)]\n",
    "        self.edges = []\n",
    "    \n",
    "    # edge node1 <--> node2 (undirected)\n",
    "    def insert(self, node1, node2, weight=1.0):\n",
    "        self.nodes[node1].add(node2)\n",
    "        self.nodes[node2].add(node1)\n",
    "        self.edges.append(Edge(node1, node2, weight))\n",
    "        self.edges.append(Edge(node2, node1, weight))"
   ]
  },
  {
   "cell_type": "markdown",
   "metadata": {},
   "source": [
    "### Graph representation\n",
    "\n",
    "- Linked list: self.nodes in class UndirectedGraph (for DFS)\n",
    "- Edge list: self.edges in class UndirectedGraph (for MST)"
   ]
  },
  {
   "cell_type": "code",
   "execution_count": 4,
   "metadata": {},
   "outputs": [],
   "source": [
    "# A function to generate a random graph\n",
    "def generate_graph_and_output_edges(num_nodes, random_seed, num_edge_per_node=3):\n",
    "    random.seed(random_seed)\n",
    "    graph = UndirectedGraph(num_nodes)\n",
    "    edge_list = []\n",
    "    for i in range(num_nodes):\n",
    "        while len(graph.nodes[i]) < num_edge_per_node:\n",
    "            node = random.randint(0, num_nodes-1)\n",
    "            if node != i and (node not in graph.nodes[i]):\n",
    "                weight = random.random()\n",
    "                graph.insert(i, node, weight)\n",
    "    return graph  "
   ]
  },
  {
   "cell_type": "markdown",
   "metadata": {},
   "source": [
    "### A small sample graph\n",
    "\n",
    "This is a sample graph so you can learn how graph is represented in this problem"
   ]
  },
  {
   "cell_type": "code",
   "execution_count": 5,
   "metadata": {},
   "outputs": [
    {
     "name": "stdout",
     "output_type": "stream",
     "text": [
      "[{1, 2, 3}, {0, 3, 4}, {0, 3, 4}, {0, 1, 2}, {1, 2}]\n",
      " 0,  1, 0.45953\n",
      " 1,  0, 0.45953\n",
      " 0,  3, 0.73196\n",
      " 3,  0, 0.73196\n",
      " 1,  3, 0.50687\n",
      " 3,  1, 0.50687\n",
      " 2,  0, 0.53290\n",
      " 0,  2, 0.53290\n",
      " 2,  3, 0.26342\n",
      " 3,  2, 0.26342\n",
      " 4,  1, 0.33535\n",
      " 1,  4, 0.33535\n",
      " 4,  2, 0.83890\n",
      " 2,  4, 0.83890\n"
     ]
    }
   ],
   "source": [
    "# Generate the graph\n",
    "graph_sample = generate_graph_and_output_edges(5, 100, 2)\n",
    "\n",
    "# print nodes represented in linked list\n",
    "print(graph_sample.nodes)\n",
    "\n",
    "# print edges represented in edge list\n",
    "for e in graph_sample.edges:\n",
    "    print(\"{:2d}, {:2d}, {:.5f}\".format(e.node1, e.node2, e.weight))"
   ]
  },
  {
   "cell_type": "code",
   "execution_count": 6,
   "metadata": {},
   "outputs": [],
   "source": [
    "# Union Find data structure is provided to support Kruskal\n",
    "class UnionFind:\n",
    "    def __init__(self, num_nodes):\n",
    "        # Initially position[i] = i\n",
    "        self.position = [i for i in range(num_nodes)]\n",
    "        \n",
    "    # Return the cluster index\n",
    "    def find(self, node):\n",
    "        if self.position[node] == node:\n",
    "            return node\n",
    "        else:\n",
    "            self.position[node] = self.find(self.position[node])\n",
    "            return self.position[node]\n",
    "    \n",
    "    def union(self, node1, node2):\n",
    "        a = self.find(node1)\n",
    "        b = self.find(node2)\n",
    "        # no need to union\n",
    "        if a == b:\n",
    "            return\n",
    "        # union is needed\n",
    "        else:\n",
    "            if a < b:\n",
    "                self.position[b] = a\n",
    "            else:\n",
    "                self.position[a] = b"
   ]
  },
  {
   "cell_type": "markdown",
   "metadata": {},
   "source": [
    "## Part 2\n",
    "\n",
    "Find a MST for a given graph.\n",
    "\n",
    "The returned MST should be in edge list format. (Just like what we did in the lab)\n",
    "\n",
    "When sorting the graph.edges, you must use Merge Sort. (We used PriorityQueue in the lab)"
   ]
  },
  {
   "cell_type": "code",
   "execution_count": 9,
   "metadata": {},
   "outputs": [],
   "source": [
    "# Implement MergeSort\n",
    "\n",
    "# Your merge sort should returend a sorted list of A\n",
    "def merge(X, Y):\n",
    "    m = len(X)\n",
    "    n = len(Y)  \n",
    "\n",
    "    # output list to store the merged (and sorted) X and Y.\n",
    "    output = []\n",
    "\n",
    "    \n",
    "    i = 0 #index for X\n",
    "    j = 0 #index for Y\n",
    "\n",
    "    #length of the output list should be the sum of the length of the two lists to be merged\n",
    "    while len(output) < (m+n):\n",
    "        #get the smaller element of X and Y at the current i and j and add to the output.\n",
    "        if X[i] < Y[j]:\n",
    "            output.append(X[i])\n",
    "            i += 1\n",
    "            #if we have run through the entire X, append the remaining Y (the remaining will already be sorted)\n",
    "            if i>=len(X):\n",
    "                output.extend(Y[j:])\n",
    "        else:\n",
    "            output.append(Y[j])\n",
    "            j += 1\n",
    "            #if we have run through the entire Y, append the remaining X (the remaining will already be sorted)\n",
    "            if j>=len(Y):\n",
    "                output.extend(X[i:])\n",
    "\n",
    "    return output\n",
    "\n",
    "\n",
    "def MergeSort(A):\n",
    "    n = len(A)\n",
    "\n",
    "    #base case\n",
    "    if n<=1:\n",
    "        return A\n",
    "\n",
    "    else: \n",
    "        mid = n//2\n",
    "        left_half = A[:mid]\n",
    "        right_half = A[mid:]\n",
    "        left_half = MergeSort(left_half) #sorted left half\n",
    "        right_half = MergeSort(right_half) #sorted right half\n",
    "        return merge(left_half,right_half) #combine(merge) the two sorted halves"
   ]
  },
  {
   "cell_type": "code",
   "execution_count": 22,
   "metadata": {},
   "outputs": [],
   "source": [
    "graph_sample_edge_weights  = [] \n",
    "for e in graph_sample.edges:\n",
    "    graph_sample_edge_weights.append(e.weight)\n",
    "\n",
    "sorted_edge_weights = MergeSort(graph_sample_edge_weights)"
   ]
  },
  {
   "cell_type": "code",
   "execution_count": 62,
   "metadata": {},
   "outputs": [],
   "source": [
    "# Implement Kruskal\n",
    "\n",
    "# returned MST is a list of class Edge\n",
    "def kruskal(graph):\n",
    "    MST = []\n",
    "    uf = UnionFind(graph.num_nodes)\n",
    "\n",
    "    graph_edge_weights  = [] \n",
    "    for e in graph.edges:\n",
    "        graph_edge_weights.append(e.weight)\n",
    "\n",
    "    sorted_edge_list = MergeSort(graph_edge_weights)\n",
    "\n",
    "    counter = 0 \n",
    "    while counter < len(sorted_edge_list):\n",
    "        edge_weight = sorted_edge_list[counter]\n",
    "        src = [e.node1 for e in graph.edges if e.weight == edge_weight][0]\n",
    "        dst = [e.node2 for e in graph.edges if e.weight == edge_weight][0]\n",
    "        counter += 1\n",
    "        if uf.find(src) != uf.find(dst):\n",
    "            MST.append((Edge(src, dst, edge_weight)))\n",
    "            uf.union(src,dst)\n",
    "\n",
    "    return MST"
   ]
  },
  {
   "cell_type": "markdown",
   "metadata": {},
   "source": [
    "## Part 3\n",
    "\n",
    "A new edge (2, 19) with weight 0.2\n",
    "\n",
    "We need to quickly update the old MST to get a new MST"
   ]
  },
  {
   "cell_type": "code",
   "execution_count": 73,
   "metadata": {},
   "outputs": [],
   "source": [
    "# Construct a graph from edge list. This is given to you.\n",
    "\n",
    "# We assume num_nodes is given for simplicity.\n",
    "def generate_graph_from_edges(edge_list, num_nodes):\n",
    "    graph = UndirectedGraph(num_nodes)\n",
    "    for e in edge_list:\n",
    "        graph.insert(e.node1, e.node2, e.weight)\n",
    "    return graph"
   ]
  },
  {
   "cell_type": "markdown",
   "metadata": {},
   "source": [
    "### Algorithm\n",
    "\n",
    "- We add the new edge to the old MST which will generate a cycle\n",
    "\n",
    "- The cycle consists at least three edges\n",
    "\n",
    "- The edge with the largest weight should be removed\n",
    "\n",
    "- You ONLY need to print out the edges on the cycle to get full marks (the two end nodes and the weight)\n",
    "\n",
    "### Sample example\n",
    "\n",
    "- We have a MST for a graph of 3 nodes\n",
    "\n",
    "- MST has edge (0, 1, 0.12) and (0, 2, 0.23)\n",
    "\n",
    "- We add a new edge (1, 2, 0.2)\n",
    "\n",
    "- A cycle of three edges is generated\n",
    "\n",
    "- We need to delete edge (0, 2, 0.23)"
   ]
  },
  {
   "cell_type": "markdown",
   "metadata": {},
   "source": [
    "### How to use DFS to find the cycle\n",
    "\n",
    "- Suppose the new edge is (2, 19, 0.2)\n",
    "\n",
    "- If we DFS from node 2, we will eventurally hit node 19\n",
    "\n",
    "- You need to properly append and pop on \"cycle_edges\" during DFS \n",
    "\n",
    "- The \"cycle_edge\" should contain the final path from 2 to 19"
   ]
  },
  {
   "cell_type": "code",
   "execution_count": 80,
   "metadata": {},
   "outputs": [],
   "source": [
    "# Use DFS to detect the cycle\n",
    "\n",
    "# You may add more arguments in dfs_recursive() for your convenience\n",
    "\n",
    "def dfs(graph, starting_node, stopping_node):\n",
    "    visited_nodes = [False for i in range(graph.num_nodes)]\n",
    "    cycle_edges = []\n",
    "    dfs_recursive(graph, starting_node, visited_nodes, cycle_edges, stopping_node)\n",
    "    \n",
    "    # The following is for demonstration purpose\n",
    "    print(\"We found {:d} edges from node {:d} to node {:d}\"\n",
    "          .format(len(cycle_edges), starting_node, stopping_node))\n",
    "    for e in cycle_edges:\n",
    "        '''\n",
    "        print the two end nodes of the edge\n",
    "            the weight information is not known so you do not need to output \n",
    "        \n",
    "        You may change the following print statement\n",
    "            if you did not use Edge class\n",
    "        '''\n",
    "        print(\"{:2d}, {:2d}\".format(e.node1, e.node2))\n",
    "\n",
    "\n",
    "def dfs_recursive(graph, starting_node, visited_nodes, cycle_edges, stopping_node):\n",
    "\n",
    "    if starting_node == stopping_node:\n",
    "        return\n",
    "    else:\n",
    "        visited_nodes[starting_node] = True\n",
    "        neighbors = graph.nodes[starting_node]\n",
    "        if all([visited_nodes[neigh] for neigh in neighbors]):\n",
    "            return\n",
    "\n",
    "        for neigh in neighbors:    \n",
    "            if visited_nodes[neigh]:\n",
    "                continue\n",
    "            visited_nodes[starting_node] = True\n",
    "            cycle_edges.append((Edge(starting_node, neigh)))\n",
    "            dfs_recursive(graph, neigh, visited_nodes,cycle_edges,stopping_node)\n",
    "\n",
    "        return\n",
    "\n",
    "    "
   ]
  },
  {
   "cell_type": "markdown",
   "metadata": {},
   "source": [
    "## Part 4 Test code\n",
    "\n",
    "Do NOT modify the code in this part.\n"
   ]
  },
  {
   "cell_type": "code",
   "execution_count": 63,
   "metadata": {},
   "outputs": [
    {
     "name": "stdout",
     "output_type": "stream",
     "text": [
      " 3, 18, 0.00406\n",
      " 5,  1, 0.03175\n",
      " 0, 18, 0.03259\n",
      " 0,  5, 0.03440\n",
      " 1, 11, 0.04456\n",
      "18,  2, 0.05057\n",
      "13, 15, 0.06277\n",
      " 4, 15, 0.06499\n",
      "11,  7, 0.07993\n",
      "19,  4, 0.10876\n",
      " 9,  8, 0.14351\n",
      " 5, 16, 0.15642\n",
      "10,  9, 0.16494\n",
      " 7, 14, 0.16636\n",
      " 9, 16, 0.17846\n",
      " 3,  4, 0.19495\n",
      " 6,  4, 0.38442\n",
      "12,  5, 0.39059\n",
      "17,  0, 0.43858\n"
     ]
    }
   ],
   "source": [
    "graph_mst = generate_graph_and_output_edges(20, 10, 5)\n",
    "MST = kruskal(graph_mst)\n",
    "\n",
    "for e in MST:\n",
    "    print(\"{:2d}, {:2d}, {:.5f}\".format(e.node1, e.node2, e.weight))"
   ]
  },
  {
   "cell_type": "code",
   "execution_count": 74,
   "metadata": {},
   "outputs": [],
   "source": [
    "def find_the_cycle(MST, new_edge, num_nodes):\n",
    "    # construct graph from edge list\n",
    "    graph_cycle = generate_graph_from_edges(MST, num_nodes)\n",
    "\n",
    "    # call dfs to find a path from node1 to node2\n",
    "    dfs(graph_cycle, new_edge.node1, new_edge.node2)"
   ]
  },
  {
   "cell_type": "code",
   "execution_count": 84,
   "metadata": {},
   "outputs": [
    {
     "name": "stdout",
     "output_type": "stream",
     "text": [
      "We found 19 edges from node 2 to node 19\n",
      " 2, 18\n",
      "18,  0\n",
      " 0, 17\n",
      " 0,  5\n",
      " 5,  1\n",
      " 1, 11\n",
      "11,  7\n",
      " 7, 14\n",
      " 5, 12\n",
      " 5, 16\n",
      "16,  9\n",
      " 9,  8\n",
      " 9, 10\n",
      "18,  3\n",
      " 3,  4\n",
      " 4, 19\n",
      " 4,  6\n",
      " 4, 15\n",
      "15, 13\n"
     ]
    }
   ],
   "source": [
    "find_the_cycle(MST, Edge(2, 19, 0.2), 20)"
   ]
  },
  {
   "cell_type": "code",
   "execution_count": 85,
   "metadata": {},
   "outputs": [
    {
     "name": "stdout",
     "output_type": "stream",
     "text": [
      "We found 19 edges from node 3 to node 14\n",
      " 3, 18\n",
      "18,  0\n",
      " 0, 17\n",
      " 0,  5\n",
      " 5,  1\n",
      " 1, 11\n",
      "11,  7\n",
      " 7, 14\n",
      " 5, 12\n",
      " 5, 16\n",
      "16,  9\n",
      " 9,  8\n",
      " 9, 10\n",
      "18,  2\n",
      " 3,  4\n",
      " 4, 19\n",
      " 4,  6\n",
      " 4, 15\n",
      "15, 13\n"
     ]
    }
   ],
   "source": [
    "# Instead we can add edge (3, 14, 0.1)\n",
    "find_the_cycle(MST, Edge(3, 14, 0.1), 20)"
   ]
  },
  {
   "cell_type": "markdown",
   "metadata": {},
   "source": [
    "### Hint\n",
    "\n",
    "If you run the following codes,"
   ]
  },
  {
   "cell_type": "code",
   "execution_count": 81,
   "metadata": {},
   "outputs": [
    {
     "name": "stdout",
     "output_type": "stream",
     "text": [
      "The minimum spanning tree:\n",
      " 6,  8, 0.00920\n",
      " 5,  0, 0.02232\n",
      " 0,  1, 0.25507\n",
      " 3,  6, 0.43277\n",
      " 3,  1, 0.48786\n",
      " 9,  0, 0.52763\n",
      " 0,  2, 0.56920\n",
      " 4,  3, 0.59115\n",
      " 2,  7, 0.65159\n",
      "We found 9 edges from node 1 to node 8\n",
      " 1,  0\n",
      " 0,  2\n",
      " 2,  7\n",
      " 0,  5\n",
      " 0,  9\n",
      " 1,  3\n",
      " 3,  4\n",
      " 3,  6\n",
      " 6,  8\n"
     ]
    }
   ],
   "source": [
    "graph_hint = generate_graph_and_output_edges(10, 1, 2)\n",
    "\n",
    "mst = kruskal(graph_hint)\n",
    "\n",
    "print(\"The minimum spanning tree:\")\n",
    "for e in mst:\n",
    "    print(\"{:2d}, {:2d}, {:.5f}\".format(e.node1, e.node2, e.weight))\n",
    "\n",
    "find_the_cycle(mst, Edge(1, 8, 0.2), 10)"
   ]
  },
  {
   "cell_type": "code",
   "execution_count": 83,
   "metadata": {},
   "outputs": [
    {
     "name": "stdout",
     "output_type": "stream",
     "text": [
      "\n"
     ]
    }
   ],
   "source": [
    "# this is the results you should get:\n",
    "'''\n",
    "The minimum spanning tree:\n",
    " 8,  6, 0.00920\n",
    " 0,  5, 0.02232\n",
    " 1,  0, 0.25507\n",
    " 6,  3, 0.43277\n",
    " 1,  3, 0.48786\n",
    " 0,  9, 0.52763\n",
    " 2,  0, 0.56920\n",
    " 3,  4, 0.59115\n",
    " 7,  2, 0.65159\n",
    "We found 3 edges from node 1 to node 8\n",
    " 1,  3\n",
    " 3,  6\n",
    " 6,  8\n",
    "'''\n",
    "print()"
   ]
  },
  {
   "cell_type": "markdown",
   "metadata": {},
   "source": [
    "# Answers to the other questions of the Final Exam"
   ]
  },
  {
   "cell_type": "markdown",
   "metadata": {},
   "source": [
    "### Q 1.1 (A)\n",
    "The minimum spanning tree does not change when each edge weight is incremented by 1\n",
    "### Q 1.2 (B)\n",
    "Removing the root node is the only way to disconnect the tree\n",
    "\n",
    "### Q 1.3 (C)\n",
    "?\n",
    "\n",
    "### Q 1.4 (D)\n",
    "6 minutes \n",
    "\n",
    "### Q 1.5 (B)\n",
    "{him, ham, cat, bat}\n",
    "\n",
    "### Q 1.6 (D)\n",
    "bacca\n",
    "\n",
    "\n",
    "\n",
    "\n"
   ]
  },
  {
   "cell_type": "markdown",
   "metadata": {},
   "source": [
    "# Q2\n",
    "\n",
    "Let the c deleted edges be $e_1, e_2, e_3,....e_c$, where   \n",
    "$e_1$ is the edge between node $u_1$ and $v_1$ with cost, $cost_1$   \n",
    "$e_2$ is the edge between node $u_2$ and $v_2$ with cost, $cost_2$  \n",
    ".  \n",
    ".  \n",
    ".  \n",
    "$e_c$ is the edge between node $u_c$ and $v_c$ with cost, $cost_c$  \n",
    "\n",
    "Starting from node $s$, run Dijkstra’s algorithm on the subgraph $H$ to get shortest path between nodes $s$ and $u_1,u_2,u_3,...u_c$ and store these values as $su_1,su_2,su_3....su_c$, respectively.   \n",
    "In general, represent these as $su_i$ where $i$ ranges from $1$ to $c$.  \n",
    "Based on the hint, this is an $O(mlogn)$ operation where $m$ is the number of edges in $H$ and $n$ is the number of vertices in $H$.\n",
    "\n",
    "Starting from node $t$, run Dijkstra’s algorithm on the subgraph $H$ to get shortest path between nodes $s$ and $v_1,v_2,v_3,...v_c$ and store these values as $sv_1,sv_2,sv_3....sv_c$, respectively.  \n",
    "In general, represent these as $sv_i$ where $i$ ranges from $1$ to $c$.  \n",
    "Based on the hint, this is an $O(mlogn)$ operation where m is the number of edges in $H$ and $n$ is the number of vertices in $H$.\n",
    "\n",
    "The goal now is to add back an edge $e_1$ or $e_2$....or $e_c$ such that we get the shortest path possible between $s$ and $t$. This is equivalent to minimizing the total cost $su_i + cost_i + sv_i$ for all $i$ between $1$ and $c$.  \n",
    "This is an $O(c)$ operation where $c$ is the number of elements of the list (c deleted edges), the maximum of which is to be found. \n",
    "\n",
    "In summary, Dijkstra’s algorithm needs to be run twice $O(2mlogn) \\approx O(mlogn)$ and the $O(n)$  \n",
    "\n",
    "So the total running time of the algorithm is $O(mlogn) + O(c)$. Assuming $c \\approx O(m)$, the total rumnning time of this algorithm is $O(mlogn)$"
   ]
  },
  {
   "cell_type": "markdown",
   "metadata": {},
   "source": [
    "# Q3 \n",
    "\n",
    "It is known that if a depth first search (DFS) starting from any arbitrary node of a graph, visits every other node of the (undirected)graph, then the graph is connected. Depth first search is  $O(m+n)$ where $m$ is the number of edges and $n$ is the number of nodes in the graph.\n",
    "\n",
    "Removing a node $v$ from a graph $G$, also removes certain number of edges $e \\leq m$. A connected graph $G$ becomes disconnected upon the removal of a node $v$ if any one of the edges $e$ is a `bridge`. The goal then is to identify if any of $e$ is a bridge. \n",
    "\n",
    "In other words, given a graph $G$, the aim is to identify edges which are bridges in O(m+n) time according to the question. Then we can check if any of the removed edges are bridges to decide if the graph remains connected or not upon the removal of a node.\n",
    "\n",
    "The DFS rooted on a node, gives rise to two kinds of edges in the resulting DFS tree since DFS does not visit all edges of a graph.\n",
    "1. Forward edges - These are the edges of $G$ which are visited while generating the DFS tree\n",
    "2. Back edges - These are the edges of $G$ which are not visited while generating the DFS tree\n",
    "\n",
    "Back edges, put into a DFS tree, creates cycles in a tree. Additionally, back edges connect a node to an ancestor of the node, who is not its direct parent. Back edges can never be bridges since if it were a bridge, it would be visited by DFS and be included in the DFS tree.\n",
    "Therefore, only forward edges can be candidates for bridges.\n",
    "\n",
    "Pseudocode to identify bridges in $O(m+n)$ (stemming off the Tarjan's algorithm)...same as DFS time complexity.\n",
    "\n",
    "1. Start traversing a connected graph $G$ from node $v$\n",
    "2. During DFS on $G$, keep track and update the following information\n",
    "    - Discovery time (`disc`): For each node, this value indicates the time (starting from 0) at which the node is visited by the DFS\n",
    "    - Low value (`low`): This value for each node, $u$, indicates whether there is an earlier node (whose discovery time value will be lower) which can be visited by the subtree rooted in the node $u$.\n",
    "3. In DFS tree a forward edge (u, v) (u is parent of v in DFS tree) is a bridge if there does not exist any other alternative to reach u or an ancestor of u from subtree rooted with v. low[v] indicates earliest visited vertex reachable from subtree rooted with v. The condition for an edge (u, v) to be a bridge is, “low[v] > disc[u]”\n",
    "4. Store all such (u,v). These are the bridges.\n",
    "\n",
    "\n",
    "Given the list of all bridge edges, check if any of these bridge edges is present in the list of removed edges when node v is removed from graph $G$. This check can be an $O(1)$ or $O(m)$ operation. If it is present, then this means that the graph becomes disconnected upon removal of the node. Otherwise, it remains connected. \n",
    "\n",
    "The overall time complexity of this algorithm is $O(m+n)$\n",
    "\n",
    "```\n",
    "    //the value of 'time' will not be initialized for next function calls mark start as visited\n",
    "\n",
    "    time := 0 \n",
    "    set disc[start] := time+1 and low[start] := time + 1\n",
    "    time := time + 1\n",
    "\n",
    "    for all vertex v in the graph G, do\n",
    "        if there is an edge between (start, v), then\n",
    "            if v is visited, then\n",
    "                parent[v] := start\n",
    "                bridgeDetails(v, visited, disc, low, parent)\n",
    "                low[start] := minimum of low[start] and low[v]\n",
    "\n",
    "                if low[v] > disc[start], then\n",
    "                display bridges from start to v\n",
    "            else if v is not the parent of start, then\n",
    "                low[start] := minimum of low[start] and disc[v]\n",
    "    done\n",
    "    \n",
    "    End\n",
    "```"
   ]
  },
  {
   "cell_type": "markdown",
   "metadata": {},
   "source": [
    "# Q4\n",
    "\n",
    "Total bits used by Huffman encoding with the given frequency = 17500 (Average 1.75 bits)  \n",
    "Total bits used by encoding, where each character is encoded using 2 bits = 20000 (Average 2 bits)  \n",
    "\n",
    "Photograph of the huffman tree generation process and calculations shown in the photograph. "
   ]
  },
  {
   "cell_type": "markdown",
   "metadata": {},
   "source": [
    "# Q6"
   ]
  },
  {
   "cell_type": "markdown",
   "metadata": {},
   "source": [
    "\n",
    "Pseudocode - \n",
    "\n",
    "Given N x N board of characters, from a randomly chosen grid point, there are 8 possible directions to traverse.  \n",
    "(1)Up, (2)Down, (3)Left, (4)Right, (5)Top right, (6)Top left, (7)Bottom right, (8)Bottom left.  \n",
    "\n",
    "```\n",
    "For row in range(N) # O(N)\n",
    "    For column in range(N)  # O(N)\n",
    "        grid point index = (row,col) \n",
    "        For each word in the given set of N words, # O(N)\n",
    "            - Traverse in all 8 directions on the board of characters from the grid point, \n",
    "                for a total distance (in each direction) equalling the length of the word to be found.   \n",
    "            - Ensure the program(crawler) remains within the bounds of the board. \n",
    "            - Use brute force technique to make character comparisons \n",
    "            - Worst case number of character comparisons to be made, per word, per grid point, \n",
    "                accoutning for all 8 directions is 8 x len(word)\n",
    "``` \n",
    "\n",
    "Therefore, worst case time complexity is $O(N \\times N \\times N \\times 8 \\times len(longest\\ word)) \\approx O(N^3)$, assuming $len(longest\\ word) << N,\\ and\\ N >> 8$\n",
    "    "
   ]
  },
  {
   "cell_type": "markdown",
   "metadata": {},
   "source": [
    "# Q7"
   ]
  },
  {
   "cell_type": "code",
   "execution_count": 311,
   "metadata": {},
   "outputs": [],
   "source": [
    "def calc(n): \n",
    "    k=0 #O(1)\n",
    "    i = n/2 #O(1)\n",
    "    while(i<=n): #since i is incrementing by 1 each time, this has to run a maximum (worst case) of n/2 times as it starts from n/2\n",
    "        i=i+1 #O(1)\n",
    "        j=2 #O(1)\n",
    "        #since j is incrementing by a factor of 2 each time, the remaining interval decreases by a factor of 2. \n",
    "        # Thus this has worse case time complexity of O(logn)\n",
    "        while(j<=n):\n",
    "            j=j*2 #O(1)\n",
    "            k = k + n/2 #O(1)\n",
    "    return k"
   ]
  },
  {
   "cell_type": "markdown",
   "metadata": {},
   "source": [
    "Therefore, \n",
    "* The time complexity of the above function is $O(1) + O(1) + O(n/2 \\times logn \\times 1 \\times 1) \\approx O(nlogn)$\n",
    "* The value of k :  \n",
    "    A value of $n/2$ gets added to k (starting from 0), $nlogn$ times. Therefore, $k \\approx O(n^2logn)$  "
   ]
  },
  {
   "cell_type": "markdown",
   "metadata": {},
   "source": [
    "# Q8\n",
    "\n",
    "1. Merge sort always splits the array into two equal halves while quick sort doesn't necessarily split into two equal halves. Instead it splits in a ratio based on the pivot location\n",
    "2. Time complexity of quick sort is $O(N^2)$ whereas time complexity of merge sort is $O(NlogN)$\n",
    "3. Merge sort is a stable sorting algorithm while quick sort is unstable.\n",
    "4. Since merge sort is a recursive algorithm, it can be memory ineffiecient and perform have a large recursive stack\n",
    "5. Quick sort is an inplace sorting (memory efficient) whereas merge sort requires additional memory to store the sorted elements.\n",
    "\n",
    "\n",
    "Why merge sort is better for linked lists.\n",
    "\n",
    "In linked lists, the elements to be sorted are not stored in adjacent memory locations (unlike an array).  \n",
    "To access an element in the ith position in a linked list, we have to start from the head element and sequentially travel each and every node until we reach the ith position as we don’t have a continuous block of memory (having which, would have made quick random access possible).  \n",
    "\n",
    "Quick Sort requires a lot of access to different memory locations (randomly, not sequentially).  Therefore, quick sort used on linked list is slow and heavy.   \n",
    "On the other hand, merge sort accesses data sequentially and the need for random access is low, which makes it very suitable for linked lists.\n",
    " "
   ]
  },
  {
   "cell_type": "markdown",
   "metadata": {},
   "source": [
    "# Q9"
   ]
  },
  {
   "cell_type": "code",
   "execution_count": 322,
   "metadata": {},
   "outputs": [],
   "source": [
    "#Boyer Moore (from the assignment)\n",
    "def find_boyer_moore(T, P):\n",
    "    \"\"\"\n",
    "    Boyer-moore string matching algorithm returns\n",
    "    the first index of the matching substring P in string T.\n",
    "    \"\"\"\n",
    "    n, m = len(T), len(P)\n",
    "    if m == 0:\n",
    "        return 0\n",
    "    #key is letter, value is index. Reading from the end. So last letter will have index 0\n",
    "    last = {}\n",
    "    for k in range(m):\n",
    "        last[P[k]] = k\n",
    "    #i is for text, reading from the end of pattern.\n",
    "    i = m-1\n",
    "    #k is for the pattern, reading from the end of pattern.\n",
    "    k = m-1\n",
    "    \n",
    "    count = 0\n",
    "    \n",
    "    while i < n:\n",
    "        # If match, decrease i,k\n",
    "        count += 1\n",
    "        if T[i] == P[k]:\n",
    "            if k == 0:\n",
    "                return i,count\n",
    "            else:\n",
    "                i -= 1\n",
    "                k -= 1\n",
    "        # Not match , reset the positions\n",
    "        else:\n",
    "            #check if the element in the text which didn't match the pattern is elsewhere in the pattern. Get that position\n",
    "            j = last.get(T[i], -1)\n",
    "            #shift the entire pattern if j = -1 or shift until the matching character in the text.\n",
    "            i += m - min(k, j+1)\n",
    "            #k reset to end of pattern.\n",
    "            k = m-1\n",
    "    return -1,count"
   ]
  },
  {
   "cell_type": "code",
   "execution_count": 323,
   "metadata": {},
   "outputs": [
    {
     "name": "stdout",
     "output_type": "stream",
     "text": [
      "CTGC matches GCATGACTGCGTGACC starting at index 6. The total number of comparisons made are 6\n"
     ]
    }
   ],
   "source": [
    "s = \"GCATGACTGCGTGACC\"   \n",
    "p = \"CTGC\"\n",
    "\n",
    "index,compare = find_boyer_moore(s,p)\n",
    "print(f\"{p} matches {s} starting at index {index}. The total number of comparisons made are {compare}\")"
   ]
  },
  {
   "cell_type": "markdown",
   "metadata": {},
   "source": [
    "s = “GCATGACTGCGTGACC\"   \n",
    "p = “CTGC\"\n",
    "\n",
    "Booyer Moore Step by Step\n",
    "\n",
    "- Read from the end of the pattern (pattern_index=3, letter C) and corresponding position of the string (string_index=3, letter T). \n",
    "- Check if the letters match\n",
    "- The two letters don't match. Number of comparisons made so far = 1\n",
    "- Mismatch occurs between p's C and s's T. \n",
    "- Check if T is present in p. \n",
    "- It is. Get the position of T in p using the lookup table created at the beginning of the program (Named `last`). It is at position 1 of the pattern\n",
    "- Now the pattern is shifted so that CTGC comes under ...ATGA... of the string.  \n",
    "\n",
    "This completes the first iteration of the algorithm \n",
    "\n",
    "- Start from the end of the pattern again (pattern_index=3, letter C) and check if the letter C of p matches with letter A of s (string_index=5, letter A).  \n",
    "- The two letters don't match. Number of comparisons made so far = 2\n",
    "- Mismatch occurs between p's C and s's A. \n",
    "- Check if G is present in p. \n",
    "- It is not. So shift the entire pattern by the length of the pattern.\n",
    "- Now the pattern is shifted so that CTGC comes under ...CTGC... of the string. \n",
    "\n",
    "This completes the second iteration of the algorithm\n",
    "\n",
    "- Start from the end of the pattern again (pattern_index=3, letter C) and check if the letter C of p matches with letter C of s (string_index=9, letter A). \n",
    "- The two letters match. Number of comparisons made so far = 3. Continue such comparisons.\n",
    "- G of p (pattern_index=2) matches with G (string_index=8) of s. Number of comparisons made so far = 4\n",
    "- T of p (pattern_index=2) matches with T (string_index=7) of s. Number of comparisons made so far = 5\n",
    "- C of p (pattern_index=2) matches with C (string_index=6) of s. Number of comparisons made so far = 6\n",
    "\n",
    "This completes the algorithm. Output the string index and the number of comparisons made.\n",
    "\n",
    "\n",
    "\n",
    "\n"
   ]
  },
  {
   "cell_type": "markdown",
   "metadata": {},
   "source": [
    "# Q10"
   ]
  },
  {
   "cell_type": "code",
   "execution_count": 234,
   "metadata": {},
   "outputs": [],
   "source": [
    "def does_subset_with_sum_exist(arr, target_sum):\n",
    "\n",
    "    n = len(arr)\n",
    "     \n",
    "    # The value of subset[i][j] will be true if there is a subset of arr[0..j-1] with sum equal to i\n",
    "\n",
    "    #make a table with all false values. Rows represent array indices and columns represent sums from 0 to target sum\n",
    "    table = [[False for _ in range(target_sum + 1)] for __ in range(n + 1)] # O(target_sum*len(arr))\n",
    "     \n",
    "    # If selected sum is 0, then answer is true since all empty sets have sum 0.\n",
    "    for i in range(n + 1):\n",
    "        table[i][0] = True\n",
    "         \n",
    "    # If selected sum is not 0 and set is empty, then answer is false cause this is unattainable\n",
    "    for i in range(1, target_sum + 1):\n",
    "         table[0][i]= False\n",
    "             \n",
    "    # for each row in the table\n",
    "    for i in range(1, n + 1): # O(len(array))\n",
    "        #for each column of the table\n",
    "        for j in range(1, target_sum + 1):  # O(target_sum)\n",
    "            # if the selected sum is lesser than the array element, copy boolean from the previous array element (row above) \n",
    "            if j < arr[i-1]:\n",
    "                table[i][j] = table[i-1][j]\n",
    "\n",
    "             # if the selected sum is greater than the array element, copy either boolean from the previous array element (row above) or from a shifted column\n",
    "             # This is equivalent to moving one step up and x steps back where x is arr[i-1]\n",
    "            if j >= arr[i-1]:\n",
    "                table[i][j] = (table[i-1][j] or table[i - 1][j-arr[i-1]])\n",
    "     \n",
    "    return table[n][target_sum]"
   ]
  },
  {
   "cell_type": "markdown",
   "metadata": {},
   "source": [
    "The time complexity of the dynamic programming implementation to check if the subset with sum x exists, given a set, is $O(nm)$  \n",
    "where n in the size of the input array or set and m is the target sum value. Its a pseudo polynomial time algorithm."
   ]
  },
  {
   "cell_type": "code",
   "execution_count": 242,
   "metadata": {},
   "outputs": [
    {
     "name": "stdout",
     "output_type": "stream",
     "text": [
      "Does subset with sum 25 exist in [3, 7, 11, 15, 21]? True\n",
      "Does subset with sum 0 exist in [3, 7, 11, 15, 21]? True\n",
      "Does subset with sum 100 exist in [3, 7, 11, 15, 21]? False\n",
      "Does subset with sum 100 exist in [15, 15, 15]? False\n",
      "Does subset with sum 45 exist in [15, 15, 15]? True\n"
     ]
    }
   ],
   "source": [
    "#Proof that `does_subset_with_sum_exist` works \n",
    "A = [3,7,11,15,21]\n",
    "target_sum = 25\n",
    "print(f\"Does subset with sum {target_sum} exist in {A}?\",does_subset_with_sum_exist(A, target_sum))\n",
    "\n",
    "A = [3,7,11,15,21]\n",
    "target_sum = 0\n",
    "print(f\"Does subset with sum {target_sum} exist in {A}?\",does_subset_with_sum_exist(A, target_sum))\n",
    "\n",
    "A = [3,7,11,15,21]\n",
    "target_sum = 100\n",
    "print(f\"Does subset with sum {target_sum} exist in {A}?\",does_subset_with_sum_exist(A, target_sum))\n",
    "\n",
    "A = [15,15,15]\n",
    "target_sum = 100\n",
    "print(f\"Does subset with sum {target_sum} exist in {A}?\",does_subset_with_sum_exist(A, target_sum))\n",
    "\n",
    "A = [15,15,15]\n",
    "target_sum = 45\n",
    "print(f\"Does subset with sum {target_sum} exist in {A}?\",does_subset_with_sum_exist(A, target_sum))\n"
   ]
  },
  {
   "cell_type": "markdown",
   "metadata": {},
   "source": [
    "# Q 11\n",
    "Given an L table, the length of the LCS is given by the value at the bottom right of the table. In this case, the value at the bottom right is 6. Therefore the length of the LCS is 6.\n"
   ]
  },
  {
   "cell_type": "markdown",
   "metadata": {},
   "source": [
    "# Programming Problem 2"
   ]
  },
  {
   "cell_type": "code",
   "execution_count": 298,
   "metadata": {},
   "outputs": [],
   "source": [
    "def dynamic_knapsack(arr,target_sum):\n",
    "\n",
    "    '''https://www.baeldung.com/cs/subset-of-numbers-closest-to-target'''\n",
    "\n",
    "    n = len(arr)\n",
    "    dp = [[None for _ in range (target_sum+1)] for __ in range(n+1)]\n",
    "    for sum in range(0,target_sum+1):\n",
    "        dp[n][sum] = sum\n",
    "    for i in range(n-1, -1,-1):\n",
    "        for sum in range(target_sum,-1,-1):\n",
    "            pick = 0\n",
    "            if sum + arr[i] <= target_sum:\n",
    "                pick = dp[i+1][sum+arr[i]]\n",
    "            leave = dp[i+1][sum]\n",
    "            dp[i][sum] = max(pick,leave)\n",
    "    # print(\"table\",dp)\n",
    "    return dp\n",
    " "
   ]
  },
  {
   "cell_type": "code",
   "execution_count": 309,
   "metadata": {},
   "outputs": [
    {
     "data": {
      "text/plain": [
       "[[8, 9, 9, 9, 9, 8, 9, 9, 9, 9],\n",
       " [7, 8, 9, 8, 9, 7, 8, 9, 8, 9],\n",
       " [5, 6, 7, 8, 9, 5, 6, 7, 8, 9],\n",
       " [5, 6, 7, 8, 9, 5, 6, 7, 8, 9],\n",
       " [0, 1, 2, 3, 4, 5, 6, 7, 8, 9]]"
      ]
     },
     "execution_count": 309,
     "metadata": {},
     "output_type": "execute_result"
    }
   ],
   "source": [
    "table"
   ]
  },
  {
   "cell_type": "code",
   "execution_count": 308,
   "metadata": {},
   "outputs": [
    {
     "name": "stdout",
     "output_type": "stream",
     "text": [
      "subset of elements summing closest to 9 is [1, 2, 5] with a sum of 8\n"
     ]
    }
   ],
   "source": [
    "A = [1,2,5,5]\n",
    "target_sum = 9\n",
    "table = dynamic_knapsack(A,target_sum)\n",
    "\n",
    "add_to_sack = []\n",
    "row = 0\n",
    "while row<len(table)-1:\n",
    "    if table[row+1][0] != table[row][0]:\n",
    "        add_to_sack.append(A[row])\n",
    "    row += 1\n",
    "\n",
    "print(f\"subset of elements summing closest to {target_sum} is {add_to_sack} with a sum of {table[0][0]}\")"
   ]
  },
  {
   "cell_type": "code",
   "execution_count": 310,
   "metadata": {},
   "outputs": [
    {
     "name": "stdout",
     "output_type": "stream",
     "text": [
      "subset of elements summing closest to 726 is [63, 191, 70, 71, 75, 83, 91, 101, 112, 121] with a sum of 726\n"
     ]
    }
   ],
   "source": [
    "A = list({5, 23, 27, 37, 48, 51, 63, 67, 71, 75, 70, 83, 889, 91, 101, 112, 121, 132, 137, 141, 143, 147, 153, 159, 171, 181, 190, 191})\n",
    "target_sum = 726\n",
    "table = dynamic_knapsack(A,target_sum)\n",
    "\n",
    "add_to_sack = []\n",
    "row = 0\n",
    "while row<len(table)-1:\n",
    "    if table[row+1][0] != table[row][0]:\n",
    "        add_to_sack.append(A[row])\n",
    "    row += 1\n",
    "\n",
    "print(f\"subset of elements summing closest to {target_sum} is {add_to_sack} with a sum of {table[0][0]}\")"
   ]
  }
 ],
 "metadata": {
  "interpreter": {
   "hash": "f95d9307f45ddfb406dd09f6e4b2fa70e170c66451c4561bc8b2afdb5e53bc6a"
  },
  "kernelspec": {
   "display_name": "Python [conda env:sci_computing] *",
   "language": "python",
   "name": "python3"
  },
  "language_info": {
   "codemirror_mode": {
    "name": "ipython",
    "version": 3
   },
   "file_extension": ".py",
   "mimetype": "text/x-python",
   "name": "python",
   "nbconvert_exporter": "python",
   "pygments_lexer": "ipython3",
   "version": "3.7.11"
  }
 },
 "nbformat": 4,
 "nbformat_minor": 2
}
