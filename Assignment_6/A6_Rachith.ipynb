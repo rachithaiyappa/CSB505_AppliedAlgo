{
 "cells": [
  {
   "cell_type": "code",
   "execution_count": 1,
   "metadata": {},
   "outputs": [],
   "source": [
    "import numpy as np\n",
    "import copy\n",
    "from scipy.stats import multivariate_normal\n",
    "import matplotlib.pyplot as plt\n",
    "import pandas as pd\n",
    "import pickle as pkl"
   ]
  },
  {
   "cell_type": "markdown",
   "metadata": {},
   "source": [
    "# Synthetic Datapoints to test the EM algorithm while building"
   ]
  },
  {
   "cell_type": "code",
   "execution_count": null,
   "metadata": {},
   "outputs": [],
   "source": [
    "n=100 #number of points\n",
    "d=2 #dimension of each point\n",
    "k=2 #clusters\n",
    "\n",
    "#randomly generate k number of  d-dimensional means\n",
    "mus=np.random.random((k,d))*20-10 \n",
    "\n",
    "#Data Generation\n",
    "X=[]\n",
    "for i in range(n):\n",
    "    for j in range(k):\n",
    "        X.append([mean+np.random.randn() for mean in mus[j]])\n",
    "#we have our dataset, where each point is a d+1 dimensional tuple where the last position represents its class \n",
    "\n",
    "X = np.asarray(X)"
   ]
  },
  {
   "cell_type": "markdown",
   "metadata": {},
   "source": [
    "# EM Algorithm"
   ]
  },
  {
   "cell_type": "code",
   "execution_count": 83,
   "metadata": {},
   "outputs": [],
   "source": [
    "def EM(X,k):\n",
    "\n",
    "    #dimension of the dataset\n",
    "    d = X.shape[1]\n",
    "\n",
    "    #number of points in the dataset\n",
    "    n = X.shape[0]\n",
    "\n",
    "    '''initialising means ---------------------------------'''\n",
    "    # random means\n",
    "    # old_mus = np.array([np.random.rand(d) for _ in range(k)])\n",
    "\n",
    "    # select random datapoints from data as initial means\n",
    "    random_rows = np.random.choice(X.shape[0], size=k, replace=False)\n",
    "    old_mus = copy.deepcopy(X[random_rows, :])\n",
    "\n",
    "    # choose means from unifrom random between 'a' and 'b' \n",
    "    # old_mus = np.random.random((k,d))*20-10 \n",
    "    # old_mus = np.random.random((k,d))*np.max(X)-np.min(X)\n",
    "\n",
    "\n",
    "    new_mus = copy.deepcopy(old_mus)\n",
    "    # print('original',mus)\n",
    "    # print(\"initial\", new_mus)\n",
    "    '''-------------------------------------------------------'''\n",
    "\n",
    "\n",
    "    '''initalising covariance matrices-------------------------'''\n",
    "    #identity matrices of dxd dimension as covariance matrices\n",
    "    old_cov = np.asarray([np.eye(d) for _ in range(k)])\n",
    "    new_cov = copy.deepcopy(old_cov)\n",
    "    '''-------------------------------------------------------'''\n",
    "\n",
    "    '''initialising priors-------------------------------------'''\n",
    "    #priors are 1/k where k is the number of classes\n",
    "    old_priors = np.full((k),1/k)\n",
    "    new_priors = copy.deepcopy(old_priors)\n",
    "    '''-------------------------------------------------------'''\n",
    "\n",
    "    #stopping condition\n",
    "    eps = 1e-02\n",
    "\n",
    "    #starting time\n",
    "    t = 0\n",
    "\n",
    "    #aritifcal condition to enter the loop\n",
    "    obt_eps = 1\n",
    "\n",
    "    while (obt_eps > eps) or (t==0):\n",
    "        t += 1\n",
    "\n",
    "        '''Begin Expectation step---------------------------------------------------------'''\n",
    "        #get the W matrix\n",
    "        #unnormalised\n",
    "        # W_temp = copy.deepcopy(tabulate(list(range(n)),list(range(k)),w_mat))\n",
    "        # W_temp = np.array(list(map(w_mat, * np.meshgrid(list(range(n)), list(range(k))))))\n",
    "        W_temp = np.zeros((k,n),dtype=float)\n",
    "        for j in range(k):\n",
    "            W_temp[j,:]= multivariate_normal.pdf(X,mean=new_mus[j],cov=new_cov[j],allow_singular=True) * new_priors[j]\n",
    "\n",
    "        temp = copy.deepcopy(W_temp)\n",
    "        #normalised\n",
    "        W = copy.deepcopy(temp/temp.sum(axis=0))\n",
    "\n",
    "        #it so happens that sometime, the probability of a point being assinged to any of the cluster is 0.\n",
    "        #this is probably an artefact of multivariate.normal.pdf giving very small values \n",
    "        # and the 64 bit precision of the computer rounding stuff off to 0 or nan. \n",
    "        #When this happens, this part of the assigns the point to any of the clusters with equal probability.\n",
    "        if np.isfinite(W).all():\n",
    "            pass\n",
    "        else:\n",
    "            W_temp_where = np.where(temp.sum(axis=0)==0.0)\n",
    "            for ii in W_temp_where:\n",
    "                W[:,ii] = 1/k\n",
    "        '''End Expectation step------------------------------------------------------------'''\n",
    "\n",
    "        #get sum of W for each cluster\n",
    "        temp = copy.deepcopy(W)\n",
    "        sum_w = copy.deepcopy(temp.sum(axis=1))\n",
    "\n",
    "        '''Begin Maximization step---------------------------------------------------------'''\n",
    "        # re-estimate means\n",
    "        old_mus = copy.deepcopy(new_mus)\n",
    "        #unnormalised\n",
    "        new_mus_temp = copy.deepcopy(W @ X)\n",
    "        temp = copy.deepcopy(new_mus_temp)\n",
    "        #normalised\n",
    "        new_mus = copy.deepcopy(temp/sum_w[:,None])\n",
    "\n",
    "        # re-estimate covariance\n",
    "        old_cov = copy.deepcopy(new_cov)\n",
    "        #unnormalised\n",
    "        # new_cov_temp = copy.deepcopy([cov_loop(n,a) for a in range(k)])\n",
    "        # temp = copy.deepcopy(new_cov_temp)\n",
    "        #normalised\n",
    "        # new_cov = copy.deepcopy([temp[a]/sum_w[a] for a in range(k)])\n",
    "        new_cov = [\n",
    "                    np.sum(\n",
    "                            [\n",
    "                                W[i,j]/(sum_w[i])*\n",
    "                                (\n",
    "                                    (np.expand_dims(X[j]-new_mus[i], axis=0).T) @ \n",
    "                                    np.expand_dims(X[j]-new_mus[i], axis=0)\n",
    "                                ) \n",
    "                                for j in range(n)\n",
    "                            ],axis=0\n",
    "                        ) \n",
    "                        for i in range(k)\n",
    "                     ]\n",
    "        # new_cov = copy.deepcopy([cov_loop(n,a) for a in range(k)])\n",
    "\n",
    "\n",
    "\n",
    "        # re-estimate priors\n",
    "        old_priors = copy.deepcopy(new_priors)\n",
    "        new_priors = copy.deepcopy(sum_w/n)\n",
    "        '''End Maximization step---------------------------------------------------------'''\n",
    "\n",
    "        obt_eps = np.sum([np.linalg.norm(new_mus[a]-old_mus[a]) for a in range(k)])\n",
    "        print(obt_eps)\n",
    "    # print(\"final\", t,n,k,d,new_mus) \n",
    "    return W,new_mus,new_cov,t\n",
    "\n",
    "def error_analysis(posterior_matrix,\\\n",
    "                    obtained_cluster_means,\\\n",
    "                    actual_means,\\\n",
    "                    df):\n",
    "    #creating a final array from the dataframe\n",
    "    posterior = pd.DataFrame(posterior_matrix)\n",
    "\n",
    "    #hard assignment. Each point is assigned to a cluster which has the maxiumum value of P(C|X)\n",
    "    clustered_points = posterior.idxmax().to_dict()\n",
    "\n",
    "    #ground truth from data\n",
    "    ground_truth_means = copy.deepcopy(actual_means)\n",
    "\n",
    "    #ground truth from data\n",
    "    # ground_truth_cov = copy.deepcopy(actual_cov)\n",
    "\n",
    "    #dictionary which maps the k cluster (means) to 2 clusters (since the ground truth only has two clusters)\n",
    "    assignment_of_means_to_clusters = {}\n",
    "    for i,each_cluster in enumerate(obtained_cluster_means):\n",
    "        #measure eucledian distance to each of the ground truth clusters from the kth cluster and \n",
    "        #assign the cluster label to the ground truth cluster closer to it\n",
    "        if np.linalg.norm(ground_truth_means[0]-each_cluster) > np.linalg.norm(ground_truth_means[1]-each_cluster):\n",
    "            assignment_of_means_to_clusters[i] = 1\n",
    "        else:\n",
    "            assignment_of_means_to_clusters[i] = 0\n",
    "\n",
    "    # now that k mean labels have been mapped to two clusters, \n",
    "    # map the points of each of the obtained clusters to one of the two ground truth cluster. \n",
    "    # if point 1 is in the 4th cluster (obtained from EM algo) \n",
    "    # and the 4th cluster has been mapped to cluster X of the ground truth data,\n",
    "    # then point 1 now belongs to cluster X\n",
    "    final_assignment_of_points = {k:assignment_of_means_to_clusters[v] for k,v in clustered_points.items()}\n",
    "\n",
    "    #for ringnorm, 0 label means the cluster \n",
    "    # with ground truth means 0 (of d dimension) and cov (4*identity) of 20x20dimension\n",
    "    # 1 label means the cluster with ground truth means 2/sqrt(20) (of d-dimension) and cov identity of 20x20dimension\n",
    "\n",
    "    ground_truth_assignment_of_points = df[len(actual_means[0])].to_dict()\n",
    "\n",
    "    error_df = pd.DataFrame()\n",
    "    error_df['assigned'] = final_assignment_of_points.values()\n",
    "    error_df['ground_truth'] = ground_truth_assignment_of_points.values()\n",
    "\n",
    "\n",
    "    error_0 = error_df[error_df['ground_truth'] == 0]\n",
    "    #proportion of points which should be assigned to cluster 0 but were assigned to cluster 1 instead\n",
    "    # error_01 = (len(error_0[error_0['assigned']==1])/len(error_0))\n",
    "    error_01 = (len(error_0[error_0['assigned']==1])/len(error_df))\n",
    "\n",
    "    error_1 = error_df[error_df['ground_truth'] == 1]\n",
    "    #proportion of points which should be assigned to cluster 1 but were assigned to cluster 0 instead\n",
    "    # error_10 = len(error_1[error_1['assigned']==0])/len(error_1)\n",
    "    error_10 = len(error_1[error_1['assigned']==0])/len(error_df)\n",
    "\n",
    "    # counter = 0\n",
    "    # for index, row in error_df.iterrows():\n",
    "    #     if row['ground_truth'] != row['assigned']:\n",
    "    #         counter +=1\n",
    "    # return counter\n",
    "\n",
    "\n",
    "    return error_01,error_10\n"
   ]
  },
  {
   "cell_type": "markdown",
   "metadata": {},
   "source": [
    "# Ringnorm analysis"
   ]
  },
  {
   "cell_type": "code",
   "execution_count": 87,
   "metadata": {},
   "outputs": [],
   "source": [
    "# Loading data\n",
    "# \\s+ since dataset has one or more white spaces\n",
    "df = pd.read_csv(\"Dataset.data\",sep='\\s+',header=None)\n",
    "\n",
    "X = df.to_numpy()\n",
    "X = X[:,:-1]\n",
    "\n",
    "mus = np.asarray(\n",
    "    [ [0]*X.shape[1],\n",
    "        [2/np.sqrt(20)]*X.shape[1]\n",
    "        ]\n",
    ")"
   ]
  },
  {
   "cell_type": "code",
   "execution_count": null,
   "metadata": {},
   "outputs": [],
   "source": [
    "#20 runs\n",
    "\n",
    "posteriors,output_mus,output_covs,iterations = {},{},{},{}\n",
    "\n",
    "for k in [2,3,4,5]:\n",
    "    data = {}\n",
    "    for e in range(20):\n",
    "        print(f\"k={k},e={e}\")\n",
    "        p,m,c,i = EM(X,k)\n",
    "        posteriors[e] = p\n",
    "        output_mus[e] = m\n",
    "        output_covs[e] = c\n",
    "        iterations[e] = i\n",
    "    data['posteriors'] = posteriors\n",
    "    data['output_mus'] = output_mus\n",
    "    data['output_covs'] = output_covs\n",
    "    data['iterations'] = iterations\n",
    "    with open(f\"ringnorm{k}.pkl\",'wb') as f:\n",
    "        pkl.dump(data,f)\n",
    "        "
   ]
  },
  {
   "cell_type": "code",
   "execution_count": null,
   "metadata": {},
   "outputs": [],
   "source": [
    "#single run\n",
    "posterior,new_means,_,_ = EM(X,4)"
   ]
  },
  {
   "cell_type": "code",
   "execution_count": 10,
   "metadata": {},
   "outputs": [
    {
     "data": {
      "text/plain": [
       "Text(0, 0.5, 'number of clusters')"
      ]
     },
     "execution_count": 10,
     "metadata": {},
     "output_type": "execute_result"
    },
    {
     "data": {
      "image/png": "[encoded data removed]",
      "text/plain": [
       "<Figure size 432x288 with 1 Axes>"
      ]
     },
     "metadata": {
      "needs_background": "light"
     },
     "output_type": "display_data"
    }
   ],
   "source": [
    "data = []\n",
    "for k in [2,3,4,5]:\n",
    "    with open(f\"ringnorm{k}.pkl\",'rb') as f:\n",
    "        data.append(list(pkl.load(f)['iterations'].values()))\n",
    "_  = plt.boxplot(data,vert=False,labels=['2','3','4','5'])\n",
    "\n",
    "plt.xlabel('iterations count')\n",
    "plt.ylabel('number of clusters')"
   ]
  },
  {
   "cell_type": "code",
   "execution_count": null,
   "metadata": {},
   "outputs": [],
   "source": [
    "posteriors,output_mus,output_covs,iterations = {},{},{},{}\n",
    "\n",
    "for k in [2,3,4,5]:\n",
    "    data = {}\n",
    "    for e in range(20):\n",
    "        print(f\"k={k},e={e}\")\n",
    "        p,m,c,i = EM(X,k)\n",
    "        posteriors[e] = p\n",
    "        output_mus[e] = m\n",
    "        output_covs[e] = c\n",
    "        iterations[e] = i\n",
    "    data['posteriors'] = posteriors\n",
    "    data['output_mus'] = output_mus\n",
    "    data['output_covs'] = output_covs\n",
    "    data['iterations'] = iterations\n",
    "    with open(f\"ringnorm{k}.pkl\",'wb') as f:\n",
    "        pkl.dump(data,f)\n",
    "        "
   ]
  },
  {
   "cell_type": "code",
   "execution_count": 90,
   "metadata": {},
   "outputs": [
    {
     "name": "stdout",
     "output_type": "stream",
     "text": [
      "2\n",
      "3\n",
      "4\n",
      "5\n"
     ]
    }
   ],
   "source": [
    "total_error = {}\n",
    "for k in [2,3,4,5]:\n",
    "    print(k)\n",
    "    total_error[k] = []\n",
    "    with open(f\"ringnorm{k}.pkl\",'rb') as f:\n",
    "       data = pkl.load(f)\n",
    "    for e in range(20):\n",
    "        # counter = error_analysis(data['posteriors'][e],data['output_mus'][e],mus,df)\n",
    "        error01,error10 = error_analysis(data['posteriors'][e],data['output_mus'][e],mus,df)\n",
    "        total_error[k].append(error01+error10)"
   ]
  },
  {
   "cell_type": "code",
   "execution_count": 91,
   "metadata": {},
   "outputs": [
    {
     "data": {
      "text/plain": [
       "Text(0, 0.5, 'number of clusters')"
      ]
     },
     "execution_count": 91,
     "metadata": {},
     "output_type": "execute_result"
    },
    {
     "data": {
      "image/png": "[encoded data removed]",
      "text/plain": [
       "<Figure size 432x288 with 1 Axes>"
      ]
     },
     "metadata": {
      "needs_background": "light"
     },
     "output_type": "display_data"
    }
   ],
   "source": [
    "data = [total_error[k] for k in [2,3,4,5]]\n",
    "_  = plt.boxplot(data,vert=False,labels=['2','3','4','5'])\n",
    "\n",
    "plt.xlabel('total error')\n",
    "plt.ylabel('number of clusters')"
   ]
  },
  {
   "cell_type": "code",
   "execution_count": 78,
   "metadata": {},
   "outputs": [],
   "source": [
    "#\\s+ since dataset has one or more white spaces\n",
    "df = pd.read_csv(\"ionosphere.data\",header=None)\n"
   ]
  },
  {
   "cell_type": "code",
   "execution_count": 79,
   "metadata": {},
   "outputs": [],
   "source": [
    "X = df[list(range(34))].to_numpy()\n",
    "\n",
    "mean_g = [i/len(df[df[34]=='g']) for i in df[df[34]=='g'].sum(axis=0).to_list()[:-1]]\n",
    "mean_b = [i/len(df[df[34]=='b']) for i in df[df[34]=='b'].sum(axis=0).to_list()[:-1]]\n",
    "\n",
    "mus = np.array([mean_g,mean_b])"
   ]
  },
  {
   "cell_type": "code",
   "execution_count": 80,
   "metadata": {},
   "outputs": [
    {
     "data": {
      "text/plain": [
       "Text(0, 0.5, 'number of clusters')"
      ]
     },
     "execution_count": 80,
     "metadata": {},
     "output_type": "execute_result"
    },
    {
     "data": {
      "image/png": "[encoded data removed]",
      "text/plain": [
       "<Figure size 432x288 with 1 Axes>"
      ]
     },
     "metadata": {
      "needs_background": "light"
     },
     "output_type": "display_data"
    }
   ],
   "source": [
    "data = []\n",
    "for k in [2,3,4]:\n",
    "    with open(f\"ionosphere{k}.pkl\",'rb') as f:\n",
    "        data.append(list(pkl.load(f)['iterations'].values()))\n",
    "_  = plt.boxplot(data,vert=False,labels=['2','3','4'])\n",
    "\n",
    "plt.xlabel('iterations count')\n",
    "plt.ylabel('number of clusters')"
   ]
  },
  {
   "cell_type": "code",
   "execution_count": 84,
   "metadata": {},
   "outputs": [
    {
     "name": "stderr",
     "output_type": "stream",
     "text": [
      "/Users/rachithaiyappa/anaconda3/lib/python3.7/site-packages/pandas/core/ops/__init__.py:1115: FutureWarning: elementwise comparison failed; returning scalar instead, but in the future will perform elementwise comparison\n",
      "  result = method(y)\n"
     ]
    },
    {
     "name": "stdout",
     "output_type": "stream",
     "text": [
      "2\n",
      "3\n",
      "4\n"
     ]
    }
   ],
   "source": [
    "df[df[34]=='g']=0\n",
    "df[df[34]=='b']=1\n",
    "total_error = {}\n",
    "for k in [2,3,4]:\n",
    "    print(k)\n",
    "    total_error[k] = []\n",
    "    with open(f\"Ionosphere{k}.pkl\",'rb') as f:\n",
    "       data = pkl.load(f)\n",
    "    for e in range(20):\n",
    "        error_01,error_10 = error_analysis(data['posteriors'][e],data['output_mus'][e],mus,df)\n",
    "        # counter = error_analysis(data['posteriors'][e],data['output_mus'][e],mus,df)\n",
    "        total_error[k].append(error_01+error_10)\n",
    "        # total_error[k].append(counter/len(df))"
   ]
  },
  {
   "cell_type": "code",
   "execution_count": 85,
   "metadata": {},
   "outputs": [
    {
     "data": {
      "text/plain": [
       "Text(0, 0.5, 'number of clusters')"
      ]
     },
     "execution_count": 85,
     "metadata": {},
     "output_type": "execute_result"
    },
    {
     "data": {
      "image/png": "[encoded data removed]",
      "text/plain": [
       "<Figure size 432x288 with 1 Axes>"
      ]
     },
     "metadata": {
      "needs_background": "light"
     },
     "output_type": "display_data"
    }
   ],
   "source": [
    "data = [total_error[k] for k in [2,3,4]]\n",
    "_  = plt.boxplot(data,vert=False,labels=['2','3','4'])\n",
    "\n",
    "plt.xlabel('total error')\n",
    "plt.ylabel('number of clusters')"
   ]
  }
 ],
 "metadata": {
  "interpreter": {
   "hash": "f95d9307f45ddfb406dd09f6e4b2fa70e170c66451c4561bc8b2afdb5e53bc6a"
  },
  "kernelspec": {
   "display_name": "Python 3.7.4 64-bit ('base': conda)",
   "name": "python3"
  },
  "language_info": {
   "codemirror_mode": {
    "name": "ipython",
    "version": 3
   },
   "file_extension": ".py",
   "mimetype": "text/x-python",
   "name": "python",
   "nbconvert_exporter": "python",
   "pygments_lexer": "ipython3",
   "version": "3.7.4"
  },
  "orig_nbformat": 4
 },
 "nbformat": 4,
 "nbformat_minor": 2
}
