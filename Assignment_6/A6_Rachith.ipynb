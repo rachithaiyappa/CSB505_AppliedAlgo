{
 "cells": [
  {
   "cell_type": "code",
   "execution_count": 1,
   "metadata": {},
   "outputs": [],
   "source": [
    "import numpy as np\n",
    "import copy\n",
    "from scipy.stats import multivariate_normal\n",
    "import matplotlib.pyplot as plt\n",
    "import pandas as pd\n",
    "import pickle as pkl"
   ]
  },
  {
   "cell_type": "markdown",
   "metadata": {},
   "source": [
    "# Synthetic Datapoints to test the EM algorithm while building\n",
    "\n",
    "Just used for testing purposes"
   ]
  },
  {
   "cell_type": "code",
   "execution_count": null,
   "metadata": {},
   "outputs": [],
   "source": [
    "n=100 #number of points\n",
    "d=2 #dimension of each point\n",
    "k=2 #clusters\n",
    "\n",
    "#randomly generate k number of  d-dimensional means\n",
    "mus=np.random.random((k,d))*20-10 \n",
    "\n",
    "#Data Generation\n",
    "X=[]\n",
    "for i in range(n):\n",
    "    for j in range(k):\n",
    "        X.append([mean+np.random.randn() for mean in mus[j]])\n",
    "#we have our dataset, where each point is a d+1 dimensional tuple where the last position represents its class \n",
    "\n",
    "X = np.asarray(X)"
   ]
  },
  {
   "cell_type": "markdown",
   "metadata": {},
   "source": [
    "# EM Algorithm"
   ]
  },
  {
   "cell_type": "code",
   "execution_count": 2,
   "metadata": {},
   "outputs": [],
   "source": [
    "def EM(X,k):\n",
    "\n",
    "    \"\"\"Input \n",
    "    - np.array((n,d)), an nxd matrix of data points\n",
    "    - n is the number of points\n",
    "    - d is the dimension\n",
    "    - k is the number of output cluster\n",
    "    \n",
    "    Output \n",
    "    - W - Posterior probability matrix (kxn)\n",
    "    - new_mus - kxd matrix of means for each cluster\n",
    "    - new_cov (kxdxd) -  a list of length k, where each element is a covariance matrix of dxd dimension.\n",
    "    - t: Number of iterations\"\"\"\n",
    "\n",
    "    #dimension of the dataset\n",
    "    d = X.shape[1]\n",
    "\n",
    "    #number of points in the dataset\n",
    "    n = X.shape[0]\n",
    "\n",
    "    '''initialising means ---------------------------------'''\n",
    "    # random means\n",
    "    # old_mus = np.array([np.random.rand(d) for _ in range(k)])\n",
    "\n",
    "    # select random datapoints from data as initial means\n",
    "    random_rows = np.random.choice(X.shape[0], size=k, replace=False)\n",
    "    old_mus = copy.deepcopy(X[random_rows, :])\n",
    "\n",
    "    # choose means from unifrom random between 'a' and 'b' \n",
    "    # old_mus = np.random.random((k,d))*20-10 \n",
    "    # old_mus = np.random.random((k,d))*np.max(X)-np.min(X)\n",
    "\n",
    "\n",
    "    new_mus = copy.deepcopy(old_mus)\n",
    "    '''-------------------------------------------------------'''\n",
    "\n",
    "\n",
    "    '''initalising covariance matrices-------------------------'''\n",
    "    #identity matrices of dxd dimension as covariance matrices\n",
    "    old_cov = np.asarray([np.eye(d) for _ in range(k)])\n",
    "    new_cov = copy.deepcopy(old_cov)\n",
    "    '''-------------------------------------------------------'''\n",
    "\n",
    "    '''initialising priors-------------------------------------'''\n",
    "    #priors are 1/k where k is the number of classes\n",
    "    old_priors = np.full((k),1/k)\n",
    "    new_priors = copy.deepcopy(old_priors)\n",
    "    '''-------------------------------------------------------'''\n",
    "\n",
    "    #stopping condition\n",
    "    eps = 1e-02\n",
    "\n",
    "    #starting time\n",
    "    t = 0\n",
    "\n",
    "    #aritifcal condition to enter the loop\n",
    "    obt_eps = 1\n",
    "\n",
    "    while (obt_eps > eps) or (t==0):\n",
    "        t += 1\n",
    "\n",
    "        '''Begin Expectation step---------------------------------------------------------'''\n",
    "        #get the W matrix\n",
    "        #unnormalised\n",
    "        # W_temp = copy.deepcopy(tabulate(list(range(n)),list(range(k)),w_mat))\n",
    "        # W_temp = np.array(list(map(w_mat, * np.meshgrid(list(range(n)), list(range(k))))))\n",
    "        W_temp = np.zeros((k,n),dtype=float)\n",
    "        for j in range(k):\n",
    "            W_temp[j,:]= multivariate_normal.pdf(X,mean=new_mus[j],cov=new_cov[j],allow_singular=True) * new_priors[j]\n",
    "\n",
    "        temp = copy.deepcopy(W_temp)\n",
    "        #normalised\n",
    "        W = copy.deepcopy(temp/temp.sum(axis=0))\n",
    "\n",
    "        #it so happens that sometime, the probability of a point being assinged to any of the cluster is 0.\n",
    "        #this is probably an artefact of multivariate.normal.pdf giving very small values \n",
    "        # and the 64 bit precision of the computer rounding stuff off to 0 or nan. \n",
    "        #When this happens, this part of the assigns the point to any of the clusters with equal probability.\n",
    "        if np.isfinite(W).all():\n",
    "            pass\n",
    "        else:\n",
    "            W_temp_where = np.where(temp.sum(axis=0)==0.0)\n",
    "            for ii in W_temp_where:\n",
    "                W[:,ii] = 1/k\n",
    "        '''End Expectation step------------------------------------------------------------'''\n",
    "\n",
    "        #get sum of W for each cluster\n",
    "        temp = copy.deepcopy(W)\n",
    "        sum_w = copy.deepcopy(temp.sum(axis=1))\n",
    "\n",
    "        '''Begin Maximization step---------------------------------------------------------'''\n",
    "        # re-estimate means\n",
    "        old_mus = copy.deepcopy(new_mus)\n",
    "        #unnormalised\n",
    "        new_mus_temp = copy.deepcopy(W @ X)\n",
    "        temp = copy.deepcopy(new_mus_temp)\n",
    "        #normalised\n",
    "        new_mus = copy.deepcopy(temp/sum_w[:,None])\n",
    "\n",
    "        # re-estimate covariance\n",
    "        old_cov = copy.deepcopy(new_cov)\n",
    "        #unnormalised\n",
    "        # new_cov_temp = copy.deepcopy([cov_loop(n,a) for a in range(k)])\n",
    "        # temp = copy.deepcopy(new_cov_temp)\n",
    "        #normalised\n",
    "        # new_cov = copy.deepcopy([temp[a]/sum_w[a] for a in range(k)])\n",
    "        new_cov = [\n",
    "                    np.sum(\n",
    "                            [\n",
    "                                W[i,j]/(sum_w[i])*\n",
    "                                (\n",
    "                                    (np.expand_dims(X[j]-new_mus[i], axis=0).T) @ \n",
    "                                    np.expand_dims(X[j]-new_mus[i], axis=0)\n",
    "                                ) \n",
    "                                for j in range(n)\n",
    "                            ],axis=0\n",
    "                        ) \n",
    "                        for i in range(k)\n",
    "                     ]\n",
    "        # new_cov = copy.deepcopy([cov_loop(n,a) for a in range(k)])\n",
    "\n",
    "\n",
    "\n",
    "        # re-estimate priors\n",
    "        old_priors = copy.deepcopy(new_priors)\n",
    "        new_priors = copy.deepcopy(sum_w/n)\n",
    "        '''End Maximization step---------------------------------------------------------'''\n",
    "\n",
    "        obt_eps = np.sum([np.linalg.norm(new_mus[a]-old_mus[a]) for a in range(k)])\n",
    "        print(obt_eps)\n",
    "    # print(\"final\", t,n,k,d,new_mus) \n",
    "    return W,new_mus,new_cov,t\n",
    "\n",
    "def error_analysis(posterior_matrix,\\\n",
    "                    obtained_cluster_means,\\\n",
    "                    actual_means,\\\n",
    "                    df):\n",
    "    \n",
    "    \"\"\"\n",
    "    Input -     \n",
    "    posterior_matrix - Posterior probability matrix (kxn)\n",
    "    obtained_cluster_means - kxd matrix of means for each cluster obtained from the EM algorithm\n",
    "    actual_means - kxd matrix of means for each cluster obtained from ground truth data\n",
    "    df - dataframe where rows represent points and columns represent dimension. \n",
    "        The last columnd of the data frame is the ground truth label for that point\n",
    "\n",
    "    Output - error for each cluster.\n",
    "    \"\"\"\n",
    "    #creating a final array from the dataframe\n",
    "    posterior = pd.DataFrame(posterior_matrix)\n",
    "\n",
    "    #hard assignment. Each point is assigned to a cluster which has the maxiumum value of P(C|X)\n",
    "    clustered_points = posterior.idxmax().to_dict()\n",
    "\n",
    "    #ground truth from data\n",
    "    ground_truth_means = copy.deepcopy(actual_means)\n",
    "\n",
    "    #dictionary which maps the k cluster (means) to 2 clusters (since the ground truth only has two clusters)\n",
    "    assignment_of_means_to_clusters = {}\n",
    "    for i,each_cluster in enumerate(obtained_cluster_means):\n",
    "        #measure eucledian distance to each of the ground truth clusters from the kth cluster and \n",
    "        #assign the cluster label to the ground truth cluster closer to it\n",
    "        if np.linalg.norm(ground_truth_means[0]-each_cluster) > np.linalg.norm(ground_truth_means[1]-each_cluster):\n",
    "            assignment_of_means_to_clusters[i] = 1\n",
    "        else:\n",
    "            assignment_of_means_to_clusters[i] = 0\n",
    "\n",
    "    # now that k mean labels have been mapped to two clusters, \n",
    "    # map the points of each of the obtained clusters to one of the two ground truth cluster. \n",
    "    # if point 1 is in the 4th cluster (obtained from EM algo) \n",
    "    # and the 4th cluster has been mapped to cluster X of the ground truth data,\n",
    "    # then point 1 now belongs to cluster X\n",
    "    final_assignment_of_points = {k:assignment_of_means_to_clusters[v] for k,v in clustered_points.items()}\n",
    "\n",
    "    #for ringnorm, 0 label means the cluster \n",
    "    # with ground truth means 0 (of d dimension) and cov (4*identity) of 20x20dimension\n",
    "    # 1 label means the cluster with ground truth means 2/sqrt(20) (of d-dimension) and cov identity of 20x20dimension\n",
    "\n",
    "    ground_truth_assignment_of_points = df[len(actual_means[0])].to_dict()\n",
    "\n",
    "    error_df = pd.DataFrame()\n",
    "    error_df['assigned'] = final_assignment_of_points.values()\n",
    "    error_df['ground_truth'] = ground_truth_assignment_of_points.values()\n",
    "\n",
    "\n",
    "    error_0 = error_df[error_df['ground_truth'] == 0]\n",
    "    #proportion of points which should be assigned to cluster 0 but were assigned to cluster 1 instead\n",
    "    error_01 = (len(error_0[error_0['assigned']==1])/len(error_df))\n",
    "\n",
    "    error_1 = error_df[error_df['ground_truth'] == 1]\n",
    "    #proportion of points which should be assigned to cluster 1 but were assigned to cluster 0 instead\n",
    "    error_10 = len(error_1[error_1['assigned']==0])/len(error_df)\n",
    "\n",
    "    return error_01,error_10\n"
   ]
  },
  {
   "cell_type": "markdown",
   "metadata": {},
   "source": [
    "## Initialising Each Gaussian\n",
    "The mean of each gaussian (cluster), initially, is picked to be the a random data point from the given data.  \n",
    "The initial covariance of each cluster is set to be identity dxd matrix\n",
    "\n",
    "## Breaking ties\n",
    "\n",
    "During hard assignment, if a point is equally likely to be in any of the clusters, then it is assigned randomly to one of the clusters. \n",
    "\n",
    "## Stopping criteria\n",
    "\n",
    "I have used the following - If the L2 norm of means between runs doesn't change by more than 10^-2, then the program terminates.   \n",
    "I've also tested with smaller values (up till 10^-7). I decided 10^-2 is a good tradeoff when looking at time it takes to converge vs error.  \n",
    "\n",
    "An additional stopping condition could have been the number of iterations. Using this, we could keep a L2 norm threshold (10^-7) but force the program to terminate when it reaches a threshold number of iterations.\n",
    "\n",
    "## Combining Clusters\n",
    "\n",
    "Clusters have been combined using the protocol described in the assignment. Checking Euclidean distance between mean of obtained cluster and the ground truth cluster means.\n",
    "\n"
   ]
  },
  {
   "cell_type": "markdown",
   "metadata": {},
   "source": [
    "# Ringnorm analysis"
   ]
  },
  {
   "cell_type": "code",
   "execution_count": 3,
   "metadata": {},
   "outputs": [],
   "source": [
    "# Loading data\n",
    "# \\s+ since dataset has one or more white spaces\n",
    "df = pd.read_csv(\"Dataset.data\",sep='\\s+',header=None)\n",
    "\n",
    "X = df.to_numpy()\n",
    "X = X[:,:-1]\n",
    "\n",
    "mus = np.asarray(\n",
    "    [ [0]*X.shape[1],\n",
    "        [2/np.sqrt(20)]*X.shape[1]\n",
    "        ]\n",
    ")"
   ]
  },
  {
   "cell_type": "code",
   "execution_count": null,
   "metadata": {},
   "outputs": [],
   "source": [
    "#Run the EM algorithm 20 times for each k value. \n",
    "# This takes time. I have run it on the school server and attached the pickle files for proof\n",
    "posteriors,output_mus,output_covs,iterations = {},{},{},{}\n",
    "\n",
    "for k in [2,3,4,5]:\n",
    "    data = {}\n",
    "    for e in range(20):\n",
    "        print(f\"k={k},e={e}\")\n",
    "        p,m,c,i = EM(X,k)\n",
    "        posteriors[e] = p\n",
    "        output_mus[e] = m\n",
    "        output_covs[e] = c\n",
    "        iterations[e] = i\n",
    "    data['posteriors'] = posteriors\n",
    "    data['output_mus'] = output_mus\n",
    "    data['output_covs'] = output_covs\n",
    "    data['iterations'] = iterations\n",
    "    with open(f\"ringnorm{k}.pkl\",'wb') as f:\n",
    "        pkl.dump(data,f)\n",
    "        "
   ]
  },
  {
   "cell_type": "code",
   "execution_count": 5,
   "metadata": {},
   "outputs": [
    {
     "data": {
      "image/png": "[encoded data removed]",
      "text/plain": [
       "<Figure size 1800x720 with 1 Axes>"
      ]
     },
     "metadata": {
      "needs_background": "light"
     },
     "output_type": "display_data"
    }
   ],
   "source": [
    "#Iterations count whisker plot for Ringnorm data\n",
    "data = []\n",
    "for k in [2,3,4,5]:\n",
    "    with open(f\"ringnorm{k}.pkl\",'rb') as f:\n",
    "        data.append(list(pkl.load(f)['iterations'].values()))\n",
    "_  = plt.boxplot(data,vert=False,labels=['2','3','4','5'])\n",
    "\n",
    "plt.xlabel('iterations count',size=20)\n",
    "plt.ylabel('number of clusters',size=20)\n",
    "plt.xticks(size=20)\n",
    "plt.yticks(size=20)\n",
    "plt.title(\"Ringnorm Iterations count\",size=20)\n",
    "\n",
    "plt.rcParams[\"figure.figsize\"] = (25,10)\n"
   ]
  },
  {
   "cell_type": "code",
   "execution_count": 6,
   "metadata": {},
   "outputs": [
    {
     "data": {
      "image/png": "[encoded data removed]",
      "text/plain": [
       "<Figure size 1800x720 with 1 Axes>"
      ]
     },
     "metadata": {
      "needs_background": "light"
     },
     "output_type": "display_data"
    }
   ],
   "source": [
    "#Error rate whisker plot for Ringnorm data\n",
    "total_error = {}\n",
    "for k in [2,3,4,5]:\n",
    "    total_error[k] = []\n",
    "    with open(f\"ringnorm{k}.pkl\",'rb') as f:\n",
    "       data = pkl.load(f)\n",
    "    for e in range(20):\n",
    "        error01,error10 = error_analysis(data['posteriors'][e],data['output_mus'][e],mus,df)\n",
    "        total_error[k].append(error01+error10)\n",
    "\n",
    "data = [total_error[k] for k in [2,3,4,5]]\n",
    "_  = plt.boxplot(data,vert=False,labels=['2','3','4','5'])\n",
    "\n",
    "plt.xlabel('total error',size=20)\n",
    "plt.ylabel('number of clusters',size=20)\n",
    "plt.xticks(size=20)\n",
    "plt.yticks(size=20)\n",
    "plt.title(\"Ringnorm Error Rate\",size=20)\n",
    "\n",
    "plt.rcParams[\"figure.figsize\"] = (25,9)"
   ]
  },
  {
   "cell_type": "markdown",
   "metadata": {},
   "source": [
    "# Ionosphere Analysis"
   ]
  },
  {
   "cell_type": "code",
   "execution_count": 7,
   "metadata": {},
   "outputs": [],
   "source": [
    "#\\s+ since dataset has one or more white spaces\n",
    "df = pd.read_csv(\"ionosphere.data\",header=None)\n"
   ]
  },
  {
   "cell_type": "code",
   "execution_count": 8,
   "metadata": {},
   "outputs": [],
   "source": [
    "#data points as a nxd matrix, mean of the good class and the bad class\n",
    "X = df[list(range(34))].to_numpy()\n",
    "\n",
    "mean_g = [i/len(df[df[34]=='g']) for i in df[df[34]=='g'].sum(axis=0).to_list()[:-1]]\n",
    "mean_b = [i/len(df[df[34]=='b']) for i in df[df[34]=='b'].sum(axis=0).to_list()[:-1]]\n",
    "\n",
    "mus = np.array([mean_g,mean_b])"
   ]
  },
  {
   "cell_type": "code",
   "execution_count": null,
   "metadata": {},
   "outputs": [],
   "source": [
    "#Run the EM algorithm 20 times for each k value. \n",
    "# This takes time. I have run it on the school server and attached the pickle files for proof\n",
    "posteriors,output_mus,output_covs,iterations = {},{},{},{}\n",
    "\n",
    "for k in [2,3,4,5]:\n",
    "    data = {}\n",
    "    for e in range(20):\n",
    "        print(f\"k={k},e={e}\")\n",
    "        p,m,c,i = EM(X,k)\n",
    "        posteriors[e] = p\n",
    "        output_mus[e] = m\n",
    "        output_covs[e] = c\n",
    "        iterations[e] = i\n",
    "    data['posteriors'] = posteriors\n",
    "    data['output_mus'] = output_mus\n",
    "    data['output_covs'] = output_covs\n",
    "    data['iterations'] = iterations\n",
    "    with open(f\"Ionsophere{k}.pkl\",'wb') as f:\n",
    "        pkl.dump(data,f)\n",
    "        "
   ]
  },
  {
   "cell_type": "code",
   "execution_count": 9,
   "metadata": {},
   "outputs": [
    {
     "data": {
      "image/png": "[encoded data removed]",
      "text/plain": [
       "<Figure size 1800x648 with 1 Axes>"
      ]
     },
     "metadata": {
      "needs_background": "light"
     },
     "output_type": "display_data"
    }
   ],
   "source": [
    "#Iterations count whisker plot for Ionosphere data\n",
    "data = []\n",
    "for k in [2,3,4,5]:\n",
    "    with open(f\"Ionosphere{k}.pkl\",'rb') as f:\n",
    "        data.append(list(pkl.load(f)['iterations'].values()))\n",
    "_  = plt.boxplot(data,vert=False,labels=['2','3','4','5'])\n",
    "\n",
    "plt.xlabel('Iterations count',size=20)\n",
    "plt.ylabel('number of clusters',size=20)\n",
    "plt.xticks(size=20)\n",
    "plt.yticks(size=20)\n",
    "plt.title(\"Ionosphere Iterations Count Rate\",size=20)\n",
    "\n",
    "plt.rcParams[\"figure.figsize\"] = (25,9)"
   ]
  },
  {
   "cell_type": "code",
   "execution_count": 10,
   "metadata": {},
   "outputs": [
    {
     "name": "stdout",
     "output_type": "stream",
     "text": [
      "2\n",
      "3\n",
      "4\n",
      "5\n"
     ]
    },
    {
     "data": {
      "image/png": "[encoded data removed]",
      "text/plain": [
       "<Figure size 1800x648 with 1 Axes>"
      ]
     },
     "metadata": {
      "needs_background": "light"
     },
     "output_type": "display_data"
    }
   ],
   "source": [
    "#Error rate whisker plot for Ionosphere data\n",
    "df[df[34]=='g']=0\n",
    "df[df[34]=='b']=1\n",
    "total_error = {}\n",
    "for k in [2,3,4,5]:\n",
    "    print(k)\n",
    "    total_error[k] = []\n",
    "    with open(f\"Ionosphere{k}.pkl\",'rb') as f:\n",
    "       data = pkl.load(f)\n",
    "    for e in range(20):\n",
    "        error_01,error_10 = error_analysis(data['posteriors'][e],data['output_mus'][e],mus,df)\n",
    "        total_error[k].append(error_01+error_10)\n",
    "\n",
    "data = [total_error[k] for k in [2,3,4,5]]\n",
    "_  = plt.boxplot(data,vert=False,labels=['2','3','4','5'])\n",
    "\n",
    "plt.xlabel('total error',size=20)\n",
    "plt.ylabel('number of clusters',size=20)\n",
    "plt.xticks(size=20)\n",
    "plt.yticks(size=20)\n",
    "plt.title(\"Ionosphere Error Rate\",size=20)\n",
    "\n",
    "plt.rcParams[\"figure.figsize\"] = (25,9)"
   ]
  },
  {
   "cell_type": "markdown",
   "metadata": {},
   "source": [
    "### Overall, it looks like EM of Ionosphere data takes smaller number of iterations to converge when compared to the Ringnorm Data.\n",
    "### However, the error on Ringnorm data (synthetic data, easier to cluster) is much smaller than the Ionosphere data (real world data, harder to cluster)"
   ]
  },
  {
   "cell_type": "markdown",
   "metadata": {},
   "source": [
    "\n",
    "### 3.1 Given a text $D$ and a pattern P, describe an $\\Omega(d+p)$ time method for finding the longest prefix of $P$ that is a substring of $D$. The lengths of $D$ and $P$ are $d$ and $p$, respectively.\n",
    "\n",
    "\n",
    "Treat each prefix of the give pattern as a word (of length $l$, where 0<l<p) and use the KMP algorithm to find if the prefix (word) exists as a substring of D. The KMP algorithm is a $O(l+d)$ \n",
    "Do this for all prefixes of the given pattern starting from the largest prefix (so l can take values ranging between p to 1). Therefore total running time is $O(p+d) + O(p-1+d)+...O(1+d)$\n",
    "\n",
    "In the best case, the largest prefix of pattern $P (l=p)$, is the longest prefix which is a substring of D. This would eliminate the need to run KMP for smaller $l's$). Thus best case running time is $\\Omega(p+d)$"
   ]
  },
  {
   "cell_type": "markdown",
   "metadata": {},
   "source": [
    "### 3.2 $X$, $Y$, and $Z$ are three arrays and each has $m$ elements. For an arbitrary integer $t$, describe $O(m^2logm)$-time algorithm to determine if there exist numbers, $x$ in $X$, $y$ in $Y$, and $z$ in $Z$, such that $t = x+y+z$.\n",
    "\n",
    "All arrays have the same number of elements.   \n",
    "\n",
    "\n",
    "Prepocessing step - Sort any one of the arrays. Say Z. This can be done in O(nlogn) time using merge sort or heap sort.\n",
    "\n",
    "```\n",
    "For each element x in X,\n",
    "    For each element y in Y\n",
    "        Perform a binary search for the element t - (x+y) in Z\n",
    "            return True if found\n",
    "            else return False\n",
    "```\n",
    "\n",
    "Given there are two for loops $(O(m^2))$ and a binary search $(O(logm))$ nested in it, the running time of this algorithm is $O(m^2logm)$"
   ]
  },
  {
   "cell_type": "markdown",
   "metadata": {},
   "source": [
    "### 3.3 Describe an efficient algorithm for deleting a string (length s) from a compressed trie and analyze its running time.\n",
    "\n",
    "1. Start from the root of the compressed trie\n",
    "2. Traverse down the compressed trie in the DFS manner. DFS because consecutive elements of the string will be stored in as children of a node rather than siblings of the node.\n",
    "3. If the string finishes matching on an internal node of the compressed trie, then return Failure since such an internal node cannot be deleted (this is because it might be a part of some other string)\n",
    "4. If the string ends on leaf node which has only one element in it, delete this node along with all ancestral nodes with just one key in them. The string deletion on the compressed trie is complete.\n",
    "5. If the string ends on leaf node which has more than one element in it, then return Failure since an this node cannot be deleted. It might be used by some other string. \n",
    "6. If there is no path which matches the string, then the string is not present in the compressed trie. Return Failure\n",
    "\n",
    "\n",
    "Given that I've chosen to traverse the tree via DFS, the running time of the algorithm is - \n",
    "#### O(the depth of the number of nodes needed to represent the string in the compressed trie)~O(s)\n",
    "\n",
    "1. Perhaps a more efficient way to do this is a bottom up manner where matching of string to the compressed trie starts from the leaf nodes and the last element of the string. In this case, it is better to check all the leaf nodes first!\n",
    "2. If none of the leaf nodes contain the last element of the string, return Failure since this would either imply that the string is not present in the compressed trie or that the last element of the string is a an internal node (which cant be deleted since it is may belong to some other string)\n",
    "If the node which \n",
    "3. Once all leaf nodes are processed, either we can continue traversing the compressed tie in the bottom up fashion or we can take the top down appraoch elaborated above.\n",
    "4. If we continue in the bottom up manner, then the same rules as above follow. Internal nodes can never be deleted and since we are traversing it in the bottom up fashion, upon complete matching of the string, we need to check if the children (as opposed to ancesrots in the top down approach) of the node we are on has more than one key in it. If any of the node or its children have more than one key in it, return Failure. Although the worst case is the same as the top down approach, the best case running time is $\\Omega$(number of leaf nodes)\n"
   ]
  }
 ],
 "metadata": {
  "interpreter": {
   "hash": "f95d9307f45ddfb406dd09f6e4b2fa70e170c66451c4561bc8b2afdb5e53bc6a"
  },
  "kernelspec": {
   "display_name": "Python 3.7.4 64-bit ('base': conda)",
   "name": "python3"
  },
  "language_info": {
   "codemirror_mode": {
    "name": "ipython",
    "version": 3
   },
   "file_extension": ".py",
   "mimetype": "text/x-python",
   "name": "python",
   "nbconvert_exporter": "python",
   "pygments_lexer": "ipython3",
   "version": "3.7.4"
  },
  "orig_nbformat": 4
 },
 "nbformat": 4,
 "nbformat_minor": 2
}
