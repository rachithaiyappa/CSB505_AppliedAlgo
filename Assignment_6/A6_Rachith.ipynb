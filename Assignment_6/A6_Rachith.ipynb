{
 "cells": [
  {
   "cell_type": "code",
   "execution_count": 1,
   "metadata": {},
   "outputs": [],
   "source": [
    "import numpy as np\n",
    "import copy\n",
    "from scipy.stats import multivariate_normal\n",
    "from mpl_toolkits.mplot3d import Axes3D\n",
    "import matplotlib.pyplot as plt"
   ]
  },
  {
   "cell_type": "code",
   "execution_count": 2,
   "metadata": {},
   "outputs": [],
   "source": [
    "# # create data set\n",
    "# n = 400\n",
    "# _mus = np.array([[0,4], [-2,0]])\n",
    "# _sigmas = np.array([[[3, 0], [0, 0.5]], [[1,0],[0,2]]])\n",
    "# _pis = np.array([0.6, 0.4])\n",
    "# X = np.concatenate([np.random.multivariate_normal(mu, sigma, int(pi*n))\n",
    "#                     for pi, mu, sigma in zip(_pis, _mus, _sigmas)])"
   ]
  },
  {
   "cell_type": "code",
   "execution_count": 3,
   "metadata": {},
   "outputs": [],
   "source": [
    "n=200\n",
    "#number of samples per class: n\n",
    "k=2\n",
    "#number of classes: k\n",
    "d=20\n",
    "#dimensionality of samples: d\n",
    "mus=np.random.random((k,d))*20-10 \n",
    "#mean of the multivariate normal distribution | mus[i,j] is the mean for the ith cluster at the jth dimension\n",
    "sigma=[np.eye(d) for i in range(k)]\n",
    "#standard deviations are all assumed to be one. As the covariance matrix is identity the dimensions can be sampled independently\n",
    "Pc=np.ones(k)/k\n",
    "#setting priors: Pc\n",
    "\n",
    "#Data Generation\n",
    "X=[]\n",
    "for i in range(n):\n",
    "    for j in range(k):\n",
    "#for each class generate n tuples of size d, taken from the distribution N(mus[j],1)\n",
    "        point=[mean+np.random.randn() for mean in mus[j]]\n",
    "        X.append(point)\n",
    "#we have our dataset, where each point is a d+1 dimensional tuple where the last position represents its class \n",
    "\n",
    "X = np.asarray(X)"
   ]
  },
  {
   "cell_type": "code",
   "execution_count": 4,
   "metadata": {},
   "outputs": [],
   "source": [
    "def w_mat(i,j):\n",
    "    a = multivariate_normal.pdf(\\\n",
    "            X[index_matrix[i][j][0]],\\\n",
    "            mean=new_mus[index_matrix[i][j][1]],\\\n",
    "            cov=new_cov[index_matrix[i][j][1]],\\\n",
    "            allow_singular=True\\\n",
    "        )\n",
    "    b = new_priors[index_matrix[i][j][1]]\n",
    "    return a*b\n",
    "\n",
    "def tabulate(x, y, f):\n",
    "   \"\"\"Return a table of f(x, y).\"\"\"\n",
    "   #* is to unpack the two arrays which results after meshing\n",
    "   return np.vectorize(f)( * np.meshgrid(x, y))\n",
    "\n",
    "index_matrix = np.empty((X.shape[0],k),dtype=(int,2))\n",
    "for i in range(index_matrix.shape[0]):\n",
    "    for j in range(index_matrix.shape[1]):\n",
    "        index_matrix[i][j] = (i,j)\n",
    "\n",
    "def covid(n,m):\n",
    "    co_vid = np.zeros((X.shape[1],X.shape[1]),dtype=float)\n",
    "    for j in range(n):\n",
    "        co_vid += W[m][j] * (((X[j] - new_mus[m]).T) @ (X[j] - new_mus[m]))\n",
    "    return co_vid"
   ]
  },
  {
   "cell_type": "code",
   "execution_count": 5,
   "metadata": {},
   "outputs": [
    {
     "name": "stdout",
     "output_type": "stream",
     "text": [
      "original [[ 2.48551134 -3.11577157 -3.86232128  0.09013514  7.48667121 -0.29942169\n",
      "  -8.55110285 -3.84079984 -3.00463076 -4.20019479 -2.32425397  8.17727058\n",
      "  -8.01212263 -4.41827962  4.19563984 -0.42784081 -1.28181521 -5.68588478\n",
      "   5.96299376 -0.47788967]\n",
      " [-5.53927773  7.43367431 -6.67467411  0.88185634  6.27955169 -6.1171508\n",
      "   6.28228708 -8.90140235 -9.65522301  7.49040436  6.85132198  6.89252763\n",
      "  -8.38358974 -0.10613506 -7.80573055 -8.13119728 -1.29244227  8.68585525\n",
      "  -3.44049265  2.35717638]]\n",
      "initial [[ 6.29836674  1.58051253 -4.2736695   1.85917884  0.39321621 -2.61410007\n",
      "  -4.98947431  3.50703816  7.37790564  4.61367026  3.999376    3.80095117\n",
      "   9.85225631 -0.92653938  7.78041323  2.13287119 -6.11840291 -7.47451952\n",
      "  -1.80568331 -1.03626597]\n",
      " [ 9.91811098 -2.86785996 -6.07642927 -1.65462822 -6.57096172 -1.37236243\n",
      "   7.45416108 -5.01265119 -5.03279901 -0.58166157  2.19850875  0.60011416\n",
      "  -7.10930212 -8.39841971  3.84416723 -1.43075613  2.53009874  1.71678461\n",
      "   5.15849571 -6.17528502]]\n",
      "final 5 [[ 2.48551134 -3.11577157 -3.86232128  0.09013514  7.48667121 -0.29942169\n",
      "  -8.55110285 -3.84079984 -3.00463076 -4.20019479 -2.32425397  8.17727058\n",
      "  -8.01212263 -4.41827962  4.19563984 -0.42784081 -1.28181521 -5.68588478\n",
      "   5.96299376 -0.47788967]\n",
      " [-5.53927773  7.43367431 -6.67467411  0.88185634  6.27955169 -6.1171508\n",
      "   6.28228708 -8.90140235 -9.65522301  7.49040436  6.85132198  6.89252763\n",
      "  -8.38358974 -0.10613506 -7.80573055 -8.13119728 -1.29244227  8.68585525\n",
      "  -3.44049265  2.35717638]]\n"
     ]
    }
   ],
   "source": [
    "d = X.shape[1]\n",
    "n = X.shape[0]\n",
    "# old_mus = np.array([np.random.rand(d) for _ in range(k)])\n",
    "# random_rows = np.random.choice(X.shape[0], size=k, replace=False)\n",
    "# old_mus = copy.deepcopy(X[random_rows, :])\n",
    "old_mus = np.random.random((k,d))*20-10 \n",
    "# old_mus = np.random.random((k,d))*np.max(X)-np.min(X)\n",
    "new_mus = copy.deepcopy(old_mus)\n",
    "print('original',mus)\n",
    "print(\"initial\", new_mus)\n",
    "\n",
    "old_cov = np.asarray([np.eye(d) for _ in range(k)])\n",
    "new_cov = copy.deepcopy(old_cov)\n",
    "\n",
    "old_priors = np.full((k),1/k)\n",
    "new_priors = copy.deepcopy(old_priors)\n",
    "\n",
    "eps = 1e-7\n",
    "t = 0\n",
    "obt_eps = 1\n",
    "while (obt_eps > eps) or (t==0):\n",
    "    t += 1\n",
    "\n",
    "    #unnormalised\n",
    "    W_temp = copy.deepcopy(tabulate(list(range(X.shape[0])),list(range(k)),w_mat))\n",
    "    temp = copy.deepcopy(W_temp)\n",
    "    #normalised\n",
    "    W = copy.deepcopy(temp/temp.sum(axis=0))\n",
    "    # W = copy.deepcopy(W_temp)\n",
    "\n",
    "    #get sum of W for each cluster\n",
    "    temp = copy.deepcopy(W)\n",
    "    sum_w = copy.deepcopy(temp.sum(axis=1))\n",
    "\n",
    "\n",
    "    old_mus = copy.deepcopy(new_mus)\n",
    "    #unnormalised\n",
    "    new_mus_temp = copy.deepcopy(W @ X)\n",
    "    temp = copy.deepcopy(new_mus_temp)\n",
    "    #normalised\n",
    "    new_mus = copy.deepcopy(temp/sum_w[:,None])\n",
    "    # print(t,new_mus)\n",
    "\n",
    "    old_cov = copy.deepcopy(new_cov)\n",
    "    new_cov_temp = copy.deepcopy([covid(n,a) for a in range(k)])\n",
    "    temp = copy.deepcopy(new_cov_temp)\n",
    "    new_cov = copy.deepcopy([temp[a]/sum_w[a] for a in range(k)])\n",
    "\n",
    "    old_priors = copy.deepcopy(new_priors)\n",
    "    #normalised\n",
    "    new_priors = copy.deepcopy(sum_w/n)\n",
    "    obt_eps = np.sum([np.linalg.norm(new_mus[a]-old_mus[a]) for a in range(k)])\n",
    "    # print(\"eps2\",meh)\n",
    "\n",
    "print(\"final\", t,mus)\n"
   ]
  },
  {
   "cell_type": "code",
   "execution_count": 66,
   "metadata": {},
   "outputs": [],
   "source": [
    "# print('Original means of the data for class 1 are: {} and the predicted means are {}'.format(mus[0],means[0]))\n",
    "# print('Original means of the data for class 2 are: {} and the predicted means are {}'.format(mus[1],means[1]))\n",
    "# print('The Original covariance matrix is an Identity matrix for both the classes.')\n",
    "# print('Predicted covariance matrices of the data for class 1 is: \\n {} \\n and for class 2 is \\n {}'.format(sigmas[0],sigmas[1]))\n"
   ]
  }
 ],
 "metadata": {
  "interpreter": {
   "hash": "f95d9307f45ddfb406dd09f6e4b2fa70e170c66451c4561bc8b2afdb5e53bc6a"
  },
  "kernelspec": {
   "display_name": "Python 3.7.4 64-bit ('base': conda)",
   "name": "python3"
  },
  "language_info": {
   "codemirror_mode": {
    "name": "ipython",
    "version": 3
   },
   "file_extension": ".py",
   "mimetype": "text/x-python",
   "name": "python",
   "nbconvert_exporter": "python",
   "pygments_lexer": "ipython3",
   "version": "3.7.4"
  },
  "orig_nbformat": 4
 },
 "nbformat": 4,
 "nbformat_minor": 2
}
