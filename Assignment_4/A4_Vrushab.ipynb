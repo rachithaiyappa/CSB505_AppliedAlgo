{
 "cells": [
  {
   "cell_type": "markdown",
   "metadata": {},
   "source": [
    "# Q1 - Proposed solution is O(n) or O(nlogn) depending on sorting.\n",
    "## SOLUTION 1 : O(nlogn) , this algoritm runs in O(nlogn)\n",
    "```python\n",
    "    INPUT sequence D1 and D2 \n",
    "\n",
    "    SORT D1 and D2 \n",
    "    //O(nlogn) is attainable via heap sort if data does not meet assumptions \n",
    "    //of counting, bucket or radix sort (O(n)) are not met\n",
    "\n",
    "    //get number of unique elements in D1 and D2, k_D1 and k_D2 respectively \n",
    "    k_D1 = 0\n",
    "    for i in 0 to len(D1):\n",
    "         CONTINUE IF D1[i] == D1[i-1] ELSE k_D1 = k_D1 + 1 //O(n)\n",
    "    k_D2 = 0\n",
    "    for i in 0 to len(D2):\n",
    "         CONTINUE if D2[i]==D2[i-1] ELSE k_D2 = kk_D2 + 1 //O(n)\n",
    "    \n",
    "    RETURN FALSE IF k_D1 != k_D2 ELSE \n",
    "        INITIALISE \n",
    "        arrays d1[0,1,2,....,k_D1], d2[0,1,2,...k_D2] \n",
    "        d1[0],d2[0] = D1[0],D2[0]\n",
    "        \n",
    "        //making a sequence of unique elements of D1 (O(n))\n",
    "        for i in 1 to len(D1):\n",
    "            CHECK IF D1[i] == d1[-1] ELSE d1.append(D1[i]) //O(1) operation\n",
    "        //making a sequence of unique elements of D2 (O(n))\n",
    "        for i in 1 to len(D2):\n",
    "            CHECK IF D2[i] == d2[-1] ELSE d2.append(D2[i]) //O(1) operation\n",
    "\n",
    "  \n",
    "        RETURN FALSE IF d1!=d2 ELSE TRUE //O(n) operation\n",
    "```\n",
    "## SOLUTION 2 : O(n) using dictionary.\n",
    "```python\n",
    "    INPUT sequence D1 and D2 //O(1)\n",
    "    \n",
    "    Intialize two dictionaries unique_values_D1 and unique_values_D2 //O(1)\n",
    "    \n",
    "    for i in D1:\n",
    "        unique_values_D1[i] =1 //o(n) adding unique values to the dictionary\n",
    "    \n",
    "    for i in D2:\n",
    "        unique_values_D2[i] =1 //o(n) adding unique values to the dictionary\n",
    "    \n",
    "    COMPARE unique_values_D1 == unique_values_D2\n",
    "    RETURN TRUE IF EQUAL ELSE FALSE O(n) \n",
    "```"
   ]
  },
  {
   "cell_type": "code",
   "execution_count": 43,
   "metadata": {},
   "outputs": [
    {
     "name": "stdout",
     "output_type": "stream",
     "text": [
      "Both the arrays have same unique elements\n"
     ]
    }
   ],
   "source": [
    "#SOLUION 1:O(nlogn)\n",
    "\n",
    "\n",
    "def find_unique(D1,D2):\n",
    "    k_D1 = 0\n",
    "    for i in range(0, len(D1)):\n",
    "        if D1[i] == D1[i - 1]:\n",
    "            continue\n",
    "        else:\n",
    "            k_D1 = k_D1 + 1\n",
    "    k_D2 = 0\n",
    "    for i in range(0, len(D2)):\n",
    "        if D2[i] == D2[i - 1]:\n",
    "            continue\n",
    "        else:\n",
    "            k_D2 = k_D2 + 1\n",
    "    if (k_D1 != k_D2):\n",
    "        return False\n",
    "    \n",
    "    d1 = []\n",
    "    d2 = []\n",
    "    d1.append(D1[0])\n",
    "    d2.append(D2[0])\n",
    "    for i in range(0, len(D1)):\n",
    "        if (D1[i] == d1[-1]):\n",
    "            continue\n",
    "        else:\n",
    "            d1.append(D1[i])\n",
    "    for i in range(0, len(D2)):\n",
    "        if (D2[i] == d2[-1]):\n",
    "            continue\n",
    "        else:\n",
    "            d2.append(D2[i])\n",
    "    if (d1 != d2):\n",
    "        return False\n",
    "    else:\n",
    "        return True\n",
    "\n",
    "D1 = [1, 3, 4,4,4,4,4, 5, 5,5, 6, 5]\n",
    "D2 = [3, 1, 5,3,3,3,3,3,3, 5, 5, 6, 4,5]\n",
    "D1.sort()\n",
    "D2.sort()\n",
    "if(find_unique(D1,D2)):\n",
    "    print(\"Both the arrays have same unique elements\")\n",
    "else:\n",
    "    print(\"No,the arrays have different elements\")"
   ]
  },
  {
   "cell_type": "code",
   "execution_count": 44,
   "metadata": {},
   "outputs": [
    {
     "name": "stdout",
     "output_type": "stream",
     "text": [
      "No,the arrays have different elements\n"
     ]
    }
   ],
   "source": [
    "#SOLUTION 2 : O(n)\n",
    "\n",
    "def find_unique_elements(D1, D2):\n",
    "    unique_values_D1 = {} #O(1)\n",
    "    unique_values_D2 = {}  # O(1)\n",
    "    for i in D1:\n",
    "        unique_values_D1[i] =1 #O(n)\n",
    "    for i in D2:\n",
    "        unique_values_D2[i] =1  # O(n)\n",
    "    if(unique_values_D1==unique_values_D2):\n",
    "        return True\n",
    "    else:\n",
    "        return False   #O(n)\n",
    "\n",
    "arr1 = [88,1,2,3,5,4,7,7,7,7,8,8,9,9,6,6,0,0]\n",
    "arr2 = [2,2,2,2,4,3,5,6,7,8,6,6,6,6,6,9,0,1,9,9,9,9]\n",
    "\n",
    "if find_unique_elements(arr1, arr2):\n",
    "    print(\"Both the arrays have same unique elements\")\n",
    "else:\n",
    "    print(\"No,the arrays have different elements\")\n"
   ]
  },
  {
   "cell_type": "markdown",
   "metadata": {},
   "source": [
    "# Q2  - sorting D in O(n) time. \n",
    "\n",
    "### Given n elements in an array. The maximum element is $n^2-1$. \n",
    "### If it is known elements in this are uniformly distributed, then we can create n buckets each with one element in it. This is basically bucket sort. Since creating n buckets takes $O(n)$, this algorithm will then be $O(n)$.\n",
    "\n",
    "### However, what happens when data is not uniformly distributed? When the maximum element of an array is $O(n)$, then counting sort algorithm can sort it in $O(k+n)$ time. Given that maximum element is $O(n^2)$, an extension of counting sort is radix sort. \n",
    "\n",
    "### If there are n integers to sort, each integer has d digits, and each digit can take on up to k possible values, then radix sort can sort the numbers in $\\theta(d(n+k))$ time. When d is a constant and k is O.n/, radix sort runs in linear time.\n",
    "\n",
    "### Therefore we use Radix Sort to find the efficient solution\n",
    "\n",
    "# SOLUTION :\n",
    "### In Radix sort we use counting sort as it takes linear time, we consider the last digit of the element and sort on the basis on that.\n",
    " ```python   \n",
    "    Initialize the D array from  range (0, $n^2-1$) using numpy O(n)\n",
    "    \n",
    "    def counting_sort_algo(D,mul_factor):  #two inputs D and mul_factor\n",
    "        initialize input size to len(D)\n",
    "        \n",
    "        initialize output_array[0,......,input_size]\n",
    "        \n",
    "        initialize count_array[0]*10\n",
    "        \n",
    "        for i from o to input_size:\n",
    "            value = D[i] // mul_factor     #get the value from D \n",
    "            end_digit = value % 10         #get the end digit from D[i]\n",
    "            count_array[end_digit] += 1    #update count of that end_digit\n",
    "            \n",
    "        for i from 1 to 10:\n",
    "            count_array[i] += count_array[i - 1]\n",
    "            \n",
    "        for i in range(input_size - 1, -1, -1):\n",
    "            digits = D[i] // mul_factor\n",
    "            digit = digits % 10\n",
    "            output_array[count_array[digit] - 1] = D[i]\n",
    "            count_array[digit] -= 1\n",
    "        RETURN output_array                #return the final output_array\n",
    "        \n",
    "    def radixSort(D):                      #one input D\n",
    "        max_D_value = max(D)\n",
    "        mul = 1\n",
    "        while max_D_value // mul:\n",
    "            D = counting_sort_algo(D, mul) #recursive call to counting_sort_algo function\n",
    "            mul *= 10                      #get to the next digit\n",
    "        RETURN D when while fails\n",
    " ```      "
   ]
  },
  {
   "cell_type": "code",
   "execution_count": 45,
   "metadata": {},
   "outputs": [
    {
     "name": "stdout",
     "output_type": "stream",
     "text": [
      "Array Before Sorting\n",
      " [852 771 672 676  79 848 855 124 517 496 151 502 498 745  90 696 338 831\n",
      " 514 179 516  59 539 439 311 674 179  33 117 537]\n",
      "Array After Sorting\n",
      " [33, 59, 79, 90, 117, 124, 151, 179, 179, 311, 338, 439, 496, 498, 502, 514, 516, 517, 537, 539, 672, 674, 676, 696, 745, 771, 831, 848, 852, 855]\n"
     ]
    }
   ],
   "source": [
    "def counting_sort_algo(D, mul_factor):\n",
    "    input_size = len(D)\n",
    "    output_array = [0] * input_size\n",
    "    count_array = [0] * 10\n",
    "    for i in range(0, input_size):\n",
    "        value = D[i] // mul_factor\n",
    "        end_digit = value % 10\n",
    "        count_array[end_digit] += 1\n",
    "    for i in range(1, 10):\n",
    "        count_array[i] += count_array[i - 1]\n",
    "    for i in range(input_size - 1, -1, -1):\n",
    "        digits = D[i] // mul_factor\n",
    "        digit = digits % 10\n",
    "        output_array[count_array[digit] - 1] = D[i]\n",
    "        count_array[digit] -= 1\n",
    "    return output_array\n",
    "def radixSort(D):\n",
    "    max_D_value = max(D)\n",
    "    mul = 1\n",
    "    while max_D_value // mul:\n",
    "        D = counting_sort_algo(D, mul)\n",
    "        mul *= 10\n",
    "\n",
    "    return D\n",
    "import numpy as np\n",
    "\n",
    "D = np.random.randint(0, n**2 - 1, size=30)\n",
    "print(\"Array Before Sorting\\n\", D)\n",
    "sorted_D_array = radixSort(D)\n",
    "print(\"Array After Sorting\\n\", sorted_D_array)"
   ]
  },
  {
   "cell_type": "markdown",
   "metadata": {},
   "source": [
    "# Q3 - Check if two sequences share atleast one common element. Proposed O(nlogn). \n",
    "# O(n) is attainable if we can come up with a hash table which stores counts of each element. O(n) to store counts of each elements from D to hash table. Then run through has thable to check if their values are not equal 1 (O(n)). Net O(n)\n",
    "\n",
    "### FIND ALL COMMON ELEMENTS\n",
    "```\n",
    "    INPUT D\n",
    "    INITIALIZE Dictionary Dict\n",
    "    for i in D:\n",
    "         Dict[i] +=1  #O(n)\n",
    "    for key in Dict:\n",
    "        PRINT key IF Dict[key]>=2 #O(n)\n",
    "``` \n",
    "\n",
    "### EXIT AT FIRST OCCURENCE\n",
    "```\n",
    "    INPUT D\n",
    "    INITIALIZE Dictionary Dict\n",
    "    for i in D:\n",
    "        IF Dict[i] ==1 RETURN i ELSE Dict[i] = 1 #O(n)\n",
    "```"
   ]
  },
  {
   "cell_type": "code",
   "execution_count": 46,
   "metadata": {},
   "outputs": [
    {
     "name": "stdout",
     "output_type": "stream",
     "text": [
      "Multiple occurence\n",
      "\n",
      "1  has multiple occurences\n",
      "2  has multiple occurences\n",
      "3  has multiple occurences\n",
      "4  has multiple occurences\n",
      "6  has multiple occurences\n",
      "\n",
      "-----------------------------------------------------------\n",
      "\n",
      "First occurence\n",
      "\n",
      "2\n"
     ]
    }
   ],
   "source": [
    "from collections import defaultdict\n",
    "D = [1,2,2,2,3,4,5,6,6,6,4,4,3,2,3,2,2,1,2,3,4,34,11]\n",
    "Dict = defaultdict(int)\n",
    "#All Occurences\n",
    "print(\"Multiple occurence\\n\")\n",
    "for i in D:\n",
    "        Dict[i]+=1   #O(n)\n",
    "for key in Dict:\n",
    "    if(Dict[key]>=2):\n",
    "        print(key,\" has multiple occurences\")\n",
    "print(\"\\n-----------------------------------------------------------\\n\\nFirst occurence\\n\")\n",
    "# First Occurence\n",
    "for i in D:\n",
    "    if(Dict[i]==1):\n",
    "        print(i)\n",
    "        break\n",
    "    else:\n",
    "        Dict[i]=1   #O(n)\n",
    "        \n"
   ]
  },
  {
   "cell_type": "markdown",
   "metadata": {},
   "source": [
    "# Q4 merge sort pending"
   ]
  },
  {
   "cell_type": "code",
   "execution_count": 47,
   "metadata": {},
   "outputs": [
    {
     "name": "stdout",
     "output_type": "stream",
     "text": [
      "['a', 'a', 'a', 'a', 'a', 'b', 'b', 'c', 'd', 'r', 'r']\n"
     ]
    }
   ],
   "source": [
    "from collections import deque \n",
    " \n",
    "def merge(X,Y): \n",
    "    X, Y, Z = deque(X), deque(Y), [] \n",
    "    while len(X) > 0 and len(Y) > 0: \n",
    "        if X[0] < Y[0]: Z.append( X.popleft() ) \n",
    "        else:           Z.append( Y.popleft() ) \n",
    "    return Z+list(X)+list(Y) \n",
    " \n",
    "def bottom_up_mergesort(A): \n",
    "    if len(A) <= 1: return list(A) \n",
    "    Q = deque( [a] for a in A ) \n",
    "    while True: \n",
    "        X = Q.popleft() \n",
    "        if len(Q)==0: return X \n",
    "        Y = Q.popleft() \n",
    "        # try enabling this debug output: \n",
    "        # print('merging',X,'and',Y) \n",
    "        Q.append( merge(X,Y) ) \n",
    " \n",
    "print(bottom_up_mergesort('abracadabra'))"
   ]
  },
  {
   "cell_type": "code",
   "execution_count": 48,
   "metadata": {},
   "outputs": [],
   "source": [
    "#python indexing starts at 0. Getting the left and right child of an index i\n",
    "def left(i):\n",
    "    return (2*i) + 1\n",
    "def right(i):\n",
    "    return (2*i) + 2\n",
    "\n",
    "def max_heap(A,i,size):\n",
    "    \"\"\"\n",
    "    Resolve local triads and go down the tree to resolve further\n",
    "    Input - Array (A), index (i)\n",
    "    Output - Array (modified in place) \n",
    "    \"\"\"\n",
    "    # print(i)\n",
    "    heap_size = size\n",
    "    l = left(i) #index of left child\n",
    "    r = right(i) #index of right child\n",
    "    #if left child is larger than root\n",
    "    if (l < heap_size) and (A[l]>A[i]):\n",
    "        largest = l\n",
    "    else:\n",
    "        largest = i\n",
    "    #if right child is larger than root\n",
    "    if (r < heap_size) and (A[r]>A[largest]):\n",
    "        largest = r\n",
    "    #if largest (index) is not that of the root\n",
    "    if largest != i:\n",
    "        A[i], A[largest] = A[largest], A[i]\n",
    "        #float this through the heap to get partial order in the subtree where the largest node of the triad existed initially \n",
    "        max_heap(A,largest,size)\n",
    "\n",
    "\n",
    "def build_max_heap(A):\n",
    "    \"\"\"\n",
    "    Build the max heap property\n",
    "    Input - Array(A)\n",
    "    Out - Array(A) modified in place where the max heap property is satisfied\n",
    "    \"\"\"\n",
    "\n",
    "    heap_size = len(A)\n",
    "    for i in range(int(np.floor(len(A)/2))-1,-1,-1):\n",
    "        max_heap(A,i,heap_size)\n",
    "    print(A)\n",
    "    \n",
    "def heap_sort(A):\n",
    "    \"\"\"\n",
    "    Heap sort\n",
    "    Input - Array to be sorted\n",
    "    Output - Sorted Array (in place)\n",
    "    \"\"\"\n",
    "    heap_size = len(A)\n",
    "    build_max_heap(A)\n",
    "    for i in range(len(A)-1,0,-1):\n",
    "        print(i)\n",
    "        A[0],A[i] = A[i],A[0]\n",
    "        heap_size = heap_size-1\n",
    "        print(A)\n",
    "        max_heap(A,0,heap_size)\n",
    "        print(A)\n",
    "        "
   ]
  },
  {
   "cell_type": "code",
   "execution_count": 49,
   "metadata": {},
   "outputs": [
    {
     "name": "stdout",
     "output_type": "stream",
     "text": [
      "[94, 83, 75, 63, 69, 28, 34, 58]\n",
      "7\n",
      "[58, 83, 75, 63, 69, 28, 34, 94]\n",
      "[83, 69, 75, 63, 58, 28, 34, 94]\n",
      "6\n",
      "[34, 69, 75, 63, 58, 28, 83, 94]\n",
      "[75, 69, 34, 63, 58, 28, 83, 94]\n",
      "5\n",
      "[28, 69, 34, 63, 58, 75, 83, 94]\n",
      "[69, 63, 34, 28, 58, 75, 83, 94]\n",
      "4\n",
      "[58, 63, 34, 28, 69, 75, 83, 94]\n",
      "[63, 58, 34, 28, 69, 75, 83, 94]\n",
      "3\n",
      "[28, 58, 34, 63, 69, 75, 83, 94]\n",
      "[58, 28, 34, 63, 69, 75, 83, 94]\n",
      "2\n",
      "[34, 28, 58, 63, 69, 75, 83, 94]\n",
      "[34, 28, 58, 63, 69, 75, 83, 94]\n",
      "1\n",
      "[28, 34, 58, 63, 69, 75, 83, 94]\n",
      "[28, 34, 58, 63, 69, 75, 83, 94]\n"
     ]
    },
    {
     "data": {
      "text/plain": [
       "[28, 34, 58, 63, 69, 75, 83, 94]"
      ]
     },
     "execution_count": 49,
     "metadata": {},
     "output_type": "execute_result"
    }
   ],
   "source": [
    "# A = [28, 83, 94, 58, 69, 75, 34, 63, 55, 7, 35, 98, 11, 100, 57, 99, 16, 92, 5, 36]\n",
    "D = [28, 83, 94, 58, 69, 75, 34, 63]\n",
    "heap_sort(D)\n",
    "D"
   ]
  },
  {
   "cell_type": "code",
   "execution_count": 50,
   "metadata": {},
   "outputs": [],
   "source": [
    "def counting_sort(A,k):\n",
    "    \"\"\"\n",
    "    Counting Sort\n",
    "    A: unsorted array\n",
    "    B: empty arrray to put sorted values into\n",
    "    k: Under the assumption that k is O(n), this is the length of the array\n",
    "    \"\"\"\n",
    "    #initialise empty array\n",
    "    B = [0]*len(A)\n",
    "    C = [0]*(k+1)\n",
    "    # for i in range(0,k):\n",
    "    #     C[i] = 0 \n",
    "    #storing number of occurrences of elements in A\n",
    "    for j in range(0,len(A)):\n",
    "        C[A[j]] = C[A[j]] + 1\n",
    "    #cumulative sum\n",
    "    for i in range(1,k+1):\n",
    "        C[i] = C[i] + C[i-1]\n",
    "    # putting elements into B\n",
    "    for j in range(len(A)-1,-1,-1):\n",
    "        B[C[A[j]]-1] = A[j]\n",
    "        C[A[j]] = C[A[j]] - 1\n",
    "\n",
    "    #this works too (instead of the above for loop) but it wont be stable\n",
    "    # for j in range(0,len(A)): \n",
    "    #     B[C[A[j]]-1] = A[j]\n",
    "    #     C[A[j]] = C[A[j]] - 1\n",
    "\n",
    "    return B"
   ]
  },
  {
   "cell_type": "code",
   "execution_count": 51,
   "metadata": {},
   "outputs": [],
   "source": [
    "i = 0\n",
    "q = 1\n",
    "\n",
    "if q>0 & i>0:\n",
    "    print(i,q)\n",
    "if q>0 and i>1:\n",
    "    print(i,q)"
   ]
  },
  {
   "cell_type": "code",
   "execution_count": 52,
   "metadata": {},
   "outputs": [
    {
     "data": {
      "text/plain": [
       "[0, 1, 2, 2, 2, 2, 2, 3, 3, 4, 5, 5, 5, 6, 8, 16]"
      ]
     },
     "execution_count": 52,
     "metadata": {},
     "output_type": "execute_result"
    }
   ],
   "source": [
    "D = [5,2,6,5,2,1,2,3,4,5,8,0,2,3,2,16]\n",
    "counting_sort(D,len(D))"
   ]
  },
  {
   "cell_type": "code",
   "execution_count": 53,
   "metadata": {},
   "outputs": [
    {
     "data": {
      "text/plain": [
       "[0, 1, 2, 2, 2, 2, 2, 3, 3, 4, 5, 5, 5, 6, 8, 16]"
      ]
     },
     "execution_count": 53,
     "metadata": {},
     "output_type": "execute_result"
    }
   ],
   "source": [
    "D = [5,2,6,5,2,1,2,3,4,5,8,0,2,3,2,16]\n",
    "counting_sort(D,len(D))"
   ]
  },
  {
   "cell_type": "code",
   "execution_count": 54,
   "metadata": {},
   "outputs": [],
   "source": [
    "def insertion_sort(A):\n",
    "    \"\"\"\n",
    "    Insertion sort\n",
    "    Input A\n",
    "    Output - Sorted A in place\n",
    "    \"\"\"\n",
    "    for j in range(1,len(A)):\n",
    "        key = A[j]\n",
    "        i = j-1\n",
    "        while i>-1 and A[i]>key:\n",
    "            A[i+1] = A[i]\n",
    "            i = i - 1\n",
    "        A[i + 1] = key"
   ]
  },
  {
   "cell_type": "code",
   "execution_count": 55,
   "metadata": {},
   "outputs": [
    {
     "data": {
      "text/plain": [
       "[28, 34, 58, 63, 69, 75, 83, 94]"
      ]
     },
     "execution_count": 55,
     "metadata": {},
     "output_type": "execute_result"
    }
   ],
   "source": [
    "D = [28, 83, 94, 58, 69, 75, 34, 63]\n",
    "insertion_sort(D)\n",
    "D"
   ]
  },
  {
   "cell_type": "code",
   "execution_count": 56,
   "metadata": {},
   "outputs": [],
   "source": [
    "def bucket_sort(A):\n",
    "    \"\"\"\n",
    "    Bucket Sort (for numbers uniformly distributed between 0 and 1)\n",
    "    Input Array (A)\n",
    "    \"\"\"\n",
    "    sorted_A = [] #for the final concatenation\n",
    "    B = [None]*len(A)\n",
    "    n = len(A)\n",
    "    #list of lists\n",
    "    for i in range(0,n):\n",
    "        B[i] = []\n",
    "    #putting elements into respective buckets\n",
    "    for i in range (0,n):\n",
    "        B[int(np.floor(n*A[i]))].append(A[i])\n",
    "    #sorting elements in respective buckets\n",
    "    for i in range(0,n):\n",
    "        insertion_sort([B[i]])\n",
    "    #concatenating sorted elements\n",
    "    for i in range(0,n):\n",
    "        if B[i]:\n",
    "            sorted_A.extend(B[i])\n",
    "    return sorted_A\n"
   ]
  },
  {
   "cell_type": "code",
   "execution_count": 57,
   "metadata": {},
   "outputs": [
    {
     "data": {
      "text/plain": [
       "[0.0585936417525178,\n",
       " 0.1768475306430013,\n",
       " 0.3416606842150123,\n",
       " 0.3621301687525711,\n",
       " 0.4181649804204207,\n",
       " 0.45852899442231265,\n",
       " 0.5020233660809907,\n",
       " 0.681476521844513,\n",
       " 0.6295411366666339,\n",
       " 0.7276404559092862]"
      ]
     },
     "execution_count": 57,
     "metadata": {},
     "output_type": "execute_result"
    }
   ],
   "source": [
    "bucket_sort(list(np.random.uniform(size=10)))"
   ]
  },
  {
   "cell_type": "code",
   "execution_count": 58,
   "metadata": {},
   "outputs": [],
   "source": [
    "def bucket_sort_integers(A):\n",
    "    \"\"\"\n",
    "    Bucket Sort (for integers uniformly distributed between 0 and 100)\n",
    "    Input Array (A)\n",
    "    \"\"\"\n",
    "    sorted_A = [] #for the final concatenation\n",
    "    B = [None]*len(A)\n",
    "    n = len(A)\n",
    "    #list of lists\n",
    "    for i in range(0,n):\n",
    "        B[i] = []\n",
    "    #putting elements into respective buckets\n",
    "    for i in range (0,n):\n",
    "        B[int(np.floor(A[i]/n))].append(A[i])\n",
    "    #sorting elements in respective buckets\n",
    "    for i in range(0,n):\n",
    "        insertion_sort([B[i]])\n",
    "    #concatenating sorted elements\n",
    "    for i in range(0,n):\n",
    "        if B[i]:\n",
    "            sorted_A.extend(B[i])\n",
    "    return sorted_A"
   ]
  },
  {
   "cell_type": "code",
   "execution_count": 59,
   "metadata": {},
   "outputs": [
    {
     "data": {
      "text/plain": [
       "[14, 32, 58, 65, 75, 86, 84, 97, 94, 97]"
      ]
     },
     "execution_count": 59,
     "metadata": {},
     "output_type": "execute_result"
    }
   ],
   "source": [
    "bucket_sort_integers(list(np.random.randint(0,100,10)))\n"
   ]
  },
  {
   "cell_type": "code",
   "execution_count": 60,
   "metadata": {},
   "outputs": [
    {
     "data": {
      "text/plain": [
       "[28.249653329450823,\n",
       " 30.815149684921046,\n",
       " 35.24835109849194,\n",
       " 41.97360372663195,\n",
       " 55.07661553072886,\n",
       " 67.44826093437928,\n",
       " 73.93725991483588,\n",
       " 88.175376837468,\n",
       " 83.54352879758468,\n",
       " 94.76206625921776]"
      ]
     },
     "execution_count": 60,
     "metadata": {},
     "output_type": "execute_result"
    }
   ],
   "source": [
    "D = (100 - 1) * np.random.random_sample(size=10) + 1\n",
    "bucket_sort_integers(list(D))"
   ]
  },
  {
   "cell_type": "code",
   "execution_count": null,
   "metadata": {},
   "outputs": [],
   "source": []
  }
 ],
 "metadata": {
  "interpreter": {
   "hash": "5e32c17b15a225dea6058845226a4c80c1a365e65777d5c14d0fccc08bcf000f"
  },
  "kernelspec": {
   "display_name": "Python 3",
   "language": "python",
   "name": "python3"
  },
  "language_info": {
   "codemirror_mode": {
    "name": "ipython",
    "version": 3
   },
   "file_extension": ".py",
   "mimetype": "text/x-python",
   "name": "python",
   "nbconvert_exporter": "python",
   "pygments_lexer": "ipython3",
   "version": "3.8.8"
  }
 },
 "nbformat": 4,
 "nbformat_minor": 2
}
