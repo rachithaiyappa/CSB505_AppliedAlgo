{
 "cells": [
  {
   "cell_type": "code",
   "execution_count": 63,
   "metadata": {},
   "outputs": [],
   "source": [
    "import numpy as np"
   ]
  },
  {
   "cell_type": "markdown",
   "metadata": {},
   "source": [
    "## Q1 - Proposed solution is O(n) or O(nlogn) depending on sorting.\n",
    "\n",
    "```python\n",
    "    INPUT sequence D1 and D2 of n elements\n",
    "\n",
    "    SORT D1 and D2 \n",
    "    //O(nlogn) is attainable via heap sort if data does not meet assumptions \n",
    "    //of counting, bucket or radix sort (O(n)) are not met\n",
    "\n",
    "    //get number of unique elements in D1 and D2, k_D1 and k_D2 respectively \n",
    "    k_D1 = 0\n",
    "    for i in 0 to len(D1):\n",
    "         CONTINUE IF D1[i] == D1[i-1] ELSE k_D1 = k_D1 + 1 //O(n)\n",
    "    k_D2 = 0\n",
    "    for i in 0 to len(D2):\n",
    "         CONTINUE if D2[i]==D2[i-1] ELSE k_D2 = kk_D2 + 1 //O(n)\n",
    "    \n",
    "    RETURN FALSE IF k_D1 != k_D2 ELSE \n",
    "        INITIALISE \n",
    "        arrays d1[0,1,2,....,k_D1], d2[0,1,2,...k_D2] \n",
    "        d1[0],d2[0] = D1[0],D2[0]\n",
    "        \n",
    "        //making a sequence of unique elements of D1 (O(n))\n",
    "        for i in 1 to len(D1):\n",
    "            CHECK IF D1[i]==d1[i-1] ELSE d1[i]=D1[i] //O(1) operation\n",
    "        //making a sequence of unique elements of D2 (O(n))\n",
    "        for i in 1 to len(D2):\n",
    "            CHECK IF D2[i]==d2[i-1] ELSE d2[i]=D2[i] //O(1) operation\n",
    "\n",
    "        for i in 0 to len(d1):\n",
    "            RETURN FALSE IF d1[i]!=d2[i] ELSE TRUE //O(n) operation\n",
    "```\n",
    "    "
   ]
  },
  {
   "cell_type": "markdown",
   "metadata": {},
   "source": [
    "# Q2  - sorting D in O(n) time. Incomplete but heading the right direction I think\n",
    "\n",
    "### Given n elements in an array. The maximum element is $n^2-1$. \n",
    "### If it is known elements in this are uniformly distributed, then we can create n buckets each with one element in it. This is basically bucket sort. Since creating n buckets takes $O(n)$, this algorithm will then be $O(n)$.\n",
    "\n",
    "### However, what happens when data is not uniformly distributed? When the maximum element of an array is $O(n)$, then counting sort algorithm can sort it in $O(k+n)$ time. Given that maximum element is $O(n^2)$, an extension of counting sort is radix sort. \n",
    "\n",
    "### If there are n integers to sort, each integer has d digits, and each digit can take on up to k possible values, then radix sort can sort the numbers in $\\theta(d(n+k))$ time. When d is a constant and k is O.n/, radix sort runs in linear time.\n"
   ]
  },
  {
   "cell_type": "markdown",
   "metadata": {},
   "source": [
    "# Q3 - Check if two sequences share atleast one common element. Proposed O(nlogn). \n",
    "# O(n) is attainable if we can come up with a hash table which stores counts of each element. O(n) to store counts of each elements from D to hash table. Then run through has thable to check if their values are not equal 1 (O(n)). Net O(n)\n",
    "\n",
    "```\n",
    "    INPUT D\n",
    "\n",
    "    SORT D\n",
    "    //O(nlogn) is attainable via heap sort if data does not meet assumptions \n",
    "    //of counting, bucket or radix sort (O(n)) are not met\n",
    "\n",
    "    GET SIZE k = leng(D) //O(n) operation\n",
    "\n",
    "    //check if consecutive elements are equal (O(n))\n",
    "    for i in range(0,k-1):\n",
    "        if D[i+1] == D[i]\n",
    "            RETURN TRUE\n",
    "    RETURN FALSE\n",
    "\n",
    "    \n",
    "```"
   ]
  },
  {
   "cell_type": "markdown",
   "metadata": {},
   "source": [
    "# Q4 merge sort pending"
   ]
  },
  {
   "cell_type": "code",
   "execution_count": 97,
   "metadata": {},
   "outputs": [],
   "source": [
    "#python indexing starts at 0. Getting the left and right child of an index i\n",
    "def left(i):\n",
    "    return (2*i) + 1\n",
    "def right(i):\n",
    "    return (2*i) + 2\n",
    "\n",
    "def max_heap(A,i,size):\n",
    "    \"\"\"\n",
    "    Resolve local triads and go down the tree to resolve further\n",
    "    Input - Array (A), index (i)\n",
    "    Output - Array (modified in place) \n",
    "    \"\"\"\n",
    "    # print(i)\n",
    "    heap_size = size\n",
    "    l = left(i) #index of left child\n",
    "    r = right(i) #index of right child\n",
    "    #if left child is larger than root\n",
    "    if (l < heap_size) and (A[l]>A[i]):\n",
    "        largest = l\n",
    "    else:\n",
    "        largest = i\n",
    "    #if right child is larger than root\n",
    "    if (r < heap_size) and (A[r]>A[largest]):\n",
    "        largest = r\n",
    "    #if largest (index) is not that of the root\n",
    "    if largest != i:\n",
    "        A[i], A[largest] = A[largest], A[i]\n",
    "        #float this through the heap to get partial order in the subtree where the largest node of the triad existed initially \n",
    "        max_heap(A,largest,size)\n",
    "\n",
    "\n",
    "def build_max_heap(A):\n",
    "    \"\"\"\n",
    "    Build the max heap property\n",
    "    Input - Array(A)\n",
    "    Out - Array(A) modified in place where the max heap property is satisfied\n",
    "    \"\"\"\n",
    "\n",
    "    heap_size = len(A)\n",
    "    for i in range(int(np.floor(len(A)/2))-1,-1,-1):\n",
    "        max_heap(A,i,heap_size)\n",
    "    print(A)\n",
    "    \n",
    "def heap_sort(A):\n",
    "    \"\"\"\n",
    "    Heap sort\n",
    "    Input - Array to be sorted\n",
    "    Output - Sorted Array (in place)\n",
    "    \"\"\"\n",
    "    heap_size = len(A)\n",
    "    build_max_heap(A)\n",
    "    for i in range(len(A)-1,0,-1):\n",
    "        print(i)\n",
    "        A[0],A[i] = A[i],A[0]\n",
    "        heap_size = heap_size-1\n",
    "        print(A)\n",
    "        max_heap(A,0,heap_size)\n",
    "        print(A)\n",
    "        "
   ]
  },
  {
   "cell_type": "code",
   "execution_count": 98,
   "metadata": {},
   "outputs": [
    {
     "name": "stdout",
     "output_type": "stream",
     "text": [
      "[94, 83, 75, 63, 69, 28, 34, 58]\n",
      "7\n",
      "[58, 83, 75, 63, 69, 28, 34, 94]\n",
      "[83, 69, 75, 63, 58, 28, 34, 94]\n",
      "6\n",
      "[34, 69, 75, 63, 58, 28, 83, 94]\n",
      "[75, 69, 34, 63, 58, 28, 83, 94]\n",
      "5\n",
      "[28, 69, 34, 63, 58, 75, 83, 94]\n",
      "[69, 63, 34, 28, 58, 75, 83, 94]\n",
      "4\n",
      "[58, 63, 34, 28, 69, 75, 83, 94]\n",
      "[63, 58, 34, 28, 69, 75, 83, 94]\n",
      "3\n",
      "[28, 58, 34, 63, 69, 75, 83, 94]\n",
      "[58, 28, 34, 63, 69, 75, 83, 94]\n",
      "2\n",
      "[34, 28, 58, 63, 69, 75, 83, 94]\n",
      "[34, 28, 58, 63, 69, 75, 83, 94]\n",
      "1\n",
      "[28, 34, 58, 63, 69, 75, 83, 94]\n",
      "[28, 34, 58, 63, 69, 75, 83, 94]\n"
     ]
    },
    {
     "data": {
      "text/plain": [
       "[28, 34, 58, 63, 69, 75, 83, 94]"
      ]
     },
     "execution_count": 98,
     "metadata": {},
     "output_type": "execute_result"
    }
   ],
   "source": [
    "# A = [28, 83, 94, 58, 69, 75, 34, 63, 55, 7, 35, 98, 11, 100, 57, 99, 16, 92, 5, 36]\n",
    "D = [28, 83, 94, 58, 69, 75, 34, 63]\n",
    "heap_sort(D)\n",
    "D"
   ]
  },
  {
   "cell_type": "code",
   "execution_count": 190,
   "metadata": {},
   "outputs": [],
   "source": [
    "def counting_sort(A,k):\n",
    "    \"\"\"\n",
    "    Counting Sort\n",
    "    A: unsorted array\n",
    "    B: empty arrray to put sorted values into\n",
    "    k: Under the assumption that k is O(n), this is the length of the array\n",
    "    \"\"\"\n",
    "    #initialise empty array\n",
    "    B = [0]*len(A)\n",
    "    C = [0]*(k+1)\n",
    "    # for i in range(0,k):\n",
    "    #     C[i] = 0 \n",
    "    #storing number of occurrences of elements in A\n",
    "    for j in range(0,len(A)):\n",
    "        C[A[j]] = C[A[j]] + 1\n",
    "    #cumulative sum\n",
    "    for i in range(1,k+1):\n",
    "        C[i] = C[i] + C[i-1]\n",
    "    # putting elements into B\n",
    "    for j in range(len(A)-1,-1,-1):\n",
    "        B[C[A[j]]-1] = A[j]\n",
    "        C[A[j]] = C[A[j]] - 1\n",
    "\n",
    "    #this works too (instead of the above for loop) but it wont be stable\n",
    "    # for j in range(0,len(A)): \n",
    "    #     B[C[A[j]]-1] = A[j]\n",
    "    #     C[A[j]] = C[A[j]] - 1\n",
    "\n",
    "    return B"
   ]
  },
  {
   "cell_type": "code",
   "execution_count": 194,
   "metadata": {},
   "outputs": [],
   "source": [
    "i = 0\n",
    "q = 1\n",
    "\n",
    "if q>0 & i>0:\n",
    "    print(i,q)\n",
    "if q>0 and i>1:\n",
    "    print(i,q)"
   ]
  },
  {
   "cell_type": "code",
   "execution_count": 191,
   "metadata": {},
   "outputs": [
    {
     "data": {
      "text/plain": [
       "[0, 1, 2, 2, 2, 2, 2, 3, 3, 4, 5, 5, 5, 6, 8, 16]"
      ]
     },
     "execution_count": 191,
     "metadata": {},
     "output_type": "execute_result"
    }
   ],
   "source": [
    "D = [5,2,6,5,2,1,2,3,4,5,8,0,2,3,2,16]\n",
    "counting_sort(D,len(D))"
   ]
  },
  {
   "cell_type": "code",
   "execution_count": 185,
   "metadata": {},
   "outputs": [
    {
     "data": {
      "text/plain": [
       "[0, 1, 2, 2, 2, 2, 2, 3, 3, 4, 0, 5, 5, 6, 8, 16]"
      ]
     },
     "execution_count": 185,
     "metadata": {},
     "output_type": "execute_result"
    }
   ],
   "source": [
    "D = [5,2,6,5,2,1,2,3,4,5,8,0,2,3,2,16]\n",
    "counting_sort(D,len(D))"
   ]
  },
  {
   "cell_type": "code",
   "execution_count": 1,
   "metadata": {},
   "outputs": [],
   "source": [
    "def insertion_sort(A):\n",
    "    \"\"\"\n",
    "    Insertion sort\n",
    "    Input A\n",
    "    Output - Sorted A in place\n",
    "    \"\"\"\n",
    "    for j in range(1,len(A)):\n",
    "        key = A[j]\n",
    "        i = j-1\n",
    "        while i>-1 and A[i]>key:\n",
    "            A[i+1] = A[i]\n",
    "            i = i - 1\n",
    "        A[i + 1] = key"
   ]
  },
  {
   "cell_type": "code",
   "execution_count": 4,
   "metadata": {},
   "outputs": [
    {
     "data": {
      "text/plain": [
       "[28, 34, 58, 63, 69, 75, 83, 94]"
      ]
     },
     "execution_count": 4,
     "metadata": {},
     "output_type": "execute_result"
    }
   ],
   "source": [
    "D = [28, 83, 94, 58, 69, 75, 34, 63]\n",
    "insertion_sort(D)\n",
    "D"
   ]
  },
  {
   "cell_type": "code",
   "execution_count": 86,
   "metadata": {},
   "outputs": [],
   "source": [
    "def bucket_sort(A):\n",
    "    \"\"\"\n",
    "    Bucket Sort (for numbers uniformly distributed between 0 and 1)\n",
    "    Input Array (A)\n",
    "    \"\"\"\n",
    "    sorted_A = [] #for the final concatenation\n",
    "    B = [None]*len(A)\n",
    "    n = len(A)\n",
    "    #list of lists\n",
    "    for i in range(0,n):\n",
    "        B[i] = []\n",
    "    #putting elements into respective buckets\n",
    "    for i in range (0,n):\n",
    "        B[int(np.floor(n*A[i]))].append(A[i])\n",
    "    #sorting elements in respective buckets\n",
    "    for i in range(0,n):\n",
    "        insertion_sort([B[i]])\n",
    "    #concatenating sorted elements\n",
    "    for i in range(0,n):\n",
    "        if B[i]:\n",
    "            sorted_A.extend(B[i])\n",
    "    return sorted_A\n"
   ]
  },
  {
   "cell_type": "code",
   "execution_count": 87,
   "metadata": {},
   "outputs": [
    {
     "data": {
      "text/plain": [
       "[0.11705099981995293,\n",
       " 0.42893062104258295,\n",
       " 0.5416302988170616,\n",
       " 0.6503773091886892,\n",
       " 0.7332934452368518,\n",
       " 0.7820290588588559,\n",
       " 0.8555841614231666,\n",
       " 0.8165883534383538,\n",
       " 0.8644696820926664,\n",
       " 0.9975986589391913]"
      ]
     },
     "execution_count": 87,
     "metadata": {},
     "output_type": "execute_result"
    }
   ],
   "source": [
    "bucket_sort(list(np.random.uniform(size=10)))"
   ]
  },
  {
   "cell_type": "code",
   "execution_count": 90,
   "metadata": {},
   "outputs": [],
   "source": [
    "def bucket_sort_integers(A):\n",
    "    \"\"\"\n",
    "    Bucket Sort (for integers uniformly distributed between 0 and 100)\n",
    "    Input Array (A)\n",
    "    \"\"\"\n",
    "    sorted_A = [] #for the final concatenation\n",
    "    B = [None]*len(A)\n",
    "    n = len(A)\n",
    "    #list of lists\n",
    "    for i in range(0,n):\n",
    "        B[i] = []\n",
    "    #putting elements into respective buckets\n",
    "    for i in range (0,n):\n",
    "        B[int(np.floor(A[i]/n))].append(A[i])\n",
    "    #sorting elements in respective buckets\n",
    "    for i in range(0,n):\n",
    "        insertion_sort([B[i]])\n",
    "    #concatenating sorted elements\n",
    "    for i in range(0,n):\n",
    "        if B[i]:\n",
    "            sorted_A.extend(B[i])\n",
    "    return sorted_A"
   ]
  },
  {
   "cell_type": "code",
   "execution_count": 93,
   "metadata": {},
   "outputs": [
    {
     "data": {
      "text/plain": [
       "[5, 3, 23, 22, 36, 49, 42, 40, 69, 85]"
      ]
     },
     "execution_count": 93,
     "metadata": {},
     "output_type": "execute_result"
    }
   ],
   "source": [
    "bucket_sort_integers(list(np.random.randint(0,100,10)))\n"
   ]
  },
  {
   "cell_type": "code",
   "execution_count": 107,
   "metadata": {},
   "outputs": [
    {
     "data": {
      "text/plain": [
       "[14.835938113180386,\n",
       " 17.756328900734637,\n",
       " 19.016047836726166,\n",
       " 19.310894690340696,\n",
       " 57.20490644994777,\n",
       " 53.44072866107258,\n",
       " 59.96818629829639,\n",
       " 61.308010749659736,\n",
       " 78.5485831205385,\n",
       " 87.60000351998099]"
      ]
     },
     "execution_count": 107,
     "metadata": {},
     "output_type": "execute_result"
    }
   ],
   "source": [
    "D = (100 - 1) * np.random.random_sample(size=10) + 1\n",
    "bucket_sort_integers(list(D))"
   ]
  }
 ],
 "metadata": {
  "interpreter": {
   "hash": "5e32c17b15a225dea6058845226a4c80c1a365e65777d5c14d0fccc08bcf000f"
  },
  "kernelspec": {
   "display_name": "Python 3.7.4 64-bit ('base': conda)",
   "name": "python3"
  },
  "language_info": {
   "codemirror_mode": {
    "name": "ipython",
    "version": 3
   },
   "file_extension": ".py",
   "mimetype": "text/x-python",
   "name": "python",
   "nbconvert_exporter": "python",
   "pygments_lexer": "ipython3",
   "version": "3.7.4"
  },
  "orig_nbformat": 4
 },
 "nbformat": 4,
 "nbformat_minor": 2
}
