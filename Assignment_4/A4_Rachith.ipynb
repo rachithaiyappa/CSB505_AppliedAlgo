{
 "cells": [
  {
   "cell_type": "code",
   "execution_count": 63,
   "source": [
    "import numpy as np"
   ],
   "outputs": [],
   "metadata": {}
  },
  {
   "cell_type": "code",
   "execution_count": 97,
   "source": [
    "#python indexing starts at 0. Getting the left and right child of an index i\n",
    "def left(i):\n",
    "    return (2*i) + 1\n",
    "def right(i):\n",
    "    return (2*i) + 2\n",
    "\n",
    "def max_heap(A,i,size):\n",
    "    \"\"\"\n",
    "    Resolve local triads and go down the tree to resolve further\n",
    "    Input - Array (A), index (i)\n",
    "    Output - Array (modified in place) \n",
    "    \"\"\"\n",
    "    # print(i)\n",
    "    heap_size = size\n",
    "    l = left(i) #index of left child\n",
    "    r = right(i) #index of right child\n",
    "    #if left child is larger than root\n",
    "    if (l < heap_size) and (A[l]>A[i]):\n",
    "        largest = l\n",
    "    else:\n",
    "        largest = i\n",
    "    #if right child is larger than root\n",
    "    if (r < heap_size) and (A[r]>A[largest]):\n",
    "        largest = r\n",
    "    #if largest (index) is not that of the root\n",
    "    if largest != i:\n",
    "        A[i], A[largest] = A[largest], A[i]\n",
    "        #float this through the heap to get partial order in the subtree where the largest node of the triad existed initially \n",
    "        max_heap(A,largest,size)\n",
    "\n",
    "\n",
    "def build_max_heap(A):\n",
    "    \"\"\"\n",
    "    Build the max heap property\n",
    "    Input - Array(A)\n",
    "    Out - Array(A) modified in place where the max heap property is satisfied\n",
    "    \"\"\"\n",
    "\n",
    "    heap_size = len(A)\n",
    "    for i in range(int(np.floor(len(A)/2))-1,-1,-1):\n",
    "        max_heap(A,i,heap_size)\n",
    "    print(A)\n",
    "    \n",
    "def heap_sort(A):\n",
    "    \"\"\"\n",
    "    Heap sort\n",
    "    Input - Array to be sorted\n",
    "    Output - Sorted Array (in place)\n",
    "    \"\"\"\n",
    "    heap_size = len(A)\n",
    "    build_max_heap(A)\n",
    "    for i in range(len(A)-1,0,-1):\n",
    "        print(i)\n",
    "        A[0],A[i] = A[i],A[0]\n",
    "        heap_size = heap_size-1\n",
    "        print(A)\n",
    "        max_heap(A,0,heap_size)\n",
    "        print(A)\n",
    "        "
   ],
   "outputs": [],
   "metadata": {}
  },
  {
   "cell_type": "code",
   "execution_count": 98,
   "source": [
    "# A = [28, 83, 94, 58, 69, 75, 34, 63, 55, 7, 35, 98, 11, 100, 57, 99, 16, 92, 5, 36]\n",
    "D = [28, 83, 94, 58, 69, 75, 34, 63]\n",
    "heap_sort(D)\n",
    "D"
   ],
   "outputs": [
    {
     "output_type": "stream",
     "name": "stdout",
     "text": [
      "[94, 83, 75, 63, 69, 28, 34, 58]\n",
      "7\n",
      "[58, 83, 75, 63, 69, 28, 34, 94]\n",
      "[83, 69, 75, 63, 58, 28, 34, 94]\n",
      "6\n",
      "[34, 69, 75, 63, 58, 28, 83, 94]\n",
      "[75, 69, 34, 63, 58, 28, 83, 94]\n",
      "5\n",
      "[28, 69, 34, 63, 58, 75, 83, 94]\n",
      "[69, 63, 34, 28, 58, 75, 83, 94]\n",
      "4\n",
      "[58, 63, 34, 28, 69, 75, 83, 94]\n",
      "[63, 58, 34, 28, 69, 75, 83, 94]\n",
      "3\n",
      "[28, 58, 34, 63, 69, 75, 83, 94]\n",
      "[58, 28, 34, 63, 69, 75, 83, 94]\n",
      "2\n",
      "[34, 28, 58, 63, 69, 75, 83, 94]\n",
      "[34, 28, 58, 63, 69, 75, 83, 94]\n",
      "1\n",
      "[28, 34, 58, 63, 69, 75, 83, 94]\n",
      "[28, 34, 58, 63, 69, 75, 83, 94]\n"
     ]
    },
    {
     "output_type": "execute_result",
     "data": {
      "text/plain": [
       "[28, 34, 58, 63, 69, 75, 83, 94]"
      ]
     },
     "metadata": {},
     "execution_count": 98
    }
   ],
   "metadata": {}
  },
  {
   "cell_type": "code",
   "execution_count": 190,
   "source": [
    "def counting_sort(A,k):\n",
    "    \"\"\"\n",
    "    Counting Sort\n",
    "    A: unsorted array\n",
    "    B: empty arrray to put sorted values into\n",
    "    k: Under the assumption that k is O(n), this is the length of the array\n",
    "    \"\"\"\n",
    "    #initialise empty array\n",
    "    B = [0]*len(A)\n",
    "    C = [0]*(k+1)\n",
    "    # for i in range(0,k):\n",
    "    #     C[i] = 0 \n",
    "    #storing number of occurrences of elements in A\n",
    "    for j in range(0,len(A)):\n",
    "        C[A[j]] = C[A[j]] + 1\n",
    "    #cumulative sum\n",
    "    for i in range(1,k+1):\n",
    "        C[i] = C[i] + C[i-1]\n",
    "    # putting elements into B\n",
    "    for j in range(len(A)-1,-1,-1):\n",
    "        B[C[A[j]]-1] = A[j]\n",
    "        C[A[j]] = C[A[j]] - 1\n",
    "\n",
    "    #this works too (instead of the above for loop) but it wont be stable\n",
    "    # for j in range(0,len(A)): \n",
    "    #     B[C[A[j]]-1] = A[j]\n",
    "    #     C[A[j]] = C[A[j]] - 1\n",
    "\n",
    "    return B"
   ],
   "outputs": [],
   "metadata": {}
  },
  {
   "cell_type": "code",
   "execution_count": 194,
   "source": [
    "i = 0\n",
    "q = 1\n",
    "\n",
    "if q>0 & i>0:\n",
    "    print(i,q)\n",
    "if q>0 and i>1:\n",
    "    print(i,q)"
   ],
   "outputs": [],
   "metadata": {}
  },
  {
   "cell_type": "code",
   "execution_count": 191,
   "source": [
    "D = [5,2,6,5,2,1,2,3,4,5,8,0,2,3,2,16]\n",
    "counting_sort(D,len(D))"
   ],
   "outputs": [
    {
     "output_type": "execute_result",
     "data": {
      "text/plain": [
       "[0, 1, 2, 2, 2, 2, 2, 3, 3, 4, 5, 5, 5, 6, 8, 16]"
      ]
     },
     "metadata": {},
     "execution_count": 191
    }
   ],
   "metadata": {}
  },
  {
   "cell_type": "code",
   "execution_count": 185,
   "source": [
    "D = [5,2,6,5,2,1,2,3,4,5,8,0,2,3,2,16]\n",
    "counting_sort(D,len(D))"
   ],
   "outputs": [
    {
     "output_type": "execute_result",
     "data": {
      "text/plain": [
       "[0, 1, 2, 2, 2, 2, 2, 3, 3, 4, 0, 5, 5, 6, 8, 16]"
      ]
     },
     "metadata": {},
     "execution_count": 185
    }
   ],
   "metadata": {}
  },
  {
   "cell_type": "code",
   "execution_count": 1,
   "source": [
    "def insertion_sort(A):\n",
    "    \"\"\"\n",
    "    Insertion sort\n",
    "    Input A\n",
    "    Output - Sorted A in place\n",
    "    \"\"\"\n",
    "    for j in range(1,len(A)):\n",
    "        key = A[j]\n",
    "        i = j-1\n",
    "        while i>-1 and A[i]>key:\n",
    "            A[i+1] = A[i]\n",
    "            i = i - 1\n",
    "        A[i + 1] = key"
   ],
   "outputs": [],
   "metadata": {}
  },
  {
   "cell_type": "code",
   "execution_count": 4,
   "source": [
    "D = [28, 83, 94, 58, 69, 75, 34, 63]\n",
    "insertion_sort(D)\n",
    "D"
   ],
   "outputs": [
    {
     "output_type": "execute_result",
     "data": {
      "text/plain": [
       "[28, 34, 58, 63, 69, 75, 83, 94]"
      ]
     },
     "metadata": {},
     "execution_count": 4
    }
   ],
   "metadata": {}
  },
  {
   "cell_type": "code",
   "execution_count": 86,
   "source": [
    "def bucket_sort(A):\n",
    "    \"\"\"\n",
    "    Bucket Sort (for numbers uniformly distributed between 0 and 1)\n",
    "    Input Array (A)\n",
    "    \"\"\"\n",
    "    sorted_A = [] #for the final concatenation\n",
    "    B = [None]*len(A)\n",
    "    n = len(A)\n",
    "    #list of lists\n",
    "    for i in range(0,n):\n",
    "        B[i] = []\n",
    "    #putting elements into respective buckets\n",
    "    for i in range (0,n):\n",
    "        B[int(np.floor(n*A[i]))].append(A[i])\n",
    "    for i in range(0,n):\n",
    "        insertion_sort([B[i]])\n",
    "    for i in range(0,n):\n",
    "        if B[i]:\n",
    "            sorted_A.extend(B[i])\n",
    "    return sorted_A\n"
   ],
   "outputs": [],
   "metadata": {}
  },
  {
   "cell_type": "code",
   "execution_count": 87,
   "source": [
    "bucket_sort(list(np.random.uniform(size=10)))"
   ],
   "outputs": [
    {
     "output_type": "execute_result",
     "data": {
      "text/plain": [
       "[0.11705099981995293,\n",
       " 0.42893062104258295,\n",
       " 0.5416302988170616,\n",
       " 0.6503773091886892,\n",
       " 0.7332934452368518,\n",
       " 0.7820290588588559,\n",
       " 0.8555841614231666,\n",
       " 0.8165883534383538,\n",
       " 0.8644696820926664,\n",
       " 0.9975986589391913]"
      ]
     },
     "metadata": {},
     "execution_count": 87
    }
   ],
   "metadata": {}
  },
  {
   "cell_type": "code",
   "execution_count": 90,
   "source": [
    "def bucket_sort_integers(A):\n",
    "    \"\"\"\n",
    "    Bucket Sort (for integers uniformly distributed between 0 and 100)\n",
    "    Input Array (A)\n",
    "    \"\"\"\n",
    "    sorted_A = [] #for the final concatenation\n",
    "    B = [None]*len(A)\n",
    "    n = len(A)\n",
    "    #list of lists\n",
    "    for i in range(0,n):\n",
    "        B[i] = []\n",
    "    #putting elements into respective buckets\n",
    "    for i in range (0,n):\n",
    "        B[int(np.floor(A[i]/n))].append(A[i])\n",
    "    for i in range(0,n):\n",
    "        insertion_sort([B[i]])\n",
    "    for i in range(0,n):\n",
    "        if B[i]:\n",
    "            sorted_A.extend(B[i])\n",
    "    return sorted_A"
   ],
   "outputs": [],
   "metadata": {}
  },
  {
   "cell_type": "code",
   "execution_count": 93,
   "source": [
    "bucket_sort_integers(list(np.random.randint(0,100,10)))\n"
   ],
   "outputs": [
    {
     "output_type": "execute_result",
     "data": {
      "text/plain": [
       "[5, 3, 23, 22, 36, 49, 42, 40, 69, 85]"
      ]
     },
     "metadata": {},
     "execution_count": 93
    }
   ],
   "metadata": {}
  },
  {
   "cell_type": "code",
   "execution_count": 94,
   "source": [
    "D = (100 - 1) * np.random.random_sample(size=10) + 1\n",
    "bucket_sort_integers(list(D))"
   ],
   "outputs": [
    {
     "output_type": "execute_result",
     "data": {
      "text/plain": [
       "[5.239672519868561,\n",
       " 17.24712448489948,\n",
       " 14.080735977195292,\n",
       " 49.8053370505407,\n",
       " 52.317471725884545,\n",
       " 62.89017886261517,\n",
       " 65.33831857741859,\n",
       " 74.08890405921316,\n",
       " 99.68718168036443,\n",
       " 98.41202801590975]"
      ]
     },
     "metadata": {},
     "execution_count": 94
    }
   ],
   "metadata": {}
  }
 ],
 "metadata": {
  "orig_nbformat": 4,
  "language_info": {
   "name": "python",
   "version": "3.7.4",
   "mimetype": "text/x-python",
   "codemirror_mode": {
    "name": "ipython",
    "version": 3
   },
   "pygments_lexer": "ipython3",
   "nbconvert_exporter": "python",
   "file_extension": ".py"
  },
  "kernelspec": {
   "name": "python3",
   "display_name": "Python 3.7.4 64-bit ('base': conda)"
  },
  "interpreter": {
   "hash": "5e32c17b15a225dea6058845226a4c80c1a365e65777d5c14d0fccc08bcf000f"
  }
 },
 "nbformat": 4,
 "nbformat_minor": 2
}