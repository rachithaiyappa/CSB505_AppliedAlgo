{
 "cells": [
  {
   "cell_type": "code",
   "execution_count": 2,
   "metadata": {},
   "outputs": [
    {
     "name": "stdout",
     "output_type": "stream",
     "text": [
      "dict_keys([])\n",
      "dict_keys(['t'])\n",
      "dict_keys(['t', 'y'])\n"
     ]
    },
    {
     "data": {
      "text/plain": [
       "{'t': 1, 'y': 1, 'm': 1}"
      ]
     },
     "execution_count": 2,
     "metadata": {},
     "output_type": "execute_result"
    }
   ],
   "source": [
    "def a(str1):\n",
    "    s = {}\n",
    "    for n in str1:\n",
    "        an = s.keys()\n",
    "        print(an)\n",
    "        if n in an:\n",
    "            s[n] += 1\n",
    "        else:\n",
    "            s[n] = 1\n",
    "    return s\n",
    "\n",
    "a('tym')"
   ]
  },
  {
   "cell_type": "code",
   "execution_count": 4,
   "metadata": {},
   "outputs": [
    {
     "name": "stdout",
     "output_type": "stream",
     "text": [
      "a:b\n"
     ]
    }
   ],
   "source": [
    "print('a','b',sep=':')"
   ]
  },
  {
   "cell_type": "code",
   "execution_count": 5,
   "metadata": {},
   "outputs": [],
   "source": [
    "age = input(\"what is it\")"
   ]
  },
  {
   "cell_type": "code",
   "execution_count": 7,
   "metadata": {},
   "outputs": [
    {
     "data": {
      "text/plain": [
       "['6']"
      ]
     },
     "execution_count": 7,
     "metadata": {},
     "output_type": "execute_result"
    }
   ],
   "source": [
    "age.split()"
   ]
  },
  {
   "cell_type": "code",
   "execution_count": 45,
   "metadata": {},
   "outputs": [
    {
     "name": "stdout",
     "output_type": "stream",
     "text": [
      "b''\n"
     ]
    }
   ],
   "source": [
    "with open(\"sample.txt\",'rb') as f:\n",
    "    for line in f:\n",
    "        # print(f.seek(2))\n",
    "        # f.write(\"meh\")\n",
    "        print(f.read(3))\n",
    "        # print(ord(f.read(1)))\n",
    "        # print(list(f.read(3)))"
   ]
  },
  {
   "cell_type": "code",
   "execution_count": 48,
   "metadata": {},
   "outputs": [
    {
     "name": "stdout",
     "output_type": "stream",
     "text": [
      "1\n",
      "4\n"
     ]
    }
   ],
   "source": [
    "import csv\n",
    "# with open(\"sample.csv\",'r') as f:\n",
    "data = csv.DictReader(open(\"sample.csv\"))\n",
    "for row in data:\n",
    "    print(row['s'])"
   ]
  },
  {
   "cell_type": "code",
   "execution_count": 50,
   "metadata": {},
   "outputs": [
    {
     "data": {
      "text/plain": [
       "int"
      ]
     },
     "execution_count": 50,
     "metadata": {},
     "output_type": "execute_result"
    }
   ],
   "source": [
    "type(int('34'))"
   ]
  },
  {
   "cell_type": "code",
   "execution_count": 51,
   "metadata": {},
   "outputs": [
    {
     "name": "stdout",
     "output_type": "stream",
     "text": [
      "yu\n"
     ]
    },
    {
     "ename": "ValueError",
     "evalue": "invalid literal for int() with base 10: 'u'",
     "output_type": "error",
     "traceback": [
      "\u001b[0;31m---------------------------------------------------------------------------\u001b[0m",
      "\u001b[0;31mValueError\u001b[0m                                Traceback (most recent call last)",
      "\u001b[0;32m<ipython-input-51-7b55110027fc>\u001b[0m in \u001b[0;36m<module>\u001b[0;34m\u001b[0m\n\u001b[1;32m      2\u001b[0m \u001b[0;32mwhile\u001b[0m \u001b[0mage\u001b[0m\u001b[0;34m<\u001b[0m\u001b[0;36m0\u001b[0m\u001b[0;34m:\u001b[0m\u001b[0;34m\u001b[0m\u001b[0;34m\u001b[0m\u001b[0m\n\u001b[1;32m      3\u001b[0m     \u001b[0;32mtry\u001b[0m\u001b[0;34m:\u001b[0m\u001b[0;34m\u001b[0m\u001b[0;34m\u001b[0m\u001b[0m\n\u001b[0;32m----> 4\u001b[0;31m         \u001b[0mage\u001b[0m \u001b[0;34m=\u001b[0m \u001b[0mint\u001b[0m\u001b[0;34m(\u001b[0m\u001b[0minput\u001b[0m\u001b[0;34m(\u001b[0m\u001b[0;34m\"what?\"\u001b[0m\u001b[0;34m)\u001b[0m\u001b[0;34m)\u001b[0m\u001b[0;34m\u001b[0m\u001b[0;34m\u001b[0m\u001b[0m\n\u001b[0m\u001b[1;32m      5\u001b[0m         \u001b[0;32mif\u001b[0m \u001b[0mage\u001b[0m\u001b[0;34m<\u001b[0m\u001b[0;36m0\u001b[0m\u001b[0;34m:\u001b[0m\u001b[0;34m\u001b[0m\u001b[0;34m\u001b[0m\u001b[0m\n\u001b[1;32m      6\u001b[0m             \u001b[0mprint\u001b[0m\u001b[0;34m(\u001b[0m\u001b[0;34m\"meh\"\u001b[0m\u001b[0;34m)\u001b[0m\u001b[0;34m\u001b[0m\u001b[0;34m\u001b[0m\u001b[0m\n",
      "\u001b[0;31mValueError\u001b[0m: invalid literal for int() with base 10: 'u'"
     ]
    }
   ],
   "source": [
    "age = -1\n",
    "while age<0:\n",
    "    try:\n",
    "        age = int(input(\"what?\"))\n",
    "        if age<0:\n",
    "            print(\"meh\")\n",
    "    except ValueError:\n",
    "        print(\"yu\")\n",
    "        raise"
   ]
  },
  {
   "cell_type": "code",
   "execution_count": 52,
   "metadata": {},
   "outputs": [],
   "source": [
    "def factors(n):\n",
    "    k = 1\n",
    "    while k*k<n:\n",
    "        if n%k==0:\n",
    "            yield k\n",
    "            yield n//k\n",
    "        k += 1\n",
    "        if k*k == n:\n",
    "            yield k"
   ]
  },
  {
   "cell_type": "code",
   "execution_count": 55,
   "metadata": {},
   "outputs": [
    {
     "data": {
      "text/plain": [
       "[1, 9, 3]"
      ]
     },
     "execution_count": 55,
     "metadata": {},
     "output_type": "execute_result"
    }
   ],
   "source": [
    "list(factors(9))"
   ]
  },
  {
   "cell_type": "code",
   "execution_count": 149,
   "metadata": {},
   "outputs": [
    {
     "name": "stdout",
     "output_type": "stream",
     "text": [
      "5\n",
      "5\n",
      "15\n",
      "-5\n",
      "1\n",
      "5\n",
      "5\n"
     ]
    }
   ],
   "source": [
    "class Payment():\n",
    "    b = 1\n",
    "    __c = 5\n",
    "    def __init__(self,price):\n",
    "        self.__price = price\n",
    "    def get_price(self,coupon):\n",
    "        return print(self.__price - self.__discount(coupon))\n",
    "    def __discount(self,coupon):\n",
    "        print(coupon*1)\n",
    "        return coupon*1\n",
    "    def try_(self):\n",
    "        return self.get_price(15)\n",
    "    def whats_b(self):\n",
    "        return print(self.__c)\n",
    "\n",
    "a = Payment(10)\n",
    "# a.__price = 11\n",
    "a.get_price(5)\n",
    "a.try_()\n",
    "print(a.__class__.b)\n",
    "a.whats_b()\n",
    "a.c = 19\n",
    "a.whats_b()"
   ]
  },
  {
   "cell_type": "code",
   "execution_count": 103,
   "metadata": {},
   "outputs": [
    {
     "name": "stdout",
     "output_type": "stream",
     "text": [
      "900\n",
      "900\n",
      "1000\n"
     ]
    }
   ],
   "source": [
    "class Computer:\n",
    "    def __init__(self):\n",
    "        self.__maxprice = 900\n",
    "    def sell(self):\n",
    "        print(self.__maxprice)\n",
    "    def setMaxPrice(self,price):\n",
    "        self.__maxprice = price\n",
    "    \n",
    "c= Computer()\n",
    "c.sell()\n",
    "c.__maxprice = 1000\n",
    "c.sell()\n",
    "c.setMaxPrice(1000)\n",
    "c.sell()"
   ]
  },
  {
   "cell_type": "code",
   "execution_count": 136,
   "metadata": {},
   "outputs": [
    {
     "name": "stdout",
     "output_type": "stream",
     "text": [
      "This is  1\n",
      "This is  3\n",
      "meh 2\n",
      "meh 3\n"
     ]
    }
   ],
   "source": [
    "class Parent():\n",
    "    def __init__(self,a):\n",
    "        self.a = a\n",
    "    def print_var(self):\n",
    "        return print(\"This is \",self.a)\n",
    "\n",
    "class Child(Parent):\n",
    "    def __init__(self,a,b):\n",
    "        Parent.__init__(self,a)\n",
    "        self.b = b\n",
    "    def print_var(self):\n",
    "        Parent.print_var(self)\n",
    "        print(\"meh\",self.b)\n",
    "        print(\"meh\",self.a)\n",
    "\n",
    "p = Parent(1)\n",
    "p.print_var()\n",
    "c = Child(3,2)\n",
    "c.print_var()"
   ]
  },
  {
   "cell_type": "code",
   "execution_count": null,
   "metadata": {},
   "outputs": [],
   "source": [
    "class GP:\n",
    "    def __init__(self):\n",
    "        print('gp')\n",
    "    def gp_(self,name):\n",
    "        print(name)\n",
    "class P(GP):\n",
    "    def __init__(self):\n",
    "        print('p')\n",
    "    def p_name(self,name):\n",
    "        GP.gp_(name)\n",
    "class C(P):\n",
    "    def __init__(self):\n",
    "        print('c')\n",
    "    def c_name(self):\n",
    "        super().gp_('blah')\n",
    "\n",
    "c = C()\n",
    "c.c_name()\n",
    "print(C.__mro__)"
   ]
  },
  {
   "cell_type": "code",
   "execution_count": null,
   "metadata": {},
   "outputs": [],
   "source": [
    "def partition(A,p,r):\n",
    "    i = p - 1\n",
    "    x = A[r]\n",
    "    for j in range(p,r):\n",
    "        if A[j] <= x:\n",
    "            i = i + 1\n",
    "            A[i],A[j] = A[j],A[i]\n",
    "            j = j + 1\n",
    "        else:\n",
    "            j = j + 1\n",
    "    A[i+1],A[r] = A[r],A[i+1]\n",
    "    return i + 1\n",
    "\n",
    "def quick_sort(A,p,r):\n",
    "    if p<r:\n",
    "        q = partition(A,p,r)\n",
    "        quick_sort(A,p,q-1)\n",
    "        quick_sort(A,q+1,r)"
   ]
  },
  {
   "cell_type": "code",
   "execution_count": null,
   "metadata": {},
   "outputs": [],
   "source": [
    "D = [78,3,47,10,5,67]\n",
    "quick_sort(D,0,5)\n",
    "D"
   ]
  }
 ],
 "metadata": {
  "interpreter": {
   "hash": "f95d9307f45ddfb406dd09f6e4b2fa70e170c66451c4561bc8b2afdb5e53bc6a"
  },
  "kernelspec": {
   "display_name": "Python 3.7.4 64-bit ('base': conda)",
   "name": "python3"
  },
  "language_info": {
   "codemirror_mode": {
    "name": "ipython",
    "version": 3
   },
   "file_extension": ".py",
   "mimetype": "text/x-python",
   "name": "python",
   "nbconvert_exporter": "python",
   "pygments_lexer": "ipython3",
   "version": "3.7.11"
  },
  "orig_nbformat": 4
 },
 "nbformat": 4,
 "nbformat_minor": 2
}
