{
 "cells": [
  {
   "cell_type": "code",
   "execution_count": 1,
   "source": [
    "import math"
   ],
   "outputs": [],
   "metadata": {}
  },
  {
   "cell_type": "code",
   "execution_count": 2,
   "source": [
    "def f(index,s):\n",
    "    if index == len(s)-1:\n",
    "        return s[index]\n",
    "    else:\n",
    "        return s[index] + f(index+1,s)\n",
    "a = [1,2,3,4,5]\n",
    "print(f(0,a))"
   ],
   "outputs": [
    {
     "output_type": "stream",
     "name": "stdout",
     "text": [
      "15\n"
     ]
    }
   ],
   "metadata": {}
  },
  {
   "cell_type": "code",
   "execution_count": 91,
   "source": [
    "def g(index,a):\n",
    "    if index < math.ceil(len(a)/2):\n",
    "        a[index],a[len(a)-1-index] = a[len(a)-1-index],a[index]\n",
    "        g(index+1,a)"
   ],
   "outputs": [],
   "metadata": {}
  },
  {
   "cell_type": "code",
   "execution_count": 92,
   "source": [
    "a = [1,2,3,4,5]\n",
    "g(0,a)\n",
    "print(a)"
   ],
   "outputs": [
    {
     "output_type": "stream",
     "name": "stdout",
     "text": [
      "[5, 4, 3, 2, 1]\n"
     ]
    }
   ],
   "metadata": {}
  },
  {
   "cell_type": "code",
   "execution_count": 25,
   "source": [
    "def power(n,i,x):\n",
    "    if i == n:\n",
    "        return 1\n",
    "    else:\n",
    "        return x*power(n,i+1,x)"
   ],
   "outputs": [],
   "metadata": {}
  },
  {
   "cell_type": "code",
   "execution_count": 26,
   "source": [
    "power(3,0,5)"
   ],
   "outputs": [
    {
     "output_type": "execute_result",
     "data": {
      "text/plain": [
       "125"
      ]
     },
     "metadata": {},
     "execution_count": 26
    }
   ],
   "metadata": {}
  },
  {
   "cell_type": "code",
   "execution_count": 41,
   "source": [
    "def snn(x,c,o):\n",
    "    if c == len(str(o)):\n",
    "        return 0\n",
    "    else:\n",
    "        return x%10 + snn(int(x/10),c+1,o)\n",
    "\n",
    "print(snn(123,0,123))"
   ],
   "outputs": [
    {
     "output_type": "stream",
     "name": "stdout",
     "text": [
      "6\n"
     ]
    }
   ],
   "metadata": {}
  }
 ],
 "metadata": {
  "orig_nbformat": 4,
  "language_info": {
   "name": "python",
   "version": "3.7.4",
   "mimetype": "text/x-python",
   "codemirror_mode": {
    "name": "ipython",
    "version": 3
   },
   "pygments_lexer": "ipython3",
   "nbconvert_exporter": "python",
   "file_extension": ".py"
  },
  "kernelspec": {
   "name": "python3",
   "display_name": "Python 3.7.4 64-bit ('base': conda)"
  },
  "interpreter": {
   "hash": "5e32c17b15a225dea6058845226a4c80c1a365e65777d5c14d0fccc08bcf000f"
  }
 },
 "nbformat": 4,
 "nbformat_minor": 2
}