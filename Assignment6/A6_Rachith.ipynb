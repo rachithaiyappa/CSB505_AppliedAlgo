{
 "cells": [
  {
   "cell_type": "code",
   "execution_count": 53,
   "metadata": {},
   "outputs": [],
   "source": [
    "import numpy as np\n",
    "import copy\n",
    "from scipy.stats import multivariate_normal\n",
    "from mpl_toolkits.mplot3d import Axes3D\n",
    "import matplotlib.pyplot as plt"
   ]
  },
  {
   "cell_type": "code",
   "execution_count": 54,
   "metadata": {},
   "outputs": [],
   "source": [
    "# # create data set\n",
    "# n = 400\n",
    "# _mus = np.array([[0,4], [-2,0]])\n",
    "# _sigmas = np.array([[[3, 0], [0, 0.5]], [[1,0],[0,2]]])\n",
    "# _pis = np.array([0.6, 0.4])\n",
    "# X = np.concatenate([np.random.multivariate_normal(mu, sigma, int(pi*n))\n",
    "#                     for pi, mu, sigma in zip(_pis, _mus, _sigmas)])"
   ]
  },
  {
   "cell_type": "code",
   "execution_count": 63,
   "metadata": {},
   "outputs": [],
   "source": [
    "n=200\n",
    "#number of samples per class: n\n",
    "k=2\n",
    "#number of classes: k\n",
    "d=20\n",
    "#dimensionality of samples: d\n",
    "mus=np.random.random((k,d))*20-10 \n",
    "#mean of the multivariate normal distribution | mus[i,j] is the mean for the ith cluster at the jth dimension\n",
    "sigma=[np.eye(d) for i in range(k)]\n",
    "#standard deviations are all assumed to be one. As the covariance matrix is identity the dimensions can be sampled independently\n",
    "Pc=np.ones(k)/k\n",
    "#setting priors: Pc\n",
    "\n",
    "#Data Generation\n",
    "X=[]\n",
    "for i in range(n):\n",
    "    for j in range(k):\n",
    "#for each class generate n tuples of size d, taken from the distribution N(mus[j],1)\n",
    "        point=[mean+np.random.randn() for mean in mus[j]]\n",
    "        X.append(point)\n",
    "#we have our dataset, where each point is a d+1 dimensional tuple where the last position represents its class \n",
    "\n",
    "X = np.asarray(X)"
   ]
  },
  {
   "cell_type": "code",
   "execution_count": 64,
   "metadata": {},
   "outputs": [],
   "source": [
    "def w_mat(i,j):\n",
    "    a = multivariate_normal.pdf(\\\n",
    "            X[index_matrix[i][j][0]],\\\n",
    "            mean=new_mus[index_matrix[i][j][1]],\\\n",
    "            cov=new_cov[index_matrix[i][j][1]],\\\n",
    "            allow_singular=True\\\n",
    "        )\n",
    "    b = new_priors[index_matrix[i][j][1]]\n",
    "    return a*b\n",
    "\n",
    "def tabulate(x, y, f):\n",
    "   \"\"\"Return a table of f(x, y).\"\"\"\n",
    "   #* is to unpack the two arrays which results after meshing\n",
    "   return np.vectorize(f)( * np.meshgrid(x, y))\n",
    "\n",
    "index_matrix = np.empty((X.shape[0],k),dtype=(int,2))\n",
    "for i in range(index_matrix.shape[0]):\n",
    "    for j in range(index_matrix.shape[1]):\n",
    "        index_matrix[i][j] = (i,j)\n",
    "\n",
    "def covid(n,m):\n",
    "    co_vid = np.zeros((X.shape[1],X.shape[1]),dtype=float)\n",
    "    for j in range(n):\n",
    "        co_vid += W[m][j] * (((X[j] - new_mus[m]).T) @ (X[j] - new_mus[m]))\n",
    "    return co_vid"
   ]
  },
  {
   "cell_type": "code",
   "execution_count": 65,
   "metadata": {},
   "outputs": [
    {
     "name": "stdout",
     "output_type": "stream",
     "text": [
      "original [[ 9.3245812   0.5296101  -9.59451463  2.90523913  7.72276314 -7.03474969\n",
      "  -4.43897938 -9.23632433  1.91075747 -3.32392836  4.77153665 -9.04291385\n",
      "  -7.28017799 -7.69842459 -5.97750666  1.12609287 -3.00322687 -4.50392705\n",
      "  -3.535464    4.02610131]\n",
      " [ 1.93188837 -2.21976769 -0.17026397 -8.82440586  4.83892254 -7.46240162\n",
      "  -2.80778848  4.43408338  0.33350465  7.47506202  3.63597541  0.64503608\n",
      "  -5.06098391 -6.82372625 -6.186499    8.0411551   0.80941609  2.21286556\n",
      "  -1.59051185  3.89947242]]\n",
      "initial [[-9.97037695 -7.21373906 -3.3346758   2.79657627 -0.23382936  2.84576267\n",
      "   3.53766019 -5.88931316  0.5341006   2.58665388  5.25635066 -2.55223427\n",
      "   1.02799173 -0.32911589  3.38927196 -3.61101785  0.01985154 -1.66840223\n",
      "  -1.75980248  7.82593534]\n",
      " [-1.6382292  -9.1761404  -3.23233198  1.41536052  4.28643041 -4.76309466\n",
      "  -0.0330121   4.22555311  6.92729808  3.66943127 -8.33436951  4.5909301\n",
      "   2.8130274  -5.27306773 -6.35157472  6.56069929 -9.85399015  3.79680416\n",
      "   1.42822165 -1.23462412]]\n",
      "final 7 [[ 9.3245812   0.5296101  -9.59451463  2.90523913  7.72276314 -7.03474969\n",
      "  -4.43897938 -9.23632433  1.91075747 -3.32392836  4.77153665 -9.04291385\n",
      "  -7.28017799 -7.69842459 -5.97750666  1.12609287 -3.00322687 -4.50392705\n",
      "  -3.535464    4.02610131]\n",
      " [ 1.93188837 -2.21976769 -0.17026397 -8.82440586  4.83892254 -7.46240162\n",
      "  -2.80778848  4.43408338  0.33350465  7.47506202  3.63597541  0.64503608\n",
      "  -5.06098391 -6.82372625 -6.186499    8.0411551   0.80941609  2.21286556\n",
      "  -1.59051185  3.89947242]]\n"
     ]
    }
   ],
   "source": [
    "d = X.shape[1]\n",
    "n = X.shape[0]\n",
    "# old_mus = np.array([np.random.rand(d) for _ in range(k)])\n",
    "# random_rows = np.random.choice(X.shape[0], size=k, replace=False)\n",
    "# old_mus = copy.deepcopy(X[random_rows, :])\n",
    "old_mus = np.random.random((k,d))*20-10 \n",
    "# old_mus = np.random.random((k,d))*np.max(X)-np.min(X)\n",
    "new_mus = copy.deepcopy(old_mus)\n",
    "print('original',mus)\n",
    "print(\"initial\", new_mus)\n",
    "\n",
    "old_cov = np.asarray([np.eye(d) for _ in range(k)])\n",
    "new_cov = copy.deepcopy(old_cov)\n",
    "\n",
    "old_priors = np.full((k),1/k)\n",
    "new_priors = copy.deepcopy(old_priors)\n",
    "\n",
    "eps = 1e-7\n",
    "t = 0\n",
    "obt_eps = 1\n",
    "while (obt_eps > eps) or (t==0):\n",
    "    t += 1\n",
    "\n",
    "    #unnormalised\n",
    "    W_temp = copy.deepcopy(tabulate(list(range(X.shape[0])),list(range(k)),w_mat))\n",
    "    temp = copy.deepcopy(W_temp)\n",
    "    #normalised\n",
    "    W = copy.deepcopy(temp/temp.sum(axis=0))\n",
    "    # W = copy.deepcopy(W_temp)\n",
    "\n",
    "    #get sum of W for each cluster\n",
    "    temp = copy.deepcopy(W)\n",
    "    sum_w = copy.deepcopy(temp.sum(axis=1))\n",
    "\n",
    "\n",
    "    old_mus = copy.deepcopy(new_mus)\n",
    "    #unnormalised\n",
    "    new_mus_temp = copy.deepcopy(W @ X)\n",
    "    temp = copy.deepcopy(new_mus_temp)\n",
    "    #normalised\n",
    "    new_mus = copy.deepcopy(temp/sum_w[:,None])\n",
    "    # print(t,new_mus)\n",
    "\n",
    "    old_cov = copy.deepcopy(new_cov)\n",
    "    new_cov_temp = copy.deepcopy([covid(n,a) for a in range(k)])\n",
    "    temp = copy.deepcopy(new_cov_temp)\n",
    "    new_cov = copy.deepcopy([temp[a]/sum_w[a] for a in range(k)])\n",
    "\n",
    "    old_priors = copy.deepcopy(new_priors)\n",
    "    #normalised\n",
    "    new_priors = copy.deepcopy(sum_w/n)\n",
    "    obt_eps = np.sum([np.linalg.norm(new_mus[a]-old_mus[a]) for a in range(k)])\n",
    "    # print(\"eps2\",meh)\n",
    "\n",
    "print(\"final\", t,mus)\n"
   ]
  },
  {
   "cell_type": "code",
   "execution_count": 66,
   "metadata": {},
   "outputs": [],
   "source": [
    "# print('Original means of the data for class 1 are: {} and the predicted means are {}'.format(mus[0],means[0]))\n",
    "# print('Original means of the data for class 2 are: {} and the predicted means are {}'.format(mus[1],means[1]))\n",
    "# print('The Original covariance matrix is an Identity matrix for both the classes.')\n",
    "# print('Predicted covariance matrices of the data for class 1 is: \\n {} \\n and for class 2 is \\n {}'.format(sigmas[0],sigmas[1]))\n"
   ]
  },
  {
   "cell_type": "code",
   "execution_count": null,
   "metadata": {},
   "outputs": [],
   "source": []
  },
  {
   "cell_type": "code",
   "execution_count": null,
   "metadata": {},
   "outputs": [],
   "source": []
  }
 ],
 "metadata": {
  "interpreter": {
   "hash": "f95d9307f45ddfb406dd09f6e4b2fa70e170c66451c4561bc8b2afdb5e53bc6a"
  },
  "kernelspec": {
   "display_name": "Python 3.7.4 64-bit ('base': conda)",
   "name": "python3"
  },
  "language_info": {
   "codemirror_mode": {
    "name": "ipython",
    "version": 3
   },
   "file_extension": ".py",
   "mimetype": "text/x-python",
   "name": "python",
   "nbconvert_exporter": "python",
   "pygments_lexer": "ipython3",
   "version": "3.7.4"
  },
  "orig_nbformat": 4
 },
 "nbformat": 4,
 "nbformat_minor": 2
}
